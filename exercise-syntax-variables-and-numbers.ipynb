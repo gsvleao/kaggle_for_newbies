{
 "cells": [
  {
   "cell_type": "markdown",
   "id": "22801474",
   "metadata": {
    "papermill": {
     "duration": 0.02939,
     "end_time": "2022-03-28T23:26:45.700655",
     "exception": false,
     "start_time": "2022-03-28T23:26:45.671265",
     "status": "completed"
    },
    "tags": []
   },
   "source": [
    "**This notebook is an exercise in the [Python](https://www.kaggle.com/learn/python) course.  You can reference the tutorial at [this link](https://www.kaggle.com/colinmorris/hello-python).**\n",
    "\n",
    "---\n"
   ]
  },
  {
   "cell_type": "markdown",
   "id": "c81437bb",
   "metadata": {
    "papermill": {
     "duration": 0.027702,
     "end_time": "2022-03-28T23:26:45.759518",
     "exception": false,
     "start_time": "2022-03-28T23:26:45.731816",
     "status": "completed"
    },
    "tags": []
   },
   "source": [
    "Welcome to your first set of Python coding problems.  If this is your first time using Kaggle Notebooks, welcome! \n",
    "\n",
    "Notebooks are composed of blocks (called \"cells\") of text and code. Each of these is editable, though you'll mainly be editing the code cells to answer some questions.\n",
    "\n",
    "To get started, try running the code cell below (by pressing the ► button, or clicking on the cell and pressing ctrl+enter on your keyboard)."
   ]
  },
  {
   "cell_type": "code",
   "execution_count": 1,
   "id": "2d51ddce",
   "metadata": {
    "execution": {
     "iopub.execute_input": "2022-03-28T23:26:45.823299Z",
     "iopub.status.busy": "2022-03-28T23:26:45.822096Z",
     "iopub.status.idle": "2022-03-28T23:26:45.832064Z",
     "shell.execute_reply": "2022-03-28T23:26:45.832960Z",
     "shell.execute_reply.started": "2022-03-28T23:00:11.976777Z"
    },
    "papermill": {
     "duration": 0.045423,
     "end_time": "2022-03-28T23:26:45.833385",
     "exception": false,
     "start_time": "2022-03-28T23:26:45.787962",
     "status": "completed"
    },
    "tags": []
   },
   "outputs": [
    {
     "name": "stdout",
     "output_type": "stream",
     "text": [
      "You've successfully run some Python code\n",
      "Congratulations!\n"
     ]
    }
   ],
   "source": [
    "print(\"You've successfully run some Python code\")\n",
    "print(\"Congratulations!\")"
   ]
  },
  {
   "cell_type": "code",
   "execution_count": null,
   "id": "e9554efd",
   "metadata": {
    "papermill": {
     "duration": 0.028885,
     "end_time": "2022-03-28T23:26:45.894417",
     "exception": false,
     "start_time": "2022-03-28T23:26:45.865532",
     "status": "completed"
    },
    "tags": []
   },
   "outputs": [],
   "source": []
  },
  {
   "cell_type": "code",
   "execution_count": null,
   "id": "e005abb6",
   "metadata": {
    "papermill": {
     "duration": 0.027989,
     "end_time": "2022-03-28T23:26:45.952137",
     "exception": false,
     "start_time": "2022-03-28T23:26:45.924148",
     "status": "completed"
    },
    "tags": []
   },
   "outputs": [],
   "source": []
  },
  {
   "cell_type": "code",
   "execution_count": null,
   "id": "737e643a",
   "metadata": {
    "papermill": {
     "duration": 0.030299,
     "end_time": "2022-03-28T23:26:46.011229",
     "exception": false,
     "start_time": "2022-03-28T23:26:45.980930",
     "status": "completed"
    },
    "tags": []
   },
   "outputs": [],
   "source": []
  },
  {
   "cell_type": "markdown",
   "id": "34891753",
   "metadata": {
    "papermill": {
     "duration": 0.027925,
     "end_time": "2022-03-28T23:26:46.073509",
     "exception": false,
     "start_time": "2022-03-28T23:26:46.045584",
     "status": "completed"
    },
    "tags": []
   },
   "source": [
    "Try adding another line of code in the cell above and re-running it. \n",
    "\n",
    "Now let's get a little fancier:  Add a new code cell by clicking on an existing code cell, hitting the escape key, and then hitting the `a` or `b` key.  The `a` key will add a cell above the current cell, and `b` adds a cell below.\n",
    "\n",
    "Great! Now you know how to use Notebooks.\n",
    "\n",
    "Each hands-on exercise starts by setting up our feedback and code checking mechanism. Run the code cell below to do that. Then you'll be ready to move on to question 0."
   ]
  },
  {
   "cell_type": "code",
   "execution_count": 2,
   "id": "72a17da8",
   "metadata": {
    "_kg_hide-input": true,
    "_kg_hide-output": true,
    "execution": {
     "iopub.execute_input": "2022-03-28T23:26:46.136617Z",
     "iopub.status.busy": "2022-03-28T23:26:46.135933Z",
     "iopub.status.idle": "2022-03-28T23:26:46.183370Z",
     "shell.execute_reply": "2022-03-28T23:26:46.182774Z",
     "shell.execute_reply.started": "2022-03-28T23:02:02.596915Z"
    },
    "papermill": {
     "duration": 0.081104,
     "end_time": "2022-03-28T23:26:46.183520",
     "exception": false,
     "start_time": "2022-03-28T23:26:46.102416",
     "status": "completed"
    },
    "tags": []
   },
   "outputs": [
    {
     "name": "stdout",
     "output_type": "stream",
     "text": [
      "Setup complete! You're ready to start question 0.\n"
     ]
    }
   ],
   "source": [
    "from learntools.core import binder; binder.bind(globals())\n",
    "from learntools.python.ex1 import *\n",
    "print(\"Setup complete! You're ready to start question 0.\")"
   ]
  },
  {
   "cell_type": "markdown",
   "id": "770ed6ca",
   "metadata": {
    "papermill": {
     "duration": 0.029303,
     "end_time": "2022-03-28T23:26:46.243628",
     "exception": false,
     "start_time": "2022-03-28T23:26:46.214325",
     "status": "completed"
    },
    "tags": []
   },
   "source": [
    "# 0.\n",
    "\n",
    "*This is a silly question intended as an introduction to the format we use for hands-on exercises throughout all Kaggle courses.*\n",
    "\n",
    "**What is your favorite color? **\n",
    "\n",
    "To complete this question, create a variable called `color` in the cell below with an appropriate value. The function call `q0.check()` (which we've already provided in the cell below) will check your answer."
   ]
  },
  {
   "cell_type": "code",
   "execution_count": 3,
   "id": "2fa69b3b",
   "metadata": {
    "execution": {
     "iopub.execute_input": "2022-03-28T23:26:46.304813Z",
     "iopub.status.busy": "2022-03-28T23:26:46.303836Z",
     "iopub.status.idle": "2022-03-28T23:26:46.316062Z",
     "shell.execute_reply": "2022-03-28T23:26:46.316739Z",
     "shell.execute_reply.started": "2022-03-28T23:08:54.678764Z"
    },
    "papermill": {
     "duration": 0.044623,
     "end_time": "2022-03-28T23:26:46.316916",
     "exception": false,
     "start_time": "2022-03-28T23:26:46.272293",
     "status": "completed"
    },
    "tags": []
   },
   "outputs": [
    {
     "name": "stdout",
     "output_type": "stream",
     "text": [
      "blue\n"
     ]
    },
    {
     "data": {
      "application/javascript": [
       "parent.postMessage({\"jupyterEvent\": \"custom.exercise_interaction\", \"data\": {\"outcomeType\": 1, \"valueTowardsCompletion\": 0.25, \"interactionType\": 1, \"questionType\": 2, \"questionId\": \"0_ExerciseFormatTutorial\", \"learnToolsVersion\": \"0.3.4\", \"failureMessage\": \"\", \"exceptionClass\": \"\", \"trace\": \"\"}}, \"*\")"
      ],
      "text/plain": [
       "<IPython.core.display.Javascript object>"
      ]
     },
     "metadata": {},
     "output_type": "display_data"
    },
    {
     "data": {
      "text/markdown": [
       "<span style=\"color:#33cc33\">Correct:</span> What?! You got it right without needing a hint or anything? Drats. Well hey, you should still continue to the next step to get some practice asking for a hint and checking solutions. (Even though you obviously don't need any help here.)"
      ],
      "text/plain": [
       "Correct: What?! You got it right without needing a hint or anything? Drats. Well hey, you should still continue to the next step to get some practice asking for a hint and checking solutions. (Even though you obviously don't need any help here.)"
      ]
     },
     "metadata": {},
     "output_type": "display_data"
    }
   ],
   "source": [
    "# create a variable called color with an appropriate value on the line below\n",
    "# (Remember, strings in Python must be enclosed in 'single' or \"double\" quotes)\n",
    "color = \"blue\"\n",
    "print(color)\n",
    "\n",
    "# Check your answer\n",
    "q0.check()"
   ]
  },
  {
   "cell_type": "markdown",
   "id": "91d00a38",
   "metadata": {
    "papermill": {
     "duration": 0.030095,
     "end_time": "2022-03-28T23:26:46.378145",
     "exception": false,
     "start_time": "2022-03-28T23:26:46.348050",
     "status": "completed"
    },
    "tags": []
   },
   "source": [
    "Didn't get the right answer? How do you not even know your own favorite color?!\n",
    "\n",
    "Delete the `#` in the line below to make one of the lines run. You can choose between getting a hint or the full answer by choosing which line to remove the `#` from. \n",
    "\n",
    "Removing the `#` is called uncommenting, because it changes that line from a \"comment\" which Python doesn't run to code, which Python does run."
   ]
  },
  {
   "cell_type": "code",
   "execution_count": 4,
   "id": "46eec358",
   "metadata": {
    "execution": {
     "iopub.execute_input": "2022-03-28T23:26:46.442854Z",
     "iopub.status.busy": "2022-03-28T23:26:46.442169Z",
     "iopub.status.idle": "2022-03-28T23:26:46.445754Z",
     "shell.execute_reply": "2022-03-28T23:26:46.446368Z",
     "shell.execute_reply.started": "2022-03-28T23:08:31.027444Z"
    },
    "papermill": {
     "duration": 0.037946,
     "end_time": "2022-03-28T23:26:46.446558",
     "exception": false,
     "start_time": "2022-03-28T23:26:46.408612",
     "status": "completed"
    },
    "tags": []
   },
   "outputs": [],
   "source": [
    "#q0.hint()\n",
    "#q0.solution()"
   ]
  },
  {
   "cell_type": "markdown",
   "id": "8e240c9b",
   "metadata": {
    "papermill": {
     "duration": 0.030112,
     "end_time": "2022-03-28T23:26:46.507449",
     "exception": false,
     "start_time": "2022-03-28T23:26:46.477337",
     "status": "completed"
    },
    "tags": []
   },
   "source": [
    "The upcoming questions work the same way. The only thing that will change are the question numbers. For the next question, you'll call `q1.check()`, `q1.hint()`, `q1.solution()`, for question 2, you'll call `q2.check()`, and so on."
   ]
  },
  {
   "cell_type": "markdown",
   "id": "a80da34f",
   "metadata": {
    "papermill": {
     "duration": 0.030011,
     "end_time": "2022-03-28T23:26:46.568036",
     "exception": false,
     "start_time": "2022-03-28T23:26:46.538025",
     "status": "completed"
    },
    "tags": []
   },
   "source": [
    "<hr/>\n",
    "\n",
    "# 1.\n",
    "\n",
    "Complete the code below. In case it's helpful, here is the table of available arithmetic operations:\n",
    "\n",
    "\n",
    "\n",
    "| Operator     | Name           | Description                                            |\n",
    "|--------------|----------------|--------------------------------------------------------|\n",
    "| ``a + b``    | Addition       | Sum of ``a`` and ``b``                                 |\n",
    "| ``a - b``    | Subtraction    | Difference of ``a`` and ``b``                          |\n",
    "| ``a * b``    | Multiplication | Product of ``a`` and ``b``                             |\n",
    "| ``a / b``    | True division  | Quotient of ``a`` and ``b``                            |\n",
    "| ``a // b``   | Floor division | Quotient of ``a`` and ``b``, removing fractional parts |\n",
    "| ``a % b``    | Modulus        | Integer remainder after division of ``a`` by ``b``     |\n",
    "| ``a ** b``   | Exponentiation | ``a`` raised to the power of ``b``                     |\n",
    "| ``-a``       | Negation       | The negative of ``a``                                  |\n",
    "\n",
    "<span style=\"display:none\"></span>\n"
   ]
  },
  {
   "cell_type": "code",
   "execution_count": 5,
   "id": "fbc2ba48",
   "metadata": {
    "execution": {
     "iopub.execute_input": "2022-03-28T23:26:46.631911Z",
     "iopub.status.busy": "2022-03-28T23:26:46.631153Z",
     "iopub.status.idle": "2022-03-28T23:26:46.638682Z",
     "shell.execute_reply": "2022-03-28T23:26:46.639287Z",
     "shell.execute_reply.started": "2022-03-28T23:12:49.897984Z"
    },
    "papermill": {
     "duration": 0.04122,
     "end_time": "2022-03-28T23:26:46.639454",
     "exception": false,
     "start_time": "2022-03-28T23:26:46.598234",
     "status": "completed"
    },
    "tags": []
   },
   "outputs": [
    {
     "data": {
      "application/javascript": [
       "parent.postMessage({\"jupyterEvent\": \"custom.exercise_interaction\", \"data\": {\"outcomeType\": 1, \"valueTowardsCompletion\": 0.25, \"interactionType\": 1, \"questionType\": 1, \"questionId\": \"1_CircleArea\", \"learnToolsVersion\": \"0.3.4\", \"failureMessage\": \"\", \"exceptionClass\": \"\", \"trace\": \"\"}}, \"*\")"
      ],
      "text/plain": [
       "<IPython.core.display.Javascript object>"
      ]
     },
     "metadata": {},
     "output_type": "display_data"
    },
    {
     "data": {
      "text/markdown": [
       "<span style=\"color:#33cc33\">Correct</span>"
      ],
      "text/plain": [
       "Correct"
      ]
     },
     "metadata": {},
     "output_type": "display_data"
    }
   ],
   "source": [
    "pi = 3.14159 # approximate\n",
    "diameter = 3\n",
    "\n",
    "# Create a variable called 'radius' equal to half the diameter\n",
    "radius = diameter / 2\n",
    "\n",
    "# Create a variable called 'area', using the formula for the area of a circle: pi times the radius squared\n",
    "area = pi * (radius ** 2)\n",
    "\n",
    "# Check your answer\n",
    "q1.check()"
   ]
  },
  {
   "cell_type": "code",
   "execution_count": 6,
   "id": "742f5d82",
   "metadata": {
    "execution": {
     "iopub.execute_input": "2022-03-28T23:26:46.706208Z",
     "iopub.status.busy": "2022-03-28T23:26:46.705505Z",
     "iopub.status.idle": "2022-03-28T23:26:46.709214Z",
     "shell.execute_reply": "2022-03-28T23:26:46.709779Z"
    },
    "papermill": {
     "duration": 0.039078,
     "end_time": "2022-03-28T23:26:46.709951",
     "exception": false,
     "start_time": "2022-03-28T23:26:46.670873",
     "status": "completed"
    },
    "tags": []
   },
   "outputs": [],
   "source": [
    "# Uncomment and run the lines below if you need help.\n",
    "#q1.hint()\n",
    "#q1.solution()"
   ]
  },
  {
   "cell_type": "markdown",
   "id": "97299dc0",
   "metadata": {
    "papermill": {
     "duration": 0.031634,
     "end_time": "2022-03-28T23:26:46.773895",
     "exception": false,
     "start_time": "2022-03-28T23:26:46.742261",
     "status": "completed"
    },
    "tags": []
   },
   "source": [
    "<hr/>\n",
    "\n",
    "# 2.\n",
    "\n",
    "Add code to the following cell to swap variables `a` and `b` (so that `a` refers to the object previously referred to by `b` and vice versa)."
   ]
  },
  {
   "cell_type": "code",
   "execution_count": null,
   "id": "d75fcb53",
   "metadata": {
    "execution": {
     "iopub.execute_input": "2022-03-28T23:15:57.043689Z",
     "iopub.status.busy": "2022-03-28T23:15:57.043339Z",
     "iopub.status.idle": "2022-03-28T23:15:57.048115Z",
     "shell.execute_reply": "2022-03-28T23:15:57.047445Z",
     "shell.execute_reply.started": "2022-03-28T23:15:57.043648Z"
    },
    "papermill": {
     "duration": 0.031273,
     "end_time": "2022-03-28T23:26:46.837907",
     "exception": false,
     "start_time": "2022-03-28T23:26:46.806634",
     "status": "completed"
    },
    "tags": []
   },
   "outputs": [],
   "source": []
  },
  {
   "cell_type": "code",
   "execution_count": 7,
   "id": "77482d2f",
   "metadata": {
    "execution": {
     "iopub.execute_input": "2022-03-28T23:26:46.907981Z",
     "iopub.status.busy": "2022-03-28T23:26:46.903772Z",
     "iopub.status.idle": "2022-03-28T23:26:46.913416Z",
     "shell.execute_reply": "2022-03-28T23:26:46.912766Z",
     "shell.execute_reply.started": "2022-03-28T23:17:07.894237Z"
    },
    "papermill": {
     "duration": 0.044198,
     "end_time": "2022-03-28T23:26:46.913622",
     "exception": false,
     "start_time": "2022-03-28T23:26:46.869424",
     "status": "completed"
    },
    "tags": []
   },
   "outputs": [
    {
     "data": {
      "application/javascript": [
       "parent.postMessage({\"jupyterEvent\": \"custom.exercise_interaction\", \"data\": {\"outcomeType\": 1, \"valueTowardsCompletion\": 0.25, \"interactionType\": 1, \"questionType\": 2, \"questionId\": \"2_VariableSwap\", \"learnToolsVersion\": \"0.3.4\", \"failureMessage\": \"\", \"exceptionClass\": \"\", \"trace\": \"\"}}, \"*\")"
      ],
      "text/plain": [
       "<IPython.core.display.Javascript object>"
      ]
     },
     "metadata": {},
     "output_type": "display_data"
    },
    {
     "data": {
      "text/markdown": [
       "<span style=\"color:#33cc33\">Correct:</span> \n",
       "\n",
       "The most straightforward solution is to use a third variable to temporarily store one of the old values. e.g.:\n",
       "\n",
       "    tmp = a\n",
       "    a = b\n",
       "    b = tmp\n",
       "\n",
       "If you've read lots of Python code, you might have seen the following trick to swap two variables in one line:\n",
       "\n",
       "    a, b = b, a\n",
       "\n",
       "We'll demystify this bit of Python magic later when we talk about *tuples*."
      ],
      "text/plain": [
       "Correct: \n",
       "\n",
       "The most straightforward solution is to use a third variable to temporarily store one of the old values. e.g.:\n",
       "\n",
       "    tmp = a\n",
       "    a = b\n",
       "    b = tmp\n",
       "\n",
       "If you've read lots of Python code, you might have seen the following trick to swap two variables in one line:\n",
       "\n",
       "    a, b = b, a\n",
       "\n",
       "We'll demystify this bit of Python magic later when we talk about *tuples*."
      ]
     },
     "metadata": {},
     "output_type": "display_data"
    }
   ],
   "source": [
    "########### Setup code - don't touch this part ######################\n",
    "# If you're curious, these are examples of lists. We'll talk about \n",
    "# them in depth a few lessons from now. For now, just know that they're\n",
    "# yet another type of Python object, like int or float.\n",
    "a = [1, 2, 3]\n",
    "b = [3, 2, 1]\n",
    "q2.store_original_ids()\n",
    "######################################################################\n",
    "\n",
    "# Your code goes here. Swap the values to which a and b refer.\n",
    "# If you get stuck, you can always uncomment one or both of the lines in\n",
    "# the next cell for a hint, or to peek at the solution.\n",
    "c = a\n",
    "a = b\n",
    "b = c\n",
    "\n",
    "# a, b = b, a\n",
    "\n",
    "######################################################################\n",
    "\n",
    "# Check your answer\n",
    "q2.check()"
   ]
  },
  {
   "cell_type": "code",
   "execution_count": 8,
   "id": "40d11fea",
   "metadata": {
    "execution": {
     "iopub.execute_input": "2022-03-28T23:26:46.985595Z",
     "iopub.status.busy": "2022-03-28T23:26:46.984909Z",
     "iopub.status.idle": "2022-03-28T23:26:46.987983Z",
     "shell.execute_reply": "2022-03-28T23:26:46.988481Z",
     "shell.execute_reply.started": "2022-03-28T23:15:00.135169Z"
    },
    "papermill": {
     "duration": 0.041617,
     "end_time": "2022-03-28T23:26:46.988722",
     "exception": false,
     "start_time": "2022-03-28T23:26:46.947105",
     "status": "completed"
    },
    "tags": []
   },
   "outputs": [],
   "source": [
    "#q2.hint()"
   ]
  },
  {
   "cell_type": "code",
   "execution_count": 9,
   "id": "7c26cf79",
   "metadata": {
    "execution": {
     "iopub.execute_input": "2022-03-28T23:26:47.059942Z",
     "iopub.status.busy": "2022-03-28T23:26:47.059281Z",
     "iopub.status.idle": "2022-03-28T23:26:47.062257Z",
     "shell.execute_reply": "2022-03-28T23:26:47.062854Z"
    },
    "papermill": {
     "duration": 0.040039,
     "end_time": "2022-03-28T23:26:47.063024",
     "exception": false,
     "start_time": "2022-03-28T23:26:47.022985",
     "status": "completed"
    },
    "tags": []
   },
   "outputs": [],
   "source": [
    "#q2.solution()"
   ]
  },
  {
   "cell_type": "markdown",
   "id": "6dbd11b5",
   "metadata": {
    "papermill": {
     "duration": 0.033963,
     "end_time": "2022-03-28T23:26:47.130622",
     "exception": false,
     "start_time": "2022-03-28T23:26:47.096659",
     "status": "completed"
    },
    "tags": []
   },
   "source": [
    "<hr/>\n",
    "\n",
    "# 3a.\n",
    "\n",
    "Add parentheses to the following expression so that it evaluates to 1."
   ]
  },
  {
   "cell_type": "code",
   "execution_count": 10,
   "id": "3fcccdb9",
   "metadata": {
    "execution": {
     "iopub.execute_input": "2022-03-28T23:26:47.203777Z",
     "iopub.status.busy": "2022-03-28T23:26:47.203135Z",
     "iopub.status.idle": "2022-03-28T23:26:47.208190Z",
     "shell.execute_reply": "2022-03-28T23:26:47.208780Z",
     "shell.execute_reply.started": "2022-03-28T23:19:05.234414Z"
    },
    "papermill": {
     "duration": 0.041598,
     "end_time": "2022-03-28T23:26:47.208957",
     "exception": false,
     "start_time": "2022-03-28T23:26:47.167359",
     "status": "completed"
    },
    "tags": []
   },
   "outputs": [
    {
     "data": {
      "text/plain": [
       "1"
      ]
     },
     "execution_count": 10,
     "metadata": {},
     "output_type": "execute_result"
    }
   ],
   "source": [
    "(5 - 3) // 2"
   ]
  },
  {
   "cell_type": "code",
   "execution_count": 11,
   "id": "e7e77a6b",
   "metadata": {
    "execution": {
     "iopub.execute_input": "2022-03-28T23:26:47.282658Z",
     "iopub.status.busy": "2022-03-28T23:26:47.281979Z",
     "iopub.status.idle": "2022-03-28T23:26:47.285105Z",
     "shell.execute_reply": "2022-03-28T23:26:47.285709Z"
    },
    "papermill": {
     "duration": 0.041606,
     "end_time": "2022-03-28T23:26:47.285890",
     "exception": false,
     "start_time": "2022-03-28T23:26:47.244284",
     "status": "completed"
    },
    "tags": []
   },
   "outputs": [],
   "source": [
    "#q3.a.hint()"
   ]
  },
  {
   "cell_type": "code",
   "execution_count": 12,
   "id": "1f604856",
   "metadata": {
    "execution": {
     "iopub.execute_input": "2022-03-28T23:26:47.359180Z",
     "iopub.status.busy": "2022-03-28T23:26:47.358473Z",
     "iopub.status.idle": "2022-03-28T23:26:47.364378Z",
     "shell.execute_reply": "2022-03-28T23:26:47.364999Z",
     "shell.execute_reply.started": "2022-03-28T23:19:10.843747Z"
    },
    "papermill": {
     "duration": 0.043919,
     "end_time": "2022-03-28T23:26:47.365180",
     "exception": false,
     "start_time": "2022-03-28T23:26:47.321261",
     "status": "completed"
    },
    "tags": []
   },
   "outputs": [
    {
     "data": {
      "application/javascript": [
       "parent.postMessage({\"jupyterEvent\": \"custom.exercise_interaction\", \"data\": {\"interactionType\": 3, \"questionType\": 4, \"questionId\": \"3.1_ArithmeticParensEasy\", \"learnToolsVersion\": \"0.3.4\", \"valueTowardsCompletion\": 0.0, \"failureMessage\": \"\", \"exceptionClass\": \"\", \"trace\": \"\", \"outcomeType\": 4}}, \"*\")"
      ],
      "text/plain": [
       "<IPython.core.display.Javascript object>"
      ]
     },
     "metadata": {},
     "output_type": "display_data"
    },
    {
     "data": {
      "text/markdown": [
       "<span style=\"color:#33cc99\">Solution:</span> \n",
       "```python\n",
       "(5 - 3) // 2\n",
       "```"
      ],
      "text/plain": [
       "Solution: \n",
       "```python\n",
       "(5 - 3) // 2\n",
       "```"
      ]
     },
     "metadata": {},
     "output_type": "display_data"
    }
   ],
   "source": [
    "# Check your answer (Run this code cell to receive credit!)\n",
    "q3.a.solution()"
   ]
  },
  {
   "cell_type": "markdown",
   "id": "254cad0c",
   "metadata": {
    "papermill": {
     "duration": 0.035291,
     "end_time": "2022-03-28T23:26:47.435551",
     "exception": false,
     "start_time": "2022-03-28T23:26:47.400260",
     "status": "completed"
    },
    "tags": []
   },
   "source": [
    "# 3b.  <span title=\"A bit spicy\" style=\"color: darkgreen \">🌶️</span>\n",
    "\n",
    "<small>Questions, like this one, marked a spicy pepper are a bit harder.</small>\n",
    "\n",
    "Add parentheses to the following expression so that it evaluates to 0."
   ]
  },
  {
   "cell_type": "code",
   "execution_count": 13,
   "id": "5524ef49",
   "metadata": {
    "execution": {
     "iopub.execute_input": "2022-03-28T23:26:47.510079Z",
     "iopub.status.busy": "2022-03-28T23:26:47.509424Z",
     "iopub.status.idle": "2022-03-28T23:26:47.514541Z",
     "shell.execute_reply": "2022-03-28T23:26:47.515197Z",
     "shell.execute_reply.started": "2022-03-28T23:21:56.443363Z"
    },
    "papermill": {
     "duration": 0.043439,
     "end_time": "2022-03-28T23:26:47.515367",
     "exception": false,
     "start_time": "2022-03-28T23:26:47.471928",
     "status": "completed"
    },
    "tags": []
   },
   "outputs": [
    {
     "data": {
      "text/plain": [
       "0"
      ]
     },
     "execution_count": 13,
     "metadata": {},
     "output_type": "execute_result"
    }
   ],
   "source": [
    "8 - 3 * 2 - (1 + 1)\n",
    "\n",
    "# (8 - 3) * (2 - (1 + 1))"
   ]
  },
  {
   "cell_type": "code",
   "execution_count": 14,
   "id": "c082c4b6",
   "metadata": {
    "execution": {
     "iopub.execute_input": "2022-03-28T23:26:47.591113Z",
     "iopub.status.busy": "2022-03-28T23:26:47.590451Z",
     "iopub.status.idle": "2022-03-28T23:26:47.593304Z",
     "shell.execute_reply": "2022-03-28T23:26:47.593790Z"
    },
    "papermill": {
     "duration": 0.04284,
     "end_time": "2022-03-28T23:26:47.593967",
     "exception": false,
     "start_time": "2022-03-28T23:26:47.551127",
     "status": "completed"
    },
    "tags": []
   },
   "outputs": [],
   "source": [
    "#q3.b.hint()"
   ]
  },
  {
   "cell_type": "code",
   "execution_count": 15,
   "id": "766c2229",
   "metadata": {
    "execution": {
     "iopub.execute_input": "2022-03-28T23:26:47.670915Z",
     "iopub.status.busy": "2022-03-28T23:26:47.670221Z",
     "iopub.status.idle": "2022-03-28T23:26:47.675786Z",
     "shell.execute_reply": "2022-03-28T23:26:47.676283Z",
     "shell.execute_reply.started": "2022-03-28T23:22:19.243657Z"
    },
    "papermill": {
     "duration": 0.046696,
     "end_time": "2022-03-28T23:26:47.676450",
     "exception": false,
     "start_time": "2022-03-28T23:26:47.629754",
     "status": "completed"
    },
    "tags": []
   },
   "outputs": [
    {
     "data": {
      "application/javascript": [
       "parent.postMessage({\"jupyterEvent\": \"custom.exercise_interaction\", \"data\": {\"interactionType\": 3, \"questionType\": 4, \"questionId\": \"3.2_ArithmeticParensHard\", \"learnToolsVersion\": \"0.3.4\", \"valueTowardsCompletion\": 0.0, \"failureMessage\": \"\", \"exceptionClass\": \"\", \"trace\": \"\", \"outcomeType\": 4}}, \"*\")"
      ],
      "text/plain": [
       "<IPython.core.display.Javascript object>"
      ]
     },
     "metadata": {},
     "output_type": "display_data"
    },
    {
     "data": {
      "text/markdown": [
       "<span style=\"color:#33cc99\">Solution:</span> `(8 - 3) * (2 - (1 + 1))` is one solution. There may be others."
      ],
      "text/plain": [
       "Solution: `(8 - 3) * (2 - (1 + 1))` is one solution. There may be others."
      ]
     },
     "metadata": {},
     "output_type": "display_data"
    }
   ],
   "source": [
    "# Check your answer (Run this code cell to receive credit!)\n",
    "q3.b.solution()"
   ]
  },
  {
   "cell_type": "markdown",
   "id": "4b56cf08",
   "metadata": {
    "papermill": {
     "duration": 0.036545,
     "end_time": "2022-03-28T23:26:47.750673",
     "exception": false,
     "start_time": "2022-03-28T23:26:47.714128",
     "status": "completed"
    },
    "tags": []
   },
   "source": [
    "<hr/>\n",
    "\n",
    "# 4. \n",
    "Alice, Bob and Carol have agreed to pool their Halloween candy and split it evenly among themselves.\n",
    "For the sake of their friendship, any candies left over will be smashed. For example, if they collectively\n",
    "bring home 91 candies, they'll take 30 each and smash 1.\n",
    "\n",
    "Write an arithmetic expression below to calculate how many candies they must smash for a given haul."
   ]
  },
  {
   "cell_type": "code",
   "execution_count": 16,
   "id": "5fbf22f8",
   "metadata": {
    "execution": {
     "iopub.execute_input": "2022-03-28T23:26:47.830072Z",
     "iopub.status.busy": "2022-03-28T23:26:47.829389Z",
     "iopub.status.idle": "2022-03-28T23:26:47.836597Z",
     "shell.execute_reply": "2022-03-28T23:26:47.837144Z",
     "shell.execute_reply.started": "2022-03-28T23:25:25.920828Z"
    },
    "papermill": {
     "duration": 0.049762,
     "end_time": "2022-03-28T23:26:47.837318",
     "exception": false,
     "start_time": "2022-03-28T23:26:47.787556",
     "status": "completed"
    },
    "tags": []
   },
   "outputs": [
    {
     "data": {
      "application/javascript": [
       "parent.postMessage({\"jupyterEvent\": \"custom.exercise_interaction\", \"data\": {\"outcomeType\": 1, \"valueTowardsCompletion\": 0.25, \"interactionType\": 1, \"questionType\": 1, \"questionId\": \"4_CandySplitting\", \"learnToolsVersion\": \"0.3.4\", \"failureMessage\": \"\", \"exceptionClass\": \"\", \"trace\": \"\"}}, \"*\")"
      ],
      "text/plain": [
       "<IPython.core.display.Javascript object>"
      ]
     },
     "metadata": {},
     "output_type": "display_data"
    },
    {
     "data": {
      "text/markdown": [
       "<span style=\"color:#33cc33\">Correct</span>"
      ],
      "text/plain": [
       "Correct"
      ]
     },
     "metadata": {},
     "output_type": "display_data"
    }
   ],
   "source": [
    "# Variables representing the number of candies collected by alice, bob, and carol\n",
    "alice_candies = 121\n",
    "bob_candies = 77\n",
    "carol_candies = 109\n",
    "\n",
    "# Your code goes here! Replace the right-hand side of this assignment with an expression\n",
    "# involving alice_candies, bob_candies, and carol_candies\n",
    "to_smash = (alice_candies + bob_candies + carol_candies) % 3\n",
    "\n",
    "# Check your answer\n",
    "q4.check()"
   ]
  },
  {
   "cell_type": "code",
   "execution_count": 17,
   "id": "0e2c021e",
   "metadata": {
    "execution": {
     "iopub.execute_input": "2022-03-28T23:26:47.918141Z",
     "iopub.status.busy": "2022-03-28T23:26:47.917448Z",
     "iopub.status.idle": "2022-03-28T23:26:47.920052Z",
     "shell.execute_reply": "2022-03-28T23:26:47.920602Z"
    },
    "papermill": {
     "duration": 0.04543,
     "end_time": "2022-03-28T23:26:47.920810",
     "exception": false,
     "start_time": "2022-03-28T23:26:47.875380",
     "status": "completed"
    },
    "tags": []
   },
   "outputs": [],
   "source": [
    "#q4.hint()\n",
    "#q4.solution()"
   ]
  },
  {
   "cell_type": "markdown",
   "id": "6776269a",
   "metadata": {
    "papermill": {
     "duration": 0.039158,
     "end_time": "2022-03-28T23:26:47.998382",
     "exception": false,
     "start_time": "2022-03-28T23:26:47.959224",
     "status": "completed"
    },
    "tags": []
   },
   "source": [
    "# Keep Going\n",
    "\n",
    "Next up, you'll **[learn to write new functions and understand functions others write](https://www.kaggle.com/colinmorris/functions-and-getting-help)**. This will make you at least 10 times more productive as a Python programmer. "
   ]
  },
  {
   "cell_type": "markdown",
   "id": "29917b35",
   "metadata": {
    "papermill": {
     "duration": 0.038373,
     "end_time": "2022-03-28T23:26:48.076869",
     "exception": false,
     "start_time": "2022-03-28T23:26:48.038496",
     "status": "completed"
    },
    "tags": []
   },
   "source": [
    "---\n",
    "\n",
    "\n",
    "\n",
    "\n",
    "*Have questions or comments? Visit the [course discussion forum](https://www.kaggle.com/learn/python/discussion) to chat with other learners.*"
   ]
  }
 ],
 "metadata": {
  "kernelspec": {
   "display_name": "Python 3",
   "language": "python",
   "name": "python3"
  },
  "language_info": {
   "codemirror_mode": {
    "name": "ipython",
    "version": 3
   },
   "file_extension": ".py",
   "mimetype": "text/x-python",
   "name": "python",
   "nbconvert_exporter": "python",
   "pygments_lexer": "ipython3",
   "version": "3.7.12"
  },
  "papermill": {
   "default_parameters": {},
   "duration": 13.569982,
   "end_time": "2022-03-28T23:26:48.725915",
   "environment_variables": {},
   "exception": null,
   "input_path": "__notebook__.ipynb",
   "output_path": "__notebook__.ipynb",
   "parameters": {},
   "start_time": "2022-03-28T23:26:35.155933",
   "version": "2.3.3"
  }
 },
 "nbformat": 4,
 "nbformat_minor": 5
}
