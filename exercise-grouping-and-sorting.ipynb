{
 "cells": [
  {
   "cell_type": "markdown",
   "id": "854c1cd5",
   "metadata": {
    "papermill": {
     "duration": 0.023604,
     "end_time": "2022-03-15T18:36:04.066621",
     "exception": false,
     "start_time": "2022-03-15T18:36:04.043017",
     "status": "completed"
    },
    "tags": []
   },
   "source": [
    "**This notebook is an exercise in the [Pandas](https://www.kaggle.com/learn/pandas) course.  You can reference the tutorial at [this link](https://www.kaggle.com/residentmario/grouping-and-sorting).**\n",
    "\n",
    "---\n"
   ]
  },
  {
   "cell_type": "markdown",
   "id": "d6a45469",
   "metadata": {
    "papermill": {
     "duration": 0.021295,
     "end_time": "2022-03-15T18:36:04.111598",
     "exception": false,
     "start_time": "2022-03-15T18:36:04.090303",
     "status": "completed"
    },
    "tags": []
   },
   "source": [
    "# Introduction\n",
    "\n",
    "In these exercises we'll apply groupwise analysis to our dataset.\n",
    "\n",
    "Run the code cell below to load the data before running the exercises."
   ]
  },
  {
   "cell_type": "code",
   "execution_count": 1,
   "id": "110498cb",
   "metadata": {
    "execution": {
     "iopub.execute_input": "2022-03-15T18:36:04.159425Z",
     "iopub.status.busy": "2022-03-15T18:36:04.158215Z",
     "iopub.status.idle": "2022-03-15T18:36:07.072263Z",
     "shell.execute_reply": "2022-03-15T18:36:07.072919Z",
     "shell.execute_reply.started": "2022-03-15T18:14:32.149737Z"
    },
    "papermill": {
     "duration": 2.939916,
     "end_time": "2022-03-15T18:36:07.073223",
     "exception": false,
     "start_time": "2022-03-15T18:36:04.133307",
     "status": "completed"
    },
    "tags": []
   },
   "outputs": [
    {
     "name": "stdout",
     "output_type": "stream",
     "text": [
      "Setup complete.\n"
     ]
    }
   ],
   "source": [
    "import pandas as pd\n",
    "\n",
    "reviews = pd.read_csv(\"../input/wine-reviews/winemag-data-130k-v2.csv\", index_col=0)\n",
    "#pd.set_option(\"display.max_rows\", 5)\n",
    "\n",
    "from learntools.core import binder; binder.bind(globals())\n",
    "from learntools.pandas.grouping_and_sorting import *\n",
    "print(\"Setup complete.\")"
   ]
  },
  {
   "cell_type": "markdown",
   "id": "469b64e8",
   "metadata": {
    "papermill": {
     "duration": 0.021814,
     "end_time": "2022-03-15T18:36:07.117944",
     "exception": false,
     "start_time": "2022-03-15T18:36:07.096130",
     "status": "completed"
    },
    "tags": []
   },
   "source": [
    "# Exercises"
   ]
  },
  {
   "cell_type": "markdown",
   "id": "3b84bac2",
   "metadata": {
    "papermill": {
     "duration": 0.021744,
     "end_time": "2022-03-15T18:36:07.161888",
     "exception": false,
     "start_time": "2022-03-15T18:36:07.140144",
     "status": "completed"
    },
    "tags": []
   },
   "source": [
    "## 1.\n",
    "Who are the most common wine reviewers in the dataset? Create a `Series` whose index is the `taster_twitter_handle` category from the dataset, and whose values count how many reviews each person wrote."
   ]
  },
  {
   "cell_type": "code",
   "execution_count": 2,
   "id": "ef535e95",
   "metadata": {
    "execution": {
     "iopub.execute_input": "2022-03-15T18:36:07.227520Z",
     "iopub.status.busy": "2022-03-15T18:36:07.226398Z",
     "iopub.status.idle": "2022-03-15T18:36:07.238580Z",
     "shell.execute_reply": "2022-03-15T18:36:07.239145Z",
     "shell.execute_reply.started": "2022-03-15T18:14:34.854396Z"
    },
    "papermill": {
     "duration": 0.055441,
     "end_time": "2022-03-15T18:36:07.239315",
     "exception": false,
     "start_time": "2022-03-15T18:36:07.183874",
     "status": "completed"
    },
    "tags": []
   },
   "outputs": [
    {
     "name": "stdout",
     "output_type": "stream",
     "text": [
      "taster_twitter_handle\n",
      "@AnneInVino          3685\n",
      "@JoeCz               5147\n",
      "@bkfiona               27\n",
      "@gordone_cellars     4177\n",
      "@kerinokeefe        10776\n",
      "@laurbuzz            1835\n",
      "@mattkettmann        6332\n",
      "@paulgwine           9532\n",
      "@suskostrzewa        1085\n",
      "@vboone              9537\n",
      "@vossroger          25514\n",
      "@wawinereport        4966\n",
      "@wineschach         15134\n",
      "@winewchristina         6\n",
      "@worldwineguys       1005\n",
      "Name: points, dtype: int64\n"
     ]
    },
    {
     "data": {
      "application/javascript": [
       "parent.postMessage({\"jupyterEvent\": \"custom.exercise_interaction\", \"data\": {\"outcomeType\": 1, \"valueTowardsCompletion\": 0.16666666666666666, \"interactionType\": 1, \"questionType\": 1, \"questionId\": \"1_ReviewsWritten\", \"learnToolsVersion\": \"0.3.4\", \"failureMessage\": \"\", \"exceptionClass\": \"\", \"trace\": \"\"}}, \"*\")"
      ],
      "text/plain": [
       "<IPython.core.display.Javascript object>"
      ]
     },
     "metadata": {},
     "output_type": "display_data"
    },
    {
     "data": {
      "text/markdown": [
       "<span style=\"color:#33cc33\">Correct:</span> \n",
       "\n",
       "\n",
       "```python\n",
       "reviews_written = reviews.groupby('taster_twitter_handle').size()\n",
       "```\n",
       "or\n",
       "```python\n",
       "reviews_written = reviews.groupby('taster_twitter_handle').taster_twitter_handle.count()\n",
       "```\n"
      ],
      "text/plain": [
       "Correct: \n",
       "\n",
       "\n",
       "```python\n",
       "reviews_written = reviews.groupby('taster_twitter_handle').size()\n",
       "```\n",
       "or\n",
       "```python\n",
       "reviews_written = reviews.groupby('taster_twitter_handle').taster_twitter_handle.count()\n",
       "```"
      ]
     },
     "metadata": {},
     "output_type": "display_data"
    }
   ],
   "source": [
    "# Your code here\n",
    "# reviews_written = reviews.groupby(['taster_name', 'points']).apply(lambda df: df.taster_twitter_handle.iloc[0])\n",
    "# reviews.groupby(['taster_name', 'points', 'taster_twitter_handle']).taster_name.agg([len])\n",
    "\n",
    "reviews_written = reviews.groupby('taster_twitter_handle').points.count()\n",
    "print(reviews_written)\n",
    "# Check your answer\n",
    "q1.check()"
   ]
  },
  {
   "cell_type": "code",
   "execution_count": 3,
   "id": "1697c4b2",
   "metadata": {
    "execution": {
     "iopub.execute_input": "2022-03-15T18:36:07.290332Z",
     "iopub.status.busy": "2022-03-15T18:36:07.289712Z",
     "iopub.status.idle": "2022-03-15T18:36:07.292590Z",
     "shell.execute_reply": "2022-03-15T18:36:07.293162Z",
     "shell.execute_reply.started": "2022-03-15T18:14:34.879243Z"
    },
    "papermill": {
     "duration": 0.03047,
     "end_time": "2022-03-15T18:36:07.293337",
     "exception": false,
     "start_time": "2022-03-15T18:36:07.262867",
     "status": "completed"
    },
    "tags": []
   },
   "outputs": [],
   "source": [
    "#q1.hint()\n",
    "#q1.solution()"
   ]
  },
  {
   "cell_type": "markdown",
   "id": "4b547c2b",
   "metadata": {
    "papermill": {
     "duration": 0.023489,
     "end_time": "2022-03-15T18:36:07.340476",
     "exception": false,
     "start_time": "2022-03-15T18:36:07.316987",
     "status": "completed"
    },
    "tags": []
   },
   "source": [
    "## 2.\n",
    "What is the best wine I can buy for a given amount of money? Create a `Series` whose index is wine prices and whose values is the maximum number of points a wine costing that much was given in a review. Sort the values by price, ascending (so that `4.0` dollars is at the top and `3300.0` dollars is at the bottom)."
   ]
  },
  {
   "cell_type": "code",
   "execution_count": 4,
   "id": "5378b55d",
   "metadata": {
    "execution": {
     "iopub.execute_input": "2022-03-15T18:36:07.393132Z",
     "iopub.status.busy": "2022-03-15T18:36:07.392441Z",
     "iopub.status.idle": "2022-03-15T18:36:07.407292Z",
     "shell.execute_reply": "2022-03-15T18:36:07.407852Z",
     "shell.execute_reply.started": "2022-03-15T18:17:55.672538Z"
    },
    "papermill": {
     "duration": 0.042027,
     "end_time": "2022-03-15T18:36:07.408016",
     "exception": false,
     "start_time": "2022-03-15T18:36:07.365989",
     "status": "completed"
    },
    "tags": []
   },
   "outputs": [
    {
     "name": "stdout",
     "output_type": "stream",
     "text": [
      "price\n",
      "4.0       86\n",
      "5.0       87\n",
      "6.0       88\n",
      "7.0       91\n",
      "8.0       91\n",
      "          ..\n",
      "1900.0    98\n",
      "2000.0    97\n",
      "2013.0    91\n",
      "2500.0    96\n",
      "3300.0    88\n",
      "Name: points, Length: 390, dtype: int64\n"
     ]
    },
    {
     "data": {
      "application/javascript": [
       "parent.postMessage({\"jupyterEvent\": \"custom.exercise_interaction\", \"data\": {\"outcomeType\": 1, \"valueTowardsCompletion\": 0.16666666666666666, \"interactionType\": 1, \"questionType\": 1, \"questionId\": \"2_BestRatingPerPrice\", \"learnToolsVersion\": \"0.3.4\", \"failureMessage\": \"\", \"exceptionClass\": \"\", \"trace\": \"\"}}, \"*\")"
      ],
      "text/plain": [
       "<IPython.core.display.Javascript object>"
      ]
     },
     "metadata": {},
     "output_type": "display_data"
    },
    {
     "data": {
      "text/markdown": [
       "<span style=\"color:#33cc33\">Correct</span>"
      ],
      "text/plain": [
       "Correct"
      ]
     },
     "metadata": {},
     "output_type": "display_data"
    }
   ],
   "source": [
    "best_rating_per_price = reviews.groupby('price').points.max()\n",
    "print(best_rating_per_price)\n",
    "\n",
    "# Check your answer\n",
    "q2.check()"
   ]
  },
  {
   "cell_type": "code",
   "execution_count": 5,
   "id": "3ac2cf7a",
   "metadata": {
    "execution": {
     "iopub.execute_input": "2022-03-15T18:36:07.462350Z",
     "iopub.status.busy": "2022-03-15T18:36:07.461744Z",
     "iopub.status.idle": "2022-03-15T18:36:07.465775Z",
     "shell.execute_reply": "2022-03-15T18:36:07.466202Z",
     "shell.execute_reply.started": "2022-03-15T18:14:34.906836Z"
    },
    "papermill": {
     "duration": 0.033121,
     "end_time": "2022-03-15T18:36:07.466378",
     "exception": false,
     "start_time": "2022-03-15T18:36:07.433257",
     "status": "completed"
    },
    "tags": []
   },
   "outputs": [],
   "source": [
    "#q2.hint()\n",
    "#q2.solution()"
   ]
  },
  {
   "cell_type": "markdown",
   "id": "d52f6995",
   "metadata": {
    "papermill": {
     "duration": 0.02472,
     "end_time": "2022-03-15T18:36:07.516423",
     "exception": false,
     "start_time": "2022-03-15T18:36:07.491703",
     "status": "completed"
    },
    "tags": []
   },
   "source": [
    "## 3.\n",
    "What are the minimum and maximum prices for each `variety` of wine? Create a `DataFrame` whose index is the `variety` category from the dataset and whose values are the `min` and `max` values thereof."
   ]
  },
  {
   "cell_type": "code",
   "execution_count": 6,
   "id": "128a560e",
   "metadata": {
    "execution": {
     "iopub.execute_input": "2022-03-15T18:36:07.577381Z",
     "iopub.status.busy": "2022-03-15T18:36:07.576719Z",
     "iopub.status.idle": "2022-03-15T18:36:07.607712Z",
     "shell.execute_reply": "2022-03-15T18:36:07.608185Z",
     "shell.execute_reply.started": "2022-03-15T18:18:59.521139Z"
    },
    "papermill": {
     "duration": 0.066766,
     "end_time": "2022-03-15T18:36:07.608360",
     "exception": false,
     "start_time": "2022-03-15T18:36:07.541594",
     "status": "completed"
    },
    "tags": []
   },
   "outputs": [
    {
     "name": "stdout",
     "output_type": "stream",
     "text": [
      "              min    max\n",
      "variety                 \n",
      "Abouriou     15.0   75.0\n",
      "Agiorgitiko  10.0   66.0\n",
      "Aglianico     6.0  180.0\n",
      "Aidani       27.0   27.0\n",
      "Airen         8.0   10.0\n",
      "...           ...    ...\n",
      "Zinfandel     5.0  100.0\n",
      "Zlahtina     13.0   16.0\n",
      "Zweigelt      9.0   70.0\n",
      "Çalkarası    19.0   19.0\n",
      "Žilavka      15.0   15.0\n",
      "\n",
      "[707 rows x 2 columns]\n"
     ]
    },
    {
     "data": {
      "application/javascript": [
       "parent.postMessage({\"jupyterEvent\": \"custom.exercise_interaction\", \"data\": {\"outcomeType\": 1, \"valueTowardsCompletion\": 0.16666666666666666, \"interactionType\": 1, \"questionType\": 1, \"questionId\": \"3_PriceExtremes\", \"learnToolsVersion\": \"0.3.4\", \"failureMessage\": \"\", \"exceptionClass\": \"\", \"trace\": \"\"}}, \"*\")"
      ],
      "text/plain": [
       "<IPython.core.display.Javascript object>"
      ]
     },
     "metadata": {},
     "output_type": "display_data"
    },
    {
     "data": {
      "text/markdown": [
       "<span style=\"color:#33cc33\">Correct</span>"
      ],
      "text/plain": [
       "Correct"
      ]
     },
     "metadata": {},
     "output_type": "display_data"
    }
   ],
   "source": [
    "price_extremes = reviews.groupby(['variety']).price.agg([min, max])\n",
    "print(price_extremes)\n",
    "\n",
    "# Check your answer\n",
    "q3.check()"
   ]
  },
  {
   "cell_type": "code",
   "execution_count": 7,
   "id": "462363e6",
   "metadata": {
    "execution": {
     "iopub.execute_input": "2022-03-15T18:36:07.665794Z",
     "iopub.status.busy": "2022-03-15T18:36:07.665156Z",
     "iopub.status.idle": "2022-03-15T18:36:07.668768Z",
     "shell.execute_reply": "2022-03-15T18:36:07.668187Z",
     "shell.execute_reply.started": "2022-03-15T18:14:34.953036Z"
    },
    "papermill": {
     "duration": 0.033354,
     "end_time": "2022-03-15T18:36:07.668907",
     "exception": false,
     "start_time": "2022-03-15T18:36:07.635553",
     "status": "completed"
    },
    "tags": []
   },
   "outputs": [],
   "source": [
    "#q3.hint()\n",
    "#q3.solution()"
   ]
  },
  {
   "cell_type": "markdown",
   "id": "429958f7",
   "metadata": {
    "papermill": {
     "duration": 0.026666,
     "end_time": "2022-03-15T18:36:07.722457",
     "exception": false,
     "start_time": "2022-03-15T18:36:07.695791",
     "status": "completed"
    },
    "tags": []
   },
   "source": [
    "## 4.\n",
    "What are the most expensive wine varieties? Create a variable `sorted_varieties` containing a copy of the dataframe from the previous question where varieties are sorted in descending order based on minimum price, then on maximum price (to break ties)."
   ]
  },
  {
   "cell_type": "code",
   "execution_count": 8,
   "id": "4fb2a455",
   "metadata": {
    "execution": {
     "iopub.execute_input": "2022-03-15T18:36:07.800086Z",
     "iopub.status.busy": "2022-03-15T18:36:07.799378Z",
     "iopub.status.idle": "2022-03-15T18:36:07.816556Z",
     "shell.execute_reply": "2022-03-15T18:36:07.817031Z",
     "shell.execute_reply.started": "2022-03-15T18:21:08.307960Z"
    },
    "papermill": {
     "duration": 0.067078,
     "end_time": "2022-03-15T18:36:07.817203",
     "exception": false,
     "start_time": "2022-03-15T18:36:07.750125",
     "status": "completed"
    },
    "tags": []
   },
   "outputs": [
    {
     "name": "stdout",
     "output_type": "stream",
     "text": [
      "                                  min    max\n",
      "variety                                     \n",
      "Ramisco                         495.0  495.0\n",
      "Terrantez                       236.0  236.0\n",
      "Francisa                        160.0  160.0\n",
      "Rosenmuskateller                150.0  150.0\n",
      "Tinta Negra Mole                112.0  112.0\n",
      "...                               ...    ...\n",
      "Roscetto                          NaN    NaN\n",
      "Sauvignon Blanc-Sauvignon Gris    NaN    NaN\n",
      "Tempranillo-Malbec                NaN    NaN\n",
      "Vital                             NaN    NaN\n",
      "Zelen                             NaN    NaN\n",
      "\n",
      "[707 rows x 2 columns]\n"
     ]
    },
    {
     "data": {
      "application/javascript": [
       "parent.postMessage({\"jupyterEvent\": \"custom.exercise_interaction\", \"data\": {\"outcomeType\": 1, \"valueTowardsCompletion\": 0.16666666666666666, \"interactionType\": 1, \"questionType\": 1, \"questionId\": \"4_SortedVarieties\", \"learnToolsVersion\": \"0.3.4\", \"failureMessage\": \"\", \"exceptionClass\": \"\", \"trace\": \"\"}}, \"*\")"
      ],
      "text/plain": [
       "<IPython.core.display.Javascript object>"
      ]
     },
     "metadata": {},
     "output_type": "display_data"
    },
    {
     "data": {
      "text/markdown": [
       "<span style=\"color:#33cc33\">Correct</span>"
      ],
      "text/plain": [
       "Correct"
      ]
     },
     "metadata": {},
     "output_type": "display_data"
    }
   ],
   "source": [
    "sorted_varieties = reviews.groupby(['variety']).price.agg([min, max]).sort_values(by=['min', 'max'], ascending=False)\n",
    "print(sorted_varieties)\n",
    "\n",
    "# Check your answer\n",
    "q4.check()"
   ]
  },
  {
   "cell_type": "code",
   "execution_count": 9,
   "id": "2715fb5f",
   "metadata": {
    "execution": {
     "iopub.execute_input": "2022-03-15T18:36:07.878842Z",
     "iopub.status.busy": "2022-03-15T18:36:07.878014Z",
     "iopub.status.idle": "2022-03-15T18:36:07.881395Z",
     "shell.execute_reply": "2022-03-15T18:36:07.880822Z",
     "shell.execute_reply.started": "2022-03-15T18:14:34.994944Z"
    },
    "papermill": {
     "duration": 0.035722,
     "end_time": "2022-03-15T18:36:07.881559",
     "exception": false,
     "start_time": "2022-03-15T18:36:07.845837",
     "status": "completed"
    },
    "tags": []
   },
   "outputs": [],
   "source": [
    "#q4.hint()\n",
    "#q4.solution()"
   ]
  },
  {
   "cell_type": "markdown",
   "id": "6ed93935",
   "metadata": {
    "papermill": {
     "duration": 0.028669,
     "end_time": "2022-03-15T18:36:07.938926",
     "exception": false,
     "start_time": "2022-03-15T18:36:07.910257",
     "status": "completed"
    },
    "tags": []
   },
   "source": [
    "## 5.\n",
    "Create a `Series` whose index is reviewers and whose values is the average review score given out by that reviewer. Hint: you will need the `taster_name` and `points` columns."
   ]
  },
  {
   "cell_type": "code",
   "execution_count": 10,
   "id": "297a398b",
   "metadata": {
    "execution": {
     "iopub.execute_input": "2022-03-15T18:36:08.018078Z",
     "iopub.status.busy": "2022-03-15T18:36:08.017079Z",
     "iopub.status.idle": "2022-03-15T18:36:08.028235Z",
     "shell.execute_reply": "2022-03-15T18:36:08.027683Z",
     "shell.execute_reply.started": "2022-03-15T18:29:12.225432Z"
    },
    "papermill": {
     "duration": 0.060695,
     "end_time": "2022-03-15T18:36:08.028373",
     "exception": false,
     "start_time": "2022-03-15T18:36:07.967678",
     "status": "completed"
    },
    "tags": []
   },
   "outputs": [
    {
     "name": "stdout",
     "output_type": "stream",
     "text": [
      "taster_twitter_handle\n",
      "@AnneInVino          3685\n",
      "@JoeCz               5147\n",
      "@bkfiona               27\n",
      "@gordone_cellars     4177\n",
      "@kerinokeefe        10776\n",
      "@laurbuzz            1835\n",
      "@mattkettmann        6332\n",
      "@paulgwine           9532\n",
      "@suskostrzewa        1085\n",
      "@vboone              9537\n",
      "@vossroger          25514\n",
      "@wawinereport        4966\n",
      "@wineschach         15134\n",
      "@winewchristina         6\n",
      "@worldwineguys       1005\n",
      "Name: points, dtype: int64\n"
     ]
    },
    {
     "data": {
      "application/javascript": [
       "parent.postMessage({\"jupyterEvent\": \"custom.exercise_interaction\", \"data\": {\"outcomeType\": 1, \"valueTowardsCompletion\": 0.16666666666666666, \"interactionType\": 1, \"questionType\": 1, \"questionId\": \"5_ReviewerMeanRatings\", \"learnToolsVersion\": \"0.3.4\", \"failureMessage\": \"\", \"exceptionClass\": \"\", \"trace\": \"\"}}, \"*\")"
      ],
      "text/plain": [
       "<IPython.core.display.Javascript object>"
      ]
     },
     "metadata": {},
     "output_type": "display_data"
    },
    {
     "data": {
      "text/markdown": [
       "<span style=\"color:#33cc33\">Correct</span>"
      ],
      "text/plain": [
       "Correct"
      ]
     },
     "metadata": {},
     "output_type": "display_data"
    }
   ],
   "source": [
    "reviewer_mean_ratings = reviews.groupby('taster_name').points.mean()\n",
    "print(reviews_written)\n",
    "\n",
    "# Check your answer\n",
    "q5.check()"
   ]
  },
  {
   "cell_type": "code",
   "execution_count": 11,
   "id": "a78aa6a2",
   "metadata": {
    "execution": {
     "iopub.execute_input": "2022-03-15T18:36:08.094721Z",
     "iopub.status.busy": "2022-03-15T18:36:08.093676Z",
     "iopub.status.idle": "2022-03-15T18:36:08.096491Z",
     "shell.execute_reply": "2022-03-15T18:36:08.095872Z",
     "shell.execute_reply.started": "2022-03-15T18:14:35.033616Z"
    },
    "papermill": {
     "duration": 0.037396,
     "end_time": "2022-03-15T18:36:08.096645",
     "exception": false,
     "start_time": "2022-03-15T18:36:08.059249",
     "status": "completed"
    },
    "tags": []
   },
   "outputs": [],
   "source": [
    "#q5.hint()\n",
    "#q5.solution()"
   ]
  },
  {
   "cell_type": "markdown",
   "id": "8394780f",
   "metadata": {
    "papermill": {
     "duration": 0.029848,
     "end_time": "2022-03-15T18:36:08.156791",
     "exception": false,
     "start_time": "2022-03-15T18:36:08.126943",
     "status": "completed"
    },
    "tags": []
   },
   "source": [
    "Are there significant differences in the average scores assigned by the various reviewers? Run the cell below to use the `describe()` method to see a summary of the range of values."
   ]
  },
  {
   "cell_type": "code",
   "execution_count": 12,
   "id": "6a64cfdb",
   "metadata": {
    "execution": {
     "iopub.execute_input": "2022-03-15T18:36:08.223349Z",
     "iopub.status.busy": "2022-03-15T18:36:08.222350Z",
     "iopub.status.idle": "2022-03-15T18:36:08.229169Z",
     "shell.execute_reply": "2022-03-15T18:36:08.229785Z",
     "shell.execute_reply.started": "2022-03-15T18:14:35.039709Z"
    },
    "papermill": {
     "duration": 0.042908,
     "end_time": "2022-03-15T18:36:08.229952",
     "exception": false,
     "start_time": "2022-03-15T18:36:08.187044",
     "status": "completed"
    },
    "tags": []
   },
   "outputs": [
    {
     "data": {
      "text/plain": [
       "count    19.000000\n",
       "mean     88.233026\n",
       "std       1.243610\n",
       "min      85.855422\n",
       "25%      87.323501\n",
       "50%      88.536235\n",
       "75%      88.975256\n",
       "max      90.562551\n",
       "Name: points, dtype: float64"
      ]
     },
     "execution_count": 12,
     "metadata": {},
     "output_type": "execute_result"
    }
   ],
   "source": [
    "reviewer_mean_ratings.describe()"
   ]
  },
  {
   "cell_type": "markdown",
   "id": "c743701e",
   "metadata": {
    "papermill": {
     "duration": 0.03029,
     "end_time": "2022-03-15T18:36:08.290649",
     "exception": false,
     "start_time": "2022-03-15T18:36:08.260359",
     "status": "completed"
    },
    "tags": []
   },
   "source": [
    "## 6.\n",
    "What combination of countries and varieties are most common? Create a `Series` whose index is a `MultiIndex`of `{country, variety}` pairs. For example, a pinot noir produced in the US should map to `{\"US\", \"Pinot Noir\"}`. Sort the values in the `Series` in descending order based on wine count."
   ]
  },
  {
   "cell_type": "code",
   "execution_count": 13,
   "id": "771bc0f8",
   "metadata": {
    "execution": {
     "iopub.execute_input": "2022-03-15T18:36:08.355690Z",
     "iopub.status.busy": "2022-03-15T18:36:08.354754Z",
     "iopub.status.idle": "2022-03-15T18:36:08.404200Z",
     "shell.execute_reply": "2022-03-15T18:36:08.404710Z",
     "shell.execute_reply.started": "2022-03-15T18:35:08.390746Z"
    },
    "papermill": {
     "duration": 0.083602,
     "end_time": "2022-03-15T18:36:08.404878",
     "exception": false,
     "start_time": "2022-03-15T18:36:08.321276",
     "status": "completed"
    },
    "tags": []
   },
   "outputs": [
    {
     "name": "stdout",
     "output_type": "stream",
     "text": [
      "country  variety                 \n",
      "US       Pinot Noir                  9885\n",
      "         Cabernet Sauvignon          7315\n",
      "         Chardonnay                  6801\n",
      "France   Bordeaux-style Red Blend    4725\n",
      "Italy    Red Blend                   3624\n",
      "                                     ... \n",
      "Mexico   Cinsault                       1\n",
      "         Grenache                       1\n",
      "         Merlot                         1\n",
      "         Rosado                         1\n",
      "Uruguay  White Blend                    1\n",
      "Length: 1612, dtype: int64\n"
     ]
    },
    {
     "data": {
      "application/javascript": [
       "parent.postMessage({\"jupyterEvent\": \"custom.exercise_interaction\", \"data\": {\"outcomeType\": 1, \"valueTowardsCompletion\": 0.16666666666666666, \"interactionType\": 1, \"questionType\": 1, \"questionId\": \"6_GroupbyCountryVariety\", \"learnToolsVersion\": \"0.3.4\", \"failureMessage\": \"\", \"exceptionClass\": \"\", \"trace\": \"\"}}, \"*\")"
      ],
      "text/plain": [
       "<IPython.core.display.Javascript object>"
      ]
     },
     "metadata": {},
     "output_type": "display_data"
    },
    {
     "data": {
      "text/markdown": [
       "<span style=\"color:#33cc33\">Correct</span>"
      ],
      "text/plain": [
       "Correct"
      ]
     },
     "metadata": {},
     "output_type": "display_data"
    }
   ],
   "source": [
    "country_variety_counts = reviews.groupby(['country', 'variety']).size().sort_values(ascending=False)\n",
    "\n",
    "print(country_variety_counts)\n",
    "\n",
    "# Check your answer\n",
    "q6.check()"
   ]
  },
  {
   "cell_type": "code",
   "execution_count": 14,
   "id": "f8987892",
   "metadata": {
    "execution": {
     "iopub.execute_input": "2022-03-15T18:36:08.472438Z",
     "iopub.status.busy": "2022-03-15T18:36:08.471800Z",
     "iopub.status.idle": "2022-03-15T18:36:08.474469Z",
     "shell.execute_reply": "2022-03-15T18:36:08.475058Z",
     "shell.execute_reply.started": "2022-03-15T18:14:35.175109Z"
    },
    "papermill": {
     "duration": 0.038194,
     "end_time": "2022-03-15T18:36:08.475212",
     "exception": false,
     "start_time": "2022-03-15T18:36:08.437018",
     "status": "completed"
    },
    "tags": []
   },
   "outputs": [],
   "source": [
    "#q6.hint()\n",
    "#q6.solution()"
   ]
  },
  {
   "cell_type": "markdown",
   "id": "9af0a445",
   "metadata": {
    "papermill": {
     "duration": 0.032355,
     "end_time": "2022-03-15T18:36:08.539845",
     "exception": false,
     "start_time": "2022-03-15T18:36:08.507490",
     "status": "completed"
    },
    "tags": []
   },
   "source": [
    "# Keep going\n",
    "\n",
    "Move on to the [**data types and missing data**](https://www.kaggle.com/residentmario/data-types-and-missing-values)."
   ]
  },
  {
   "cell_type": "markdown",
   "id": "18368d8f",
   "metadata": {
    "papermill": {
     "duration": 0.032064,
     "end_time": "2022-03-15T18:36:08.604488",
     "exception": false,
     "start_time": "2022-03-15T18:36:08.572424",
     "status": "completed"
    },
    "tags": []
   },
   "source": [
    "---\n",
    "\n",
    "\n",
    "\n",
    "\n",
    "*Have questions or comments? Visit the [course discussion forum](https://www.kaggle.com/learn/pandas/discussion) to chat with other learners.*"
   ]
  }
 ],
 "metadata": {
  "kernelspec": {
   "display_name": "Python 3",
   "language": "python",
   "name": "python3"
  },
  "language_info": {
   "codemirror_mode": {
    "name": "ipython",
    "version": 3
   },
   "file_extension": ".py",
   "mimetype": "text/x-python",
   "name": "python",
   "nbconvert_exporter": "python",
   "pygments_lexer": "ipython3",
   "version": "3.7.12"
  },
  "papermill": {
   "default_parameters": {},
   "duration": 15.086794,
   "end_time": "2022-03-15T18:36:09.247445",
   "environment_variables": {},
   "exception": null,
   "input_path": "__notebook__.ipynb",
   "output_path": "__notebook__.ipynb",
   "parameters": {},
   "start_time": "2022-03-15T18:35:54.160651",
   "version": "2.3.3"
  }
 },
 "nbformat": 4,
 "nbformat_minor": 5
}
