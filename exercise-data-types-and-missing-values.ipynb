{
 "cells": [
  {
   "cell_type": "markdown",
   "id": "7fa6c258",
   "metadata": {
    "papermill": {
     "duration": 0.016914,
     "end_time": "2022-03-24T12:57:40.928214",
     "exception": false,
     "start_time": "2022-03-24T12:57:40.911300",
     "status": "completed"
    },
    "tags": []
   },
   "source": [
    "**This notebook is an exercise in the [Pandas](https://www.kaggle.com/learn/pandas) course.  You can reference the tutorial at [this link](https://www.kaggle.com/residentmario/data-types-and-missing-values).**\n",
    "\n",
    "---\n"
   ]
  },
  {
   "cell_type": "markdown",
   "id": "9b2cb78d",
   "metadata": {
    "papermill": {
     "duration": 0.01518,
     "end_time": "2022-03-24T12:57:40.960943",
     "exception": false,
     "start_time": "2022-03-24T12:57:40.945763",
     "status": "completed"
    },
    "tags": []
   },
   "source": [
    "# Introduction\n",
    "\n",
    "Run the following cell to load your data and some utility functions."
   ]
  },
  {
   "cell_type": "code",
   "execution_count": 1,
   "id": "31964351",
   "metadata": {
    "execution": {
     "iopub.execute_input": "2022-03-24T12:57:40.998659Z",
     "iopub.status.busy": "2022-03-24T12:57:40.997923Z",
     "iopub.status.idle": "2022-03-24T12:57:43.824314Z",
     "shell.execute_reply": "2022-03-24T12:57:43.823349Z",
     "shell.execute_reply.started": "2022-03-24T12:21:10.277031Z"
    },
    "papermill": {
     "duration": 2.849041,
     "end_time": "2022-03-24T12:57:43.824538",
     "exception": false,
     "start_time": "2022-03-24T12:57:40.975497",
     "status": "completed"
    },
    "tags": []
   },
   "outputs": [
    {
     "name": "stdout",
     "output_type": "stream",
     "text": [
      "Setup complete.\n"
     ]
    }
   ],
   "source": [
    "import pandas as pd\n",
    "\n",
    "reviews = pd.read_csv(\"../input/wine-reviews/winemag-data-130k-v2.csv\", index_col=0)\n",
    "\n",
    "from learntools.core import binder; binder.bind(globals())\n",
    "from learntools.pandas.data_types_and_missing_data import *\n",
    "print(\"Setup complete.\")"
   ]
  },
  {
   "cell_type": "markdown",
   "id": "071a0d3d",
   "metadata": {
    "papermill": {
     "duration": 0.014458,
     "end_time": "2022-03-24T12:57:43.855482",
     "exception": false,
     "start_time": "2022-03-24T12:57:43.841024",
     "status": "completed"
    },
    "tags": []
   },
   "source": [
    "# Exercises"
   ]
  },
  {
   "cell_type": "markdown",
   "id": "6e6ea441",
   "metadata": {
    "papermill": {
     "duration": 0.014633,
     "end_time": "2022-03-24T12:57:43.885049",
     "exception": false,
     "start_time": "2022-03-24T12:57:43.870416",
     "status": "completed"
    },
    "tags": []
   },
   "source": [
    "## 1. \n",
    "What is the data type of the `points` column in the dataset?"
   ]
  },
  {
   "cell_type": "code",
   "execution_count": 2,
   "id": "70a144d7",
   "metadata": {
    "execution": {
     "iopub.execute_input": "2022-03-24T12:57:43.923868Z",
     "iopub.status.busy": "2022-03-24T12:57:43.922959Z",
     "iopub.status.idle": "2022-03-24T12:57:43.929491Z",
     "shell.execute_reply": "2022-03-24T12:57:43.929982Z",
     "shell.execute_reply.started": "2022-03-24T12:22:07.521196Z"
    },
    "papermill": {
     "duration": 0.029737,
     "end_time": "2022-03-24T12:57:43.930176",
     "exception": false,
     "start_time": "2022-03-24T12:57:43.900439",
     "status": "completed"
    },
    "tags": []
   },
   "outputs": [
    {
     "name": "stdout",
     "output_type": "stream",
     "text": [
      "int64\n"
     ]
    },
    {
     "data": {
      "application/javascript": [
       "parent.postMessage({\"jupyterEvent\": \"custom.exercise_interaction\", \"data\": {\"outcomeType\": 1, \"valueTowardsCompletion\": 0.25, \"interactionType\": 1, \"questionType\": 1, \"questionId\": \"1_PointsDtype\", \"learnToolsVersion\": \"0.3.4\", \"failureMessage\": \"\", \"exceptionClass\": \"\", \"trace\": \"\"}}, \"*\")"
      ],
      "text/plain": [
       "<IPython.core.display.Javascript object>"
      ]
     },
     "metadata": {},
     "output_type": "display_data"
    },
    {
     "data": {
      "text/markdown": [
       "<span style=\"color:#33cc33\">Correct</span>"
      ],
      "text/plain": [
       "Correct"
      ]
     },
     "metadata": {},
     "output_type": "display_data"
    }
   ],
   "source": [
    "# Your code here\n",
    "dtype = reviews.points.dtype\n",
    "print(dtype)\n",
    "\n",
    "# Check your answer\n",
    "q1.check()"
   ]
  },
  {
   "cell_type": "code",
   "execution_count": 3,
   "id": "e7f5b19e",
   "metadata": {
    "execution": {
     "iopub.execute_input": "2022-03-24T12:57:43.967373Z",
     "iopub.status.busy": "2022-03-24T12:57:43.966721Z",
     "iopub.status.idle": "2022-03-24T12:57:43.969409Z",
     "shell.execute_reply": "2022-03-24T12:57:43.968871Z"
    },
    "papermill": {
     "duration": 0.022749,
     "end_time": "2022-03-24T12:57:43.969536",
     "exception": false,
     "start_time": "2022-03-24T12:57:43.946787",
     "status": "completed"
    },
    "tags": []
   },
   "outputs": [],
   "source": [
    "#q1.hint()\n",
    "#q1.solution()"
   ]
  },
  {
   "cell_type": "markdown",
   "id": "fc0e5d6f",
   "metadata": {
    "papermill": {
     "duration": 0.016209,
     "end_time": "2022-03-24T12:57:44.001993",
     "exception": false,
     "start_time": "2022-03-24T12:57:43.985784",
     "status": "completed"
    },
    "tags": []
   },
   "source": [
    "## 2. \n",
    "Create a Series from entries in the `points` column, but convert the entries to strings. Hint: strings are `str` in native Python."
   ]
  },
  {
   "cell_type": "code",
   "execution_count": 4,
   "id": "770cb618",
   "metadata": {
    "execution": {
     "iopub.execute_input": "2022-03-24T12:57:44.184004Z",
     "iopub.status.busy": "2022-03-24T12:57:44.039473Z",
     "iopub.status.idle": "2022-03-24T12:57:44.191045Z",
     "shell.execute_reply": "2022-03-24T12:57:44.190468Z",
     "shell.execute_reply.started": "2022-03-24T12:23:33.105552Z"
    },
    "papermill": {
     "duration": 0.172413,
     "end_time": "2022-03-24T12:57:44.191222",
     "exception": false,
     "start_time": "2022-03-24T12:57:44.018809",
     "status": "completed"
    },
    "tags": []
   },
   "outputs": [
    {
     "name": "stdout",
     "output_type": "stream",
     "text": [
      "0         87\n",
      "1         87\n",
      "2         87\n",
      "3         87\n",
      "4         87\n",
      "          ..\n",
      "129966    90\n",
      "129967    90\n",
      "129968    90\n",
      "129969    90\n",
      "129970    90\n",
      "Name: points, Length: 129971, dtype: object\n"
     ]
    },
    {
     "data": {
      "application/javascript": [
       "parent.postMessage({\"jupyterEvent\": \"custom.exercise_interaction\", \"data\": {\"outcomeType\": 1, \"valueTowardsCompletion\": 0.25, \"interactionType\": 1, \"questionType\": 1, \"questionId\": \"2_StrPoints\", \"learnToolsVersion\": \"0.3.4\", \"failureMessage\": \"\", \"exceptionClass\": \"\", \"trace\": \"\"}}, \"*\")"
      ],
      "text/plain": [
       "<IPython.core.display.Javascript object>"
      ]
     },
     "metadata": {},
     "output_type": "display_data"
    },
    {
     "data": {
      "text/markdown": [
       "<span style=\"color:#33cc33\">Correct</span>"
      ],
      "text/plain": [
       "Correct"
      ]
     },
     "metadata": {},
     "output_type": "display_data"
    }
   ],
   "source": [
    "point_strings = reviews.points.astype('str')\n",
    "print(point_strings)\n",
    "\n",
    "# Check your answer\n",
    "q2.check()"
   ]
  },
  {
   "cell_type": "code",
   "execution_count": 5,
   "id": "b6746f29",
   "metadata": {
    "execution": {
     "iopub.execute_input": "2022-03-24T12:57:44.232019Z",
     "iopub.status.busy": "2022-03-24T12:57:44.231385Z",
     "iopub.status.idle": "2022-03-24T12:57:44.234247Z",
     "shell.execute_reply": "2022-03-24T12:57:44.233713Z"
    },
    "papermill": {
     "duration": 0.024772,
     "end_time": "2022-03-24T12:57:44.234382",
     "exception": false,
     "start_time": "2022-03-24T12:57:44.209610",
     "status": "completed"
    },
    "tags": []
   },
   "outputs": [],
   "source": [
    "#q2.hint()\n",
    "#q2.solution()"
   ]
  },
  {
   "cell_type": "markdown",
   "id": "118e812a",
   "metadata": {
    "papermill": {
     "duration": 0.017959,
     "end_time": "2022-03-24T12:57:44.270657",
     "exception": false,
     "start_time": "2022-03-24T12:57:44.252698",
     "status": "completed"
    },
    "tags": []
   },
   "source": [
    "## 3.\n",
    "Sometimes the price column is null. How many reviews in the dataset are missing a price?"
   ]
  },
  {
   "cell_type": "code",
   "execution_count": 6,
   "id": "721d2b5a",
   "metadata": {
    "execution": {
     "iopub.execute_input": "2022-03-24T12:57:44.312875Z",
     "iopub.status.busy": "2022-03-24T12:57:44.312041Z",
     "iopub.status.idle": "2022-03-24T12:57:44.317412Z",
     "shell.execute_reply": "2022-03-24T12:57:44.316818Z",
     "shell.execute_reply.started": "2022-03-24T12:52:45.831099Z"
    },
    "papermill": {
     "duration": 0.028685,
     "end_time": "2022-03-24T12:57:44.317546",
     "exception": false,
     "start_time": "2022-03-24T12:57:44.288861",
     "status": "completed"
    },
    "tags": []
   },
   "outputs": [
    {
     "data": {
      "application/javascript": [
       "parent.postMessage({\"jupyterEvent\": \"custom.exercise_interaction\", \"data\": {\"outcomeType\": 2, \"failureMessage\": \"Incorrect value for `n_missing_prices`: `''`\", \"interactionType\": 1, \"questionType\": 1, \"questionId\": \"3_CountMissingPrices\", \"learnToolsVersion\": \"0.3.4\", \"valueTowardsCompletion\": 0.0, \"exceptionClass\": \"\", \"trace\": \"\"}}, \"*\")"
      ],
      "text/plain": [
       "<IPython.core.display.Javascript object>"
      ]
     },
     "metadata": {},
     "output_type": "display_data"
    },
    {
     "data": {
      "text/markdown": [
       "<span style=\"color:#cc3333\">Incorrect:</span> Incorrect value for `n_missing_prices`: `''`"
      ],
      "text/plain": [
       "Incorrect: Incorrect value for `n_missing_prices`: `''`"
      ]
     },
     "metadata": {},
     "output_type": "display_data"
    }
   ],
   "source": [
    "n_missing_prices = ___\n",
    "#print(n_missing_prices)\n",
    "\n",
    "# Check your answer\n",
    "q3.check()"
   ]
  },
  {
   "cell_type": "code",
   "execution_count": 7,
   "id": "4e3bc57f",
   "metadata": {
    "execution": {
     "iopub.execute_input": "2022-03-24T12:57:44.360381Z",
     "iopub.status.busy": "2022-03-24T12:57:44.359776Z",
     "iopub.status.idle": "2022-03-24T12:57:44.362480Z",
     "shell.execute_reply": "2022-03-24T12:57:44.361893Z"
    },
    "papermill": {
     "duration": 0.025539,
     "end_time": "2022-03-24T12:57:44.362614",
     "exception": false,
     "start_time": "2022-03-24T12:57:44.337075",
     "status": "completed"
    },
    "tags": []
   },
   "outputs": [],
   "source": [
    "#q3.hint()\n",
    "#q3.solution()"
   ]
  },
  {
   "cell_type": "markdown",
   "id": "5f8d53fb",
   "metadata": {
    "papermill": {
     "duration": 0.019493,
     "end_time": "2022-03-24T12:57:44.402554",
     "exception": false,
     "start_time": "2022-03-24T12:57:44.383061",
     "status": "completed"
    },
    "tags": []
   },
   "source": [
    "## 4.\n",
    "What are the most common wine-producing regions? Create a Series counting the number of times each value occurs in the `region_1` field. This field is often missing data, so replace missing values with `Unknown`. Sort in descending order.  Your output should look something like this:\n",
    "\n",
    "```\n",
    "Unknown                    21247\n",
    "Napa Valley                 4480\n",
    "                           ...  \n",
    "Bardolino Superiore            1\n",
    "Primitivo del Tarantino        1\n",
    "Name: region_1, Length: 1230, dtype: int64\n",
    "```"
   ]
  },
  {
   "cell_type": "code",
   "execution_count": 8,
   "id": "f2991de4",
   "metadata": {
    "execution": {
     "iopub.execute_input": "2022-03-24T12:57:44.448489Z",
     "iopub.status.busy": "2022-03-24T12:57:44.447719Z",
     "iopub.status.idle": "2022-03-24T12:57:44.453192Z",
     "shell.execute_reply": "2022-03-24T12:57:44.452585Z",
     "shell.execute_reply.started": "2022-03-24T12:56:54.041571Z"
    },
    "papermill": {
     "duration": 0.030982,
     "end_time": "2022-03-24T12:57:44.453338",
     "exception": false,
     "start_time": "2022-03-24T12:57:44.422356",
     "status": "completed"
    },
    "tags": []
   },
   "outputs": [
    {
     "data": {
      "application/javascript": [
       "parent.postMessage({\"jupyterEvent\": \"custom.exercise_interaction\", \"data\": {\"outcomeType\": 4, \"interactionType\": 1, \"questionType\": 2, \"questionId\": \"4_ReviewsPerRegion\", \"learnToolsVersion\": \"0.3.4\", \"valueTowardsCompletion\": 0.0, \"failureMessage\": \"\", \"exceptionClass\": \"\", \"trace\": \"\"}}, \"*\")"
      ],
      "text/plain": [
       "<IPython.core.display.Javascript object>"
      ]
     },
     "metadata": {},
     "output_type": "display_data"
    },
    {
     "data": {
      "text/markdown": [
       "<span style=\"color:#ccaa33\">Check:</span> When you've updated the starter code, `check()` will tell you whether your code is correct. Remember, you must create the following variable: `reviews_per_region`"
      ],
      "text/plain": [
       "Check: When you've updated the starter code, `check()` will tell you whether your code is correct. Remember, you must create the following variable: `reviews_per_region`"
      ]
     },
     "metadata": {},
     "output_type": "display_data"
    }
   ],
   "source": [
    "dtype = reviews.region_1.dtype\n",
    "\n",
    "#region_nan = reviews[pd.isnull(reviews.region_1)]\n",
    "\n",
    "#region_1 = reviews.groupby(['region_1']).size().sort_values(ascending=False)\n",
    "#print(region_1)\n",
    "\n",
    "#reviews_per_region = region_nan.fillna(\"Unknown\")\n",
    "\n",
    "# Check your answer\n",
    "q4.check()"
   ]
  },
  {
   "cell_type": "code",
   "execution_count": 9,
   "id": "991ab34a",
   "metadata": {
    "execution": {
     "iopub.execute_input": "2022-03-24T12:57:44.500005Z",
     "iopub.status.busy": "2022-03-24T12:57:44.499364Z",
     "iopub.status.idle": "2022-03-24T12:57:44.501745Z",
     "shell.execute_reply": "2022-03-24T12:57:44.501162Z"
    },
    "papermill": {
     "duration": 0.027133,
     "end_time": "2022-03-24T12:57:44.501872",
     "exception": false,
     "start_time": "2022-03-24T12:57:44.474739",
     "status": "completed"
    },
    "tags": []
   },
   "outputs": [],
   "source": [
    "#q4.hint()\n",
    "#q4.solution()"
   ]
  },
  {
   "cell_type": "markdown",
   "id": "faa252fb",
   "metadata": {
    "papermill": {
     "duration": 0.021676,
     "end_time": "2022-03-24T12:57:44.544439",
     "exception": false,
     "start_time": "2022-03-24T12:57:44.522763",
     "status": "completed"
    },
    "tags": []
   },
   "source": [
    "# Keep going\n",
    "\n",
    "Move on to **[renaming and combining](https://www.kaggle.com/residentmario/renaming-and-combining)**."
   ]
  },
  {
   "cell_type": "markdown",
   "id": "84961af3",
   "metadata": {
    "papermill": {
     "duration": 0.021224,
     "end_time": "2022-03-24T12:57:44.586800",
     "exception": false,
     "start_time": "2022-03-24T12:57:44.565576",
     "status": "completed"
    },
    "tags": []
   },
   "source": [
    "---\n",
    "\n",
    "\n",
    "\n",
    "\n",
    "*Have questions or comments? Visit the [course discussion forum](https://www.kaggle.com/learn/pandas/discussion) to chat with other learners.*"
   ]
  }
 ],
 "metadata": {
  "kernelspec": {
   "display_name": "Python 3",
   "language": "python",
   "name": "python3"
  },
  "language_info": {
   "codemirror_mode": {
    "name": "ipython",
    "version": 3
   },
   "file_extension": ".py",
   "mimetype": "text/x-python",
   "name": "python",
   "nbconvert_exporter": "python",
   "pygments_lexer": "ipython3",
   "version": "3.7.12"
  },
  "papermill": {
   "default_parameters": {},
   "duration": 13.616662,
   "end_time": "2022-03-24T12:57:45.217068",
   "environment_variables": {},
   "exception": null,
   "input_path": "__notebook__.ipynb",
   "output_path": "__notebook__.ipynb",
   "parameters": {},
   "start_time": "2022-03-24T12:57:31.600406",
   "version": "2.3.3"
  }
 },
 "nbformat": 4,
 "nbformat_minor": 5
}
