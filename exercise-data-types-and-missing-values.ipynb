{
 "cells": [
  {
   "cell_type": "markdown",
   "id": "9a51b1fb",
   "metadata": {
    "papermill": {
     "duration": 0.017607,
     "end_time": "2022-03-24T14:26:15.402323",
     "exception": false,
     "start_time": "2022-03-24T14:26:15.384716",
     "status": "completed"
    },
    "tags": []
   },
   "source": [
    "**This notebook is an exercise in the [Pandas](https://www.kaggle.com/learn/pandas) course.  You can reference the tutorial at [this link](https://www.kaggle.com/residentmario/data-types-and-missing-values).**\n",
    "\n",
    "---\n"
   ]
  },
  {
   "cell_type": "markdown",
   "id": "b880f1b6",
   "metadata": {
    "papermill": {
     "duration": 0.015003,
     "end_time": "2022-03-24T14:26:15.434782",
     "exception": false,
     "start_time": "2022-03-24T14:26:15.419779",
     "status": "completed"
    },
    "tags": []
   },
   "source": [
    "# Introduction\n",
    "\n",
    "Run the following cell to load your data and some utility functions."
   ]
  },
  {
   "cell_type": "code",
   "execution_count": 1,
   "id": "3aedb34f",
   "metadata": {
    "execution": {
     "iopub.execute_input": "2022-03-24T14:26:15.474886Z",
     "iopub.status.busy": "2022-03-24T14:26:15.473919Z",
     "iopub.status.idle": "2022-03-24T14:26:18.495948Z",
     "shell.execute_reply": "2022-03-24T14:26:18.496491Z",
     "shell.execute_reply.started": "2022-03-24T14:25:46.798729Z"
    },
    "papermill": {
     "duration": 3.04662,
     "end_time": "2022-03-24T14:26:18.496774",
     "exception": false,
     "start_time": "2022-03-24T14:26:15.450154",
     "status": "completed"
    },
    "tags": []
   },
   "outputs": [
    {
     "name": "stdout",
     "output_type": "stream",
     "text": [
      "Setup complete.\n"
     ]
    }
   ],
   "source": [
    "import pandas as pd\n",
    "\n",
    "reviews = pd.read_csv(\"../input/wine-reviews/winemag-data-130k-v2.csv\", index_col=0)\n",
    "\n",
    "from learntools.core import binder; binder.bind(globals())\n",
    "from learntools.pandas.data_types_and_missing_data import *\n",
    "print(\"Setup complete.\")"
   ]
  },
  {
   "cell_type": "markdown",
   "id": "84346a7f",
   "metadata": {
    "papermill": {
     "duration": 0.015284,
     "end_time": "2022-03-24T14:26:18.528317",
     "exception": false,
     "start_time": "2022-03-24T14:26:18.513033",
     "status": "completed"
    },
    "tags": []
   },
   "source": [
    "# Exercises"
   ]
  },
  {
   "cell_type": "markdown",
   "id": "197ce601",
   "metadata": {
    "papermill": {
     "duration": 0.015279,
     "end_time": "2022-03-24T14:26:18.559202",
     "exception": false,
     "start_time": "2022-03-24T14:26:18.543923",
     "status": "completed"
    },
    "tags": []
   },
   "source": [
    "## 1. \n",
    "What is the data type of the `points` column in the dataset?"
   ]
  },
  {
   "cell_type": "code",
   "execution_count": 2,
   "id": "a9806b9f",
   "metadata": {
    "execution": {
     "iopub.execute_input": "2022-03-24T14:26:18.594214Z",
     "iopub.status.busy": "2022-03-24T14:26:18.593220Z",
     "iopub.status.idle": "2022-03-24T14:26:18.605402Z",
     "shell.execute_reply": "2022-03-24T14:26:18.606087Z",
     "shell.execute_reply.started": "2022-03-24T14:25:47.968091Z"
    },
    "papermill": {
     "duration": 0.031499,
     "end_time": "2022-03-24T14:26:18.606274",
     "exception": false,
     "start_time": "2022-03-24T14:26:18.574775",
     "status": "completed"
    },
    "tags": []
   },
   "outputs": [
    {
     "name": "stdout",
     "output_type": "stream",
     "text": [
      "int64\n"
     ]
    },
    {
     "data": {
      "application/javascript": [
       "parent.postMessage({\"jupyterEvent\": \"custom.exercise_interaction\", \"data\": {\"outcomeType\": 1, \"valueTowardsCompletion\": 0.25, \"interactionType\": 1, \"questionType\": 1, \"questionId\": \"1_PointsDtype\", \"learnToolsVersion\": \"0.3.4\", \"failureMessage\": \"\", \"exceptionClass\": \"\", \"trace\": \"\"}}, \"*\")"
      ],
      "text/plain": [
       "<IPython.core.display.Javascript object>"
      ]
     },
     "metadata": {},
     "output_type": "display_data"
    },
    {
     "data": {
      "text/markdown": [
       "<span style=\"color:#33cc33\">Correct</span>"
      ],
      "text/plain": [
       "Correct"
      ]
     },
     "metadata": {},
     "output_type": "display_data"
    }
   ],
   "source": [
    "# Your code here\n",
    "dtype = reviews.points.dtype\n",
    "print(dtype)\n",
    "\n",
    "#dtype = reviews['points'].dtype\n",
    "\n",
    "# Check your answer\n",
    "q1.check()"
   ]
  },
  {
   "cell_type": "code",
   "execution_count": 3,
   "id": "49a06f76",
   "metadata": {
    "execution": {
     "iopub.execute_input": "2022-03-24T14:26:18.646158Z",
     "iopub.status.busy": "2022-03-24T14:26:18.645233Z",
     "iopub.status.idle": "2022-03-24T14:26:18.647782Z",
     "shell.execute_reply": "2022-03-24T14:26:18.647263Z",
     "shell.execute_reply.started": "2022-03-24T14:25:47.980085Z"
    },
    "papermill": {
     "duration": 0.023951,
     "end_time": "2022-03-24T14:26:18.647956",
     "exception": false,
     "start_time": "2022-03-24T14:26:18.624005",
     "status": "completed"
    },
    "tags": []
   },
   "outputs": [],
   "source": [
    "#q1.hint()\n",
    "#q1.solution()"
   ]
  },
  {
   "cell_type": "markdown",
   "id": "626c6a75",
   "metadata": {
    "papermill": {
     "duration": 0.017127,
     "end_time": "2022-03-24T14:26:18.682537",
     "exception": false,
     "start_time": "2022-03-24T14:26:18.665410",
     "status": "completed"
    },
    "tags": []
   },
   "source": [
    "## 2. \n",
    "Create a Series from entries in the `points` column, but convert the entries to strings. Hint: strings are `str` in native Python."
   ]
  },
  {
   "cell_type": "code",
   "execution_count": 4,
   "id": "639a627f",
   "metadata": {
    "execution": {
     "iopub.execute_input": "2022-03-24T14:26:18.859469Z",
     "iopub.status.busy": "2022-03-24T14:26:18.858404Z",
     "iopub.status.idle": "2022-03-24T14:26:18.865901Z",
     "shell.execute_reply": "2022-03-24T14:26:18.865266Z",
     "shell.execute_reply.started": "2022-03-24T14:25:47.989582Z"
    },
    "papermill": {
     "duration": 0.166056,
     "end_time": "2022-03-24T14:26:18.866055",
     "exception": false,
     "start_time": "2022-03-24T14:26:18.699999",
     "status": "completed"
    },
    "tags": []
   },
   "outputs": [
    {
     "name": "stdout",
     "output_type": "stream",
     "text": [
      "0         87\n",
      "1         87\n",
      "2         87\n",
      "3         87\n",
      "4         87\n",
      "          ..\n",
      "129966    90\n",
      "129967    90\n",
      "129968    90\n",
      "129969    90\n",
      "129970    90\n",
      "Name: points, Length: 129971, dtype: object\n"
     ]
    },
    {
     "data": {
      "application/javascript": [
       "parent.postMessage({\"jupyterEvent\": \"custom.exercise_interaction\", \"data\": {\"outcomeType\": 1, \"valueTowardsCompletion\": 0.25, \"interactionType\": 1, \"questionType\": 1, \"questionId\": \"2_StrPoints\", \"learnToolsVersion\": \"0.3.4\", \"failureMessage\": \"\", \"exceptionClass\": \"\", \"trace\": \"\"}}, \"*\")"
      ],
      "text/plain": [
       "<IPython.core.display.Javascript object>"
      ]
     },
     "metadata": {},
     "output_type": "display_data"
    },
    {
     "data": {
      "text/markdown": [
       "<span style=\"color:#33cc33\">Correct</span>"
      ],
      "text/plain": [
       "Correct"
      ]
     },
     "metadata": {},
     "output_type": "display_data"
    }
   ],
   "source": [
    "point_strings = reviews.points.astype('str')\n",
    "print(point_strings)\n",
    "\n",
    "#point_strings = reviews['points'].astype('str')\n",
    "\n",
    "# Check your answer\n",
    "q2.check()"
   ]
  },
  {
   "cell_type": "code",
   "execution_count": 5,
   "id": "e62263e5",
   "metadata": {
    "execution": {
     "iopub.execute_input": "2022-03-24T14:26:18.908981Z",
     "iopub.status.busy": "2022-03-24T14:26:18.908235Z",
     "iopub.status.idle": "2022-03-24T14:26:18.911903Z",
     "shell.execute_reply": "2022-03-24T14:26:18.911293Z",
     "shell.execute_reply.started": "2022-03-24T14:25:48.150152Z"
    },
    "papermill": {
     "duration": 0.026988,
     "end_time": "2022-03-24T14:26:18.912075",
     "exception": false,
     "start_time": "2022-03-24T14:26:18.885087",
     "status": "completed"
    },
    "tags": []
   },
   "outputs": [],
   "source": [
    "#q2.hint()\n",
    "#q2.solution()"
   ]
  },
  {
   "cell_type": "markdown",
   "id": "d0601453",
   "metadata": {
    "papermill": {
     "duration": 0.018668,
     "end_time": "2022-03-24T14:26:18.950645",
     "exception": false,
     "start_time": "2022-03-24T14:26:18.931977",
     "status": "completed"
    },
    "tags": []
   },
   "source": [
    "## 3.\n",
    "Sometimes the price column is null. How many reviews in the dataset are missing a price?"
   ]
  },
  {
   "cell_type": "code",
   "execution_count": 6,
   "id": "63ca944f",
   "metadata": {
    "execution": {
     "iopub.execute_input": "2022-03-24T14:26:18.998059Z",
     "iopub.status.busy": "2022-03-24T14:26:18.997293Z",
     "iopub.status.idle": "2022-03-24T14:26:19.006781Z",
     "shell.execute_reply": "2022-03-24T14:26:19.006208Z",
     "shell.execute_reply.started": "2022-03-24T14:25:48.156545Z"
    },
    "papermill": {
     "duration": 0.037315,
     "end_time": "2022-03-24T14:26:19.006937",
     "exception": false,
     "start_time": "2022-03-24T14:26:18.969622",
     "status": "completed"
    },
    "tags": []
   },
   "outputs": [
    {
     "name": "stdout",
     "output_type": "stream",
     "text": [
      "False    120975\n",
      "True       8996\n",
      "Name: price, dtype: int64\n"
     ]
    },
    {
     "data": {
      "application/javascript": [
       "parent.postMessage({\"jupyterEvent\": \"custom.exercise_interaction\", \"data\": {\"outcomeType\": 1, \"valueTowardsCompletion\": 0.25, \"interactionType\": 1, \"questionType\": 1, \"questionId\": \"3_CountMissingPrices\", \"learnToolsVersion\": \"0.3.4\", \"failureMessage\": \"\", \"exceptionClass\": \"\", \"trace\": \"\"}}, \"*\")"
      ],
      "text/plain": [
       "<IPython.core.display.Javascript object>"
      ]
     },
     "metadata": {},
     "output_type": "display_data"
    },
    {
     "data": {
      "text/markdown": [
       "<span style=\"color:#33cc33\">Correct</span>"
      ],
      "text/plain": [
       "Correct"
      ]
     },
     "metadata": {},
     "output_type": "display_data"
    }
   ],
   "source": [
    "price_null = reviews.price.isnull().value_counts()\n",
    "print(price_null)\n",
    "n_missing_prices = reviews['price'].isnull().sum()\n",
    "\n",
    "\n",
    "# Check your answer\n",
    "q3.check()"
   ]
  },
  {
   "cell_type": "code",
   "execution_count": 7,
   "id": "d5620b72",
   "metadata": {
    "execution": {
     "iopub.execute_input": "2022-03-24T14:26:19.054102Z",
     "iopub.status.busy": "2022-03-24T14:26:19.053293Z",
     "iopub.status.idle": "2022-03-24T14:26:19.056425Z",
     "shell.execute_reply": "2022-03-24T14:26:19.055825Z",
     "shell.execute_reply.started": "2022-03-24T14:25:48.180009Z"
    },
    "papermill": {
     "duration": 0.028048,
     "end_time": "2022-03-24T14:26:19.056586",
     "exception": false,
     "start_time": "2022-03-24T14:26:19.028538",
     "status": "completed"
    },
    "tags": []
   },
   "outputs": [],
   "source": [
    "#q3.hint()\n",
    "#q3.solution()"
   ]
  },
  {
   "cell_type": "markdown",
   "id": "85ac8140",
   "metadata": {
    "papermill": {
     "duration": 0.022158,
     "end_time": "2022-03-24T14:26:19.099932",
     "exception": false,
     "start_time": "2022-03-24T14:26:19.077774",
     "status": "completed"
    },
    "tags": []
   },
   "source": [
    "## 4.\n",
    "What are the most common wine-producing regions? Create a Series counting the number of times each value occurs in the `region_1` field. This field is often missing data, so replace missing values with `Unknown`. Sort in descending order.  Your output should look something like this:\n",
    "\n",
    "```\n",
    "Unknown                    21247\n",
    "Napa Valley                 4480\n",
    "                           ...  \n",
    "Bardolino Superiore            1\n",
    "Primitivo del Tarantino        1\n",
    "Name: region_1, Length: 1230, dtype: int64\n",
    "```"
   ]
  },
  {
   "cell_type": "code",
   "execution_count": 8,
   "id": "3698605f",
   "metadata": {
    "execution": {
     "iopub.execute_input": "2022-03-24T14:26:19.159557Z",
     "iopub.status.busy": "2022-03-24T14:26:19.158780Z",
     "iopub.status.idle": "2022-03-24T14:26:19.225720Z",
     "shell.execute_reply": "2022-03-24T14:26:19.225156Z",
     "shell.execute_reply.started": "2022-03-24T14:25:48.185776Z"
    },
    "papermill": {
     "duration": 0.105404,
     "end_time": "2022-03-24T14:26:19.225890",
     "exception": false,
     "start_time": "2022-03-24T14:26:19.120486",
     "status": "completed"
    },
    "tags": []
   },
   "outputs": [
    {
     "name": "stdout",
     "output_type": "stream",
     "text": [
      "Unknown                    21247\n",
      "Napa Valley                 4480\n",
      "Columbia Valley (WA)        4124\n",
      "Russian River Valley        3091\n",
      "California                  2629\n",
      "                           ...  \n",
      "Lamezia                        1\n",
      "Trentino Superiore             1\n",
      "Grave del Friuli               1\n",
      "Vin Santo di Carmignano        1\n",
      "Paestum                        1\n",
      "Name: region_1, Length: 1230, dtype: int64\n"
     ]
    },
    {
     "data": {
      "application/javascript": [
       "parent.postMessage({\"jupyterEvent\": \"custom.exercise_interaction\", \"data\": {\"outcomeType\": 1, \"valueTowardsCompletion\": 0.25, \"interactionType\": 1, \"questionType\": 2, \"questionId\": \"4_ReviewsPerRegion\", \"learnToolsVersion\": \"0.3.4\", \"failureMessage\": \"\", \"exceptionClass\": \"\", \"trace\": \"\"}}, \"*\")"
      ],
      "text/plain": [
       "<IPython.core.display.Javascript object>"
      ]
     },
     "metadata": {},
     "output_type": "display_data"
    },
    {
     "data": {
      "text/markdown": [
       "<span style=\"color:#33cc33\">Correct</span>"
      ],
      "text/plain": [
       "Correct"
      ]
     },
     "metadata": {},
     "output_type": "display_data"
    }
   ],
   "source": [
    "reviews_per_region = reviews['region_1'].fillna(\"Unknown\").value_counts()\n",
    "print(reviews_per_region)\n",
    "\n",
    "# Check your answer\n",
    "q4.check()"
   ]
  },
  {
   "cell_type": "code",
   "execution_count": 9,
   "id": "d4e4d90e",
   "metadata": {
    "execution": {
     "iopub.execute_input": "2022-03-24T14:26:19.275564Z",
     "iopub.status.busy": "2022-03-24T14:26:19.274823Z",
     "iopub.status.idle": "2022-03-24T14:26:19.277557Z",
     "shell.execute_reply": "2022-03-24T14:26:19.277000Z",
     "shell.execute_reply.started": "2022-03-24T14:25:48.274255Z"
    },
    "papermill": {
     "duration": 0.029179,
     "end_time": "2022-03-24T14:26:19.277704",
     "exception": false,
     "start_time": "2022-03-24T14:26:19.248525",
     "status": "completed"
    },
    "tags": []
   },
   "outputs": [],
   "source": [
    "#q4.hint()\n",
    "#q4.solution()"
   ]
  },
  {
   "cell_type": "markdown",
   "id": "ccd9b3ae",
   "metadata": {
    "papermill": {
     "duration": 0.022354,
     "end_time": "2022-03-24T14:26:19.322822",
     "exception": false,
     "start_time": "2022-03-24T14:26:19.300468",
     "status": "completed"
    },
    "tags": []
   },
   "source": [
    "# Keep going\n",
    "\n",
    "Move on to **[renaming and combining](https://www.kaggle.com/residentmario/renaming-and-combining)**."
   ]
  },
  {
   "cell_type": "markdown",
   "id": "dc4ced25",
   "metadata": {
    "papermill": {
     "duration": 0.022007,
     "end_time": "2022-03-24T14:26:19.367688",
     "exception": false,
     "start_time": "2022-03-24T14:26:19.345681",
     "status": "completed"
    },
    "tags": []
   },
   "source": [
    "---\n",
    "\n",
    "\n",
    "\n",
    "\n",
    "*Have questions or comments? Visit the [course discussion forum](https://www.kaggle.com/learn/pandas/discussion) to chat with other learners.*"
   ]
  }
 ],
 "metadata": {
  "kernelspec": {
   "display_name": "Python 3",
   "language": "python",
   "name": "python3"
  },
  "language_info": {
   "codemirror_mode": {
    "name": "ipython",
    "version": 3
   },
   "file_extension": ".py",
   "mimetype": "text/x-python",
   "name": "python",
   "nbconvert_exporter": "python",
   "pygments_lexer": "ipython3",
   "version": "3.7.12"
  },
  "papermill": {
   "default_parameters": {},
   "duration": 15.040019,
   "end_time": "2022-03-24T14:26:20.101136",
   "environment_variables": {},
   "exception": null,
   "input_path": "__notebook__.ipynb",
   "output_path": "__notebook__.ipynb",
   "parameters": {},
   "start_time": "2022-03-24T14:26:05.061117",
   "version": "2.3.3"
  }
 },
 "nbformat": 4,
 "nbformat_minor": 5
}
