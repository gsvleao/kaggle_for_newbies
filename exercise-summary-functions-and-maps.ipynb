{
 "cells": [
  {
   "cell_type": "markdown",
   "id": "953e20cd",
   "metadata": {
    "papermill": {
     "duration": 0.029242,
     "end_time": "2022-03-14T00:36:00.747973",
     "exception": false,
     "start_time": "2022-03-14T00:36:00.718731",
     "status": "completed"
    },
    "tags": []
   },
   "source": [
    "**This notebook is an exercise in the [Pandas](https://www.kaggle.com/learn/pandas) course.  You can reference the tutorial at [this link](https://www.kaggle.com/residentmario/summary-functions-and-maps).**\n",
    "\n",
    "---\n"
   ]
  },
  {
   "cell_type": "markdown",
   "id": "5b88f84d",
   "metadata": {
    "papermill": {
     "duration": 0.023534,
     "end_time": "2022-03-14T00:36:00.805801",
     "exception": false,
     "start_time": "2022-03-14T00:36:00.782267",
     "status": "completed"
    },
    "tags": []
   },
   "source": [
    "# Introduction\n",
    "\n",
    "Now you are ready to get a deeper understanding of your data.\n",
    "\n",
    "Run the following cell to load your data and some utility functions (including code to check your answers)."
   ]
  },
  {
   "cell_type": "code",
   "execution_count": 1,
   "id": "577d30c9",
   "metadata": {
    "execution": {
     "iopub.execute_input": "2022-03-14T00:36:00.859662Z",
     "iopub.status.busy": "2022-03-14T00:36:00.858388Z",
     "iopub.status.idle": "2022-03-14T00:36:08.947905Z",
     "shell.execute_reply": "2022-03-14T00:36:08.948634Z",
     "shell.execute_reply.started": "2022-03-14T00:33:46.566249Z"
    },
    "papermill": {
     "duration": 8.119371,
     "end_time": "2022-03-14T00:36:08.949016",
     "exception": false,
     "start_time": "2022-03-14T00:36:00.829645",
     "status": "completed"
    },
    "tags": []
   },
   "outputs": [
    {
     "name": "stdout",
     "output_type": "stream",
     "text": [
      "Setup complete.\n"
     ]
    },
    {
     "data": {
      "text/html": [
       "<div>\n",
       "<style scoped>\n",
       "    .dataframe tbody tr th:only-of-type {\n",
       "        vertical-align: middle;\n",
       "    }\n",
       "\n",
       "    .dataframe tbody tr th {\n",
       "        vertical-align: top;\n",
       "    }\n",
       "\n",
       "    .dataframe thead th {\n",
       "        text-align: right;\n",
       "    }\n",
       "</style>\n",
       "<table border=\"1\" class=\"dataframe\">\n",
       "  <thead>\n",
       "    <tr style=\"text-align: right;\">\n",
       "      <th></th>\n",
       "      <th>country</th>\n",
       "      <th>description</th>\n",
       "      <th>designation</th>\n",
       "      <th>points</th>\n",
       "      <th>price</th>\n",
       "      <th>province</th>\n",
       "      <th>region_1</th>\n",
       "      <th>region_2</th>\n",
       "      <th>taster_name</th>\n",
       "      <th>taster_twitter_handle</th>\n",
       "      <th>title</th>\n",
       "      <th>variety</th>\n",
       "      <th>winery</th>\n",
       "    </tr>\n",
       "  </thead>\n",
       "  <tbody>\n",
       "    <tr>\n",
       "      <th>0</th>\n",
       "      <td>Italy</td>\n",
       "      <td>Aromas include tropical fruit, broom, brimston...</td>\n",
       "      <td>Vulkà Bianco</td>\n",
       "      <td>87</td>\n",
       "      <td>NaN</td>\n",
       "      <td>Sicily &amp; Sardinia</td>\n",
       "      <td>Etna</td>\n",
       "      <td>NaN</td>\n",
       "      <td>Kerin O’Keefe</td>\n",
       "      <td>@kerinokeefe</td>\n",
       "      <td>Nicosia 2013 Vulkà Bianco  (Etna)</td>\n",
       "      <td>White Blend</td>\n",
       "      <td>Nicosia</td>\n",
       "    </tr>\n",
       "    <tr>\n",
       "      <th>1</th>\n",
       "      <td>Portugal</td>\n",
       "      <td>This is ripe and fruity, a wine that is smooth...</td>\n",
       "      <td>Avidagos</td>\n",
       "      <td>87</td>\n",
       "      <td>15.0</td>\n",
       "      <td>Douro</td>\n",
       "      <td>NaN</td>\n",
       "      <td>NaN</td>\n",
       "      <td>Roger Voss</td>\n",
       "      <td>@vossroger</td>\n",
       "      <td>Quinta dos Avidagos 2011 Avidagos Red (Douro)</td>\n",
       "      <td>Portuguese Red</td>\n",
       "      <td>Quinta dos Avidagos</td>\n",
       "    </tr>\n",
       "    <tr>\n",
       "      <th>2</th>\n",
       "      <td>US</td>\n",
       "      <td>Tart and snappy, the flavors of lime flesh and...</td>\n",
       "      <td>NaN</td>\n",
       "      <td>87</td>\n",
       "      <td>14.0</td>\n",
       "      <td>Oregon</td>\n",
       "      <td>Willamette Valley</td>\n",
       "      <td>Willamette Valley</td>\n",
       "      <td>Paul Gregutt</td>\n",
       "      <td>@paulgwine</td>\n",
       "      <td>Rainstorm 2013 Pinot Gris (Willamette Valley)</td>\n",
       "      <td>Pinot Gris</td>\n",
       "      <td>Rainstorm</td>\n",
       "    </tr>\n",
       "    <tr>\n",
       "      <th>3</th>\n",
       "      <td>US</td>\n",
       "      <td>Pineapple rind, lemon pith and orange blossom ...</td>\n",
       "      <td>Reserve Late Harvest</td>\n",
       "      <td>87</td>\n",
       "      <td>13.0</td>\n",
       "      <td>Michigan</td>\n",
       "      <td>Lake Michigan Shore</td>\n",
       "      <td>NaN</td>\n",
       "      <td>Alexander Peartree</td>\n",
       "      <td>NaN</td>\n",
       "      <td>St. Julian 2013 Reserve Late Harvest Riesling ...</td>\n",
       "      <td>Riesling</td>\n",
       "      <td>St. Julian</td>\n",
       "    </tr>\n",
       "    <tr>\n",
       "      <th>4</th>\n",
       "      <td>US</td>\n",
       "      <td>Much like the regular bottling from 2012, this...</td>\n",
       "      <td>Vintner's Reserve Wild Child Block</td>\n",
       "      <td>87</td>\n",
       "      <td>65.0</td>\n",
       "      <td>Oregon</td>\n",
       "      <td>Willamette Valley</td>\n",
       "      <td>Willamette Valley</td>\n",
       "      <td>Paul Gregutt</td>\n",
       "      <td>@paulgwine</td>\n",
       "      <td>Sweet Cheeks 2012 Vintner's Reserve Wild Child...</td>\n",
       "      <td>Pinot Noir</td>\n",
       "      <td>Sweet Cheeks</td>\n",
       "    </tr>\n",
       "  </tbody>\n",
       "</table>\n",
       "</div>"
      ],
      "text/plain": [
       "    country                                        description  \\\n",
       "0     Italy  Aromas include tropical fruit, broom, brimston...   \n",
       "1  Portugal  This is ripe and fruity, a wine that is smooth...   \n",
       "2        US  Tart and snappy, the flavors of lime flesh and...   \n",
       "3        US  Pineapple rind, lemon pith and orange blossom ...   \n",
       "4        US  Much like the regular bottling from 2012, this...   \n",
       "\n",
       "                          designation  points  price           province  \\\n",
       "0                        Vulkà Bianco      87    NaN  Sicily & Sardinia   \n",
       "1                            Avidagos      87   15.0              Douro   \n",
       "2                                 NaN      87   14.0             Oregon   \n",
       "3                Reserve Late Harvest      87   13.0           Michigan   \n",
       "4  Vintner's Reserve Wild Child Block      87   65.0             Oregon   \n",
       "\n",
       "              region_1           region_2         taster_name  \\\n",
       "0                 Etna                NaN       Kerin O’Keefe   \n",
       "1                  NaN                NaN          Roger Voss   \n",
       "2    Willamette Valley  Willamette Valley        Paul Gregutt   \n",
       "3  Lake Michigan Shore                NaN  Alexander Peartree   \n",
       "4    Willamette Valley  Willamette Valley        Paul Gregutt   \n",
       "\n",
       "  taster_twitter_handle                                              title  \\\n",
       "0          @kerinokeefe                  Nicosia 2013 Vulkà Bianco  (Etna)   \n",
       "1            @vossroger      Quinta dos Avidagos 2011 Avidagos Red (Douro)   \n",
       "2           @paulgwine       Rainstorm 2013 Pinot Gris (Willamette Valley)   \n",
       "3                   NaN  St. Julian 2013 Reserve Late Harvest Riesling ...   \n",
       "4           @paulgwine   Sweet Cheeks 2012 Vintner's Reserve Wild Child...   \n",
       "\n",
       "          variety               winery  \n",
       "0     White Blend              Nicosia  \n",
       "1  Portuguese Red  Quinta dos Avidagos  \n",
       "2      Pinot Gris            Rainstorm  \n",
       "3        Riesling           St. Julian  \n",
       "4      Pinot Noir         Sweet Cheeks  "
      ]
     },
     "execution_count": 1,
     "metadata": {},
     "output_type": "execute_result"
    }
   ],
   "source": [
    "import pandas as pd\n",
    "pd.set_option(\"display.max_rows\", 5)\n",
    "reviews = pd.read_csv(\"../input/wine-reviews/winemag-data-130k-v2.csv\", index_col=0)\n",
    "\n",
    "from learntools.core import binder; binder.bind(globals())\n",
    "from learntools.pandas.summary_functions_and_maps import *\n",
    "print(\"Setup complete.\")\n",
    "\n",
    "reviews.head()"
   ]
  },
  {
   "cell_type": "markdown",
   "id": "7d1c2550",
   "metadata": {
    "papermill": {
     "duration": 0.024758,
     "end_time": "2022-03-14T00:36:08.999737",
     "exception": false,
     "start_time": "2022-03-14T00:36:08.974979",
     "status": "completed"
    },
    "tags": []
   },
   "source": [
    "# Exercises"
   ]
  },
  {
   "cell_type": "markdown",
   "id": "b64b3caf",
   "metadata": {
    "papermill": {
     "duration": 0.024405,
     "end_time": "2022-03-14T00:36:09.049892",
     "exception": false,
     "start_time": "2022-03-14T00:36:09.025487",
     "status": "completed"
    },
    "tags": []
   },
   "source": [
    "## 1.\n",
    "\n",
    "What is the median of the `points` column in the `reviews` DataFrame?"
   ]
  },
  {
   "cell_type": "code",
   "execution_count": 2,
   "id": "680f0f25",
   "metadata": {
    "execution": {
     "iopub.execute_input": "2022-03-14T00:36:09.104403Z",
     "iopub.status.busy": "2022-03-14T00:36:09.103548Z",
     "iopub.status.idle": "2022-03-14T00:36:09.111391Z",
     "shell.execute_reply": "2022-03-14T00:36:09.110737Z",
     "shell.execute_reply.started": "2022-03-14T00:33:47.852728Z"
    },
    "papermill": {
     "duration": 0.037035,
     "end_time": "2022-03-14T00:36:09.111530",
     "exception": false,
     "start_time": "2022-03-14T00:36:09.074495",
     "status": "completed"
    },
    "tags": []
   },
   "outputs": [
    {
     "data": {
      "application/javascript": [
       "parent.postMessage({\"jupyterEvent\": \"custom.exercise_interaction\", \"data\": {\"outcomeType\": 1, \"valueTowardsCompletion\": 0.14285714285714285, \"interactionType\": 1, \"questionType\": 1, \"questionId\": \"1_MedianPoints\", \"learnToolsVersion\": \"0.3.4\", \"failureMessage\": \"\", \"exceptionClass\": \"\", \"trace\": \"\"}}, \"*\")"
      ],
      "text/plain": [
       "<IPython.core.display.Javascript object>"
      ]
     },
     "metadata": {},
     "output_type": "display_data"
    },
    {
     "data": {
      "text/markdown": [
       "<span style=\"color:#33cc33\">Correct</span>"
      ],
      "text/plain": [
       "Correct"
      ]
     },
     "metadata": {},
     "output_type": "display_data"
    }
   ],
   "source": [
    "median_points = reviews.points.median()\n",
    "median_points\n",
    "# Check your answer\n",
    "q1.check()"
   ]
  },
  {
   "cell_type": "code",
   "execution_count": 3,
   "id": "c5ebf423",
   "metadata": {
    "execution": {
     "iopub.execute_input": "2022-03-14T00:36:09.167059Z",
     "iopub.status.busy": "2022-03-14T00:36:09.166342Z",
     "iopub.status.idle": "2022-03-14T00:36:09.168869Z",
     "shell.execute_reply": "2022-03-14T00:36:09.169340Z",
     "shell.execute_reply.started": "2022-03-14T00:33:47.863094Z"
    },
    "papermill": {
     "duration": 0.032049,
     "end_time": "2022-03-14T00:36:09.169516",
     "exception": false,
     "start_time": "2022-03-14T00:36:09.137467",
     "status": "completed"
    },
    "tags": []
   },
   "outputs": [],
   "source": [
    "#q1.hint()\n",
    "#q1.solution()"
   ]
  },
  {
   "cell_type": "markdown",
   "id": "789ffa18",
   "metadata": {
    "papermill": {
     "duration": 0.02556,
     "end_time": "2022-03-14T00:36:09.223467",
     "exception": false,
     "start_time": "2022-03-14T00:36:09.197907",
     "status": "completed"
    },
    "tags": []
   },
   "source": [
    "## 2. \n",
    "What countries are represented in the dataset? (Your answer should not include any duplicates.)"
   ]
  },
  {
   "cell_type": "code",
   "execution_count": 4,
   "id": "3be15cc1",
   "metadata": {
    "execution": {
     "iopub.execute_input": "2022-03-14T00:36:09.278537Z",
     "iopub.status.busy": "2022-03-14T00:36:09.277839Z",
     "iopub.status.idle": "2022-03-14T00:36:09.296127Z",
     "shell.execute_reply": "2022-03-14T00:36:09.296566Z",
     "shell.execute_reply.started": "2022-03-14T00:33:47.875233Z"
    },
    "papermill": {
     "duration": 0.047512,
     "end_time": "2022-03-14T00:36:09.296746",
     "exception": false,
     "start_time": "2022-03-14T00:36:09.249234",
     "status": "completed"
    },
    "tags": []
   },
   "outputs": [
    {
     "data": {
      "application/javascript": [
       "parent.postMessage({\"jupyterEvent\": \"custom.exercise_interaction\", \"data\": {\"outcomeType\": 1, \"valueTowardsCompletion\": 0.14285714285714285, \"interactionType\": 1, \"questionType\": 2, \"questionId\": \"2_UniqueCountries\", \"learnToolsVersion\": \"0.3.4\", \"failureMessage\": \"\", \"exceptionClass\": \"\", \"trace\": \"\"}}, \"*\")"
      ],
      "text/plain": [
       "<IPython.core.display.Javascript object>"
      ]
     },
     "metadata": {},
     "output_type": "display_data"
    },
    {
     "data": {
      "text/markdown": [
       "<span style=\"color:#33cc33\">Correct</span>"
      ],
      "text/plain": [
       "Correct"
      ]
     },
     "metadata": {},
     "output_type": "display_data"
    }
   ],
   "source": [
    "countries = reviews.country.unique()\n",
    "\n",
    "# Check your answer\n",
    "q2.check()"
   ]
  },
  {
   "cell_type": "code",
   "execution_count": 5,
   "id": "7d9041c4",
   "metadata": {
    "execution": {
     "iopub.execute_input": "2022-03-14T00:36:09.353957Z",
     "iopub.status.busy": "2022-03-14T00:36:09.353267Z",
     "iopub.status.idle": "2022-03-14T00:36:09.356014Z",
     "shell.execute_reply": "2022-03-14T00:36:09.356519Z",
     "shell.execute_reply.started": "2022-03-14T00:33:47.907880Z"
    },
    "papermill": {
     "duration": 0.03294,
     "end_time": "2022-03-14T00:36:09.356687",
     "exception": false,
     "start_time": "2022-03-14T00:36:09.323747",
     "status": "completed"
    },
    "tags": []
   },
   "outputs": [],
   "source": [
    "#q2.hint()\n",
    "#q2.solution()"
   ]
  },
  {
   "cell_type": "markdown",
   "id": "14bf4a10",
   "metadata": {
    "papermill": {
     "duration": 0.026872,
     "end_time": "2022-03-14T00:36:09.410649",
     "exception": false,
     "start_time": "2022-03-14T00:36:09.383777",
     "status": "completed"
    },
    "tags": []
   },
   "source": [
    "## 3.\n",
    "How often does each country appear in the dataset? Create a Series `reviews_per_country` mapping countries to the count of reviews of wines from that country."
   ]
  },
  {
   "cell_type": "code",
   "execution_count": 6,
   "id": "90b26d22",
   "metadata": {
    "execution": {
     "iopub.execute_input": "2022-03-14T00:36:09.468244Z",
     "iopub.status.busy": "2022-03-14T00:36:09.467546Z",
     "iopub.status.idle": "2022-03-14T00:36:09.492359Z",
     "shell.execute_reply": "2022-03-14T00:36:09.492873Z",
     "shell.execute_reply.started": "2022-03-14T00:33:47.912941Z"
    },
    "papermill": {
     "duration": 0.055276,
     "end_time": "2022-03-14T00:36:09.493047",
     "exception": false,
     "start_time": "2022-03-14T00:36:09.437771",
     "status": "completed"
    },
    "tags": []
   },
   "outputs": [
    {
     "data": {
      "application/javascript": [
       "parent.postMessage({\"jupyterEvent\": \"custom.exercise_interaction\", \"data\": {\"outcomeType\": 1, \"valueTowardsCompletion\": 0.14285714285714285, \"interactionType\": 1, \"questionType\": 1, \"questionId\": \"3_ReviewsPerCountry\", \"learnToolsVersion\": \"0.3.4\", \"failureMessage\": \"\", \"exceptionClass\": \"\", \"trace\": \"\"}}, \"*\")"
      ],
      "text/plain": [
       "<IPython.core.display.Javascript object>"
      ]
     },
     "metadata": {},
     "output_type": "display_data"
    },
    {
     "data": {
      "text/markdown": [
       "<span style=\"color:#33cc33\">Correct</span>"
      ],
      "text/plain": [
       "Correct"
      ]
     },
     "metadata": {},
     "output_type": "display_data"
    }
   ],
   "source": [
    "reviews_per_country = reviews.country.value_counts()\n",
    "\n",
    "# Check your answer\n",
    "q3.check()"
   ]
  },
  {
   "cell_type": "code",
   "execution_count": 7,
   "id": "fee2c740",
   "metadata": {
    "execution": {
     "iopub.execute_input": "2022-03-14T00:36:09.554855Z",
     "iopub.status.busy": "2022-03-14T00:36:09.554079Z",
     "iopub.status.idle": "2022-03-14T00:36:09.556737Z",
     "shell.execute_reply": "2022-03-14T00:36:09.557214Z",
     "shell.execute_reply.started": "2022-03-14T00:33:47.948939Z"
    },
    "papermill": {
     "duration": 0.03469,
     "end_time": "2022-03-14T00:36:09.557387",
     "exception": false,
     "start_time": "2022-03-14T00:36:09.522697",
     "status": "completed"
    },
    "tags": []
   },
   "outputs": [],
   "source": [
    "#q3.hint()\n",
    "#q3.solution()"
   ]
  },
  {
   "cell_type": "markdown",
   "id": "371c85a1",
   "metadata": {
    "papermill": {
     "duration": 0.028413,
     "end_time": "2022-03-14T00:36:09.614359",
     "exception": false,
     "start_time": "2022-03-14T00:36:09.585946",
     "status": "completed"
    },
    "tags": []
   },
   "source": [
    "## 4.\n",
    "Create variable `centered_price` containing a version of the `price` column with the mean price subtracted.\n",
    "\n",
    "(Note: this 'centering' transformation is a common preprocessing step before applying various machine learning algorithms.) "
   ]
  },
  {
   "cell_type": "code",
   "execution_count": 8,
   "id": "8cdd6bc0",
   "metadata": {
    "execution": {
     "iopub.execute_input": "2022-03-14T00:36:09.676749Z",
     "iopub.status.busy": "2022-03-14T00:36:09.676101Z",
     "iopub.status.idle": "2022-03-14T00:36:09.742950Z",
     "shell.execute_reply": "2022-03-14T00:36:09.742241Z",
     "shell.execute_reply.started": "2022-03-14T00:33:47.955453Z"
    },
    "papermill": {
     "duration": 0.100237,
     "end_time": "2022-03-14T00:36:09.743105",
     "exception": false,
     "start_time": "2022-03-14T00:36:09.642868",
     "status": "completed"
    },
    "tags": []
   },
   "outputs": [
    {
     "name": "stdout",
     "output_type": "stream",
     "text": [
      "0               NaN\n",
      "1        -20.363389\n",
      "            ...    \n",
      "129969    -3.363389\n",
      "129970   -14.363389\n",
      "Name: price, Length: 129971, dtype: float64\n"
     ]
    },
    {
     "data": {
      "application/javascript": [
       "parent.postMessage({\"jupyterEvent\": \"custom.exercise_interaction\", \"data\": {\"outcomeType\": 1, \"valueTowardsCompletion\": 0.14285714285714285, \"interactionType\": 1, \"questionType\": 1, \"questionId\": \"4_CenteredPrice\", \"learnToolsVersion\": \"0.3.4\", \"failureMessage\": \"\", \"exceptionClass\": \"\", \"trace\": \"\"}}, \"*\")"
      ],
      "text/plain": [
       "<IPython.core.display.Javascript object>"
      ]
     },
     "metadata": {},
     "output_type": "display_data"
    },
    {
     "data": {
      "text/markdown": [
       "<span style=\"color:#33cc33\">Correct</span>"
      ],
      "text/plain": [
       "Correct"
      ]
     },
     "metadata": {},
     "output_type": "display_data"
    }
   ],
   "source": [
    "centered_price_mean = reviews.price.mean()\n",
    "centered_price = reviews.price.map(lambda p: p - centered_price_mean)\n",
    "print(centered_price)\n",
    "\n",
    "\n",
    "# Check your answer\n",
    "q4.check()"
   ]
  },
  {
   "cell_type": "code",
   "execution_count": 9,
   "id": "27f3fc6e",
   "metadata": {
    "execution": {
     "iopub.execute_input": "2022-03-14T00:36:09.809993Z",
     "iopub.status.busy": "2022-03-14T00:36:09.809240Z",
     "iopub.status.idle": "2022-03-14T00:36:09.812501Z",
     "shell.execute_reply": "2022-03-14T00:36:09.811973Z",
     "shell.execute_reply.started": "2022-03-14T00:33:48.037202Z"
    },
    "papermill": {
     "duration": 0.039325,
     "end_time": "2022-03-14T00:36:09.812636",
     "exception": false,
     "start_time": "2022-03-14T00:36:09.773311",
     "status": "completed"
    },
    "tags": []
   },
   "outputs": [],
   "source": [
    "#q4.hint()\n",
    "#q4.solution()"
   ]
  },
  {
   "cell_type": "markdown",
   "id": "b545f136",
   "metadata": {
    "papermill": {
     "duration": 0.029408,
     "end_time": "2022-03-14T00:36:09.872048",
     "exception": false,
     "start_time": "2022-03-14T00:36:09.842640",
     "status": "completed"
    },
    "tags": []
   },
   "source": [
    "## 5.\n",
    "I'm an economical wine buyer. Which wine is the \"best bargain\"? Create a variable `bargain_wine` with the title of the wine with the highest points-to-price ratio in the dataset."
   ]
  },
  {
   "cell_type": "code",
   "execution_count": 10,
   "id": "be028636",
   "metadata": {
    "execution": {
     "iopub.execute_input": "2022-03-14T00:36:09.937399Z",
     "iopub.status.busy": "2022-03-14T00:36:09.936676Z",
     "iopub.status.idle": "2022-03-14T00:36:09.951872Z",
     "shell.execute_reply": "2022-03-14T00:36:09.951327Z",
     "shell.execute_reply.started": "2022-03-14T00:33:48.042414Z"
    },
    "papermill": {
     "duration": 0.050107,
     "end_time": "2022-03-14T00:36:09.952011",
     "exception": false,
     "start_time": "2022-03-14T00:36:09.901904",
     "status": "completed"
    },
    "tags": []
   },
   "outputs": [
    {
     "name": "stdout",
     "output_type": "stream",
     "text": [
      "Bandit NV Merlot (California)\n"
     ]
    },
    {
     "data": {
      "application/javascript": [
       "parent.postMessage({\"jupyterEvent\": \"custom.exercise_interaction\", \"data\": {\"outcomeType\": 1, \"valueTowardsCompletion\": 0.14285714285714285, \"interactionType\": 1, \"questionType\": 2, \"questionId\": \"5_BargainWine\", \"learnToolsVersion\": \"0.3.4\", \"failureMessage\": \"\", \"exceptionClass\": \"\", \"trace\": \"\"}}, \"*\")"
      ],
      "text/plain": [
       "<IPython.core.display.Javascript object>"
      ]
     },
     "metadata": {},
     "output_type": "display_data"
    },
    {
     "data": {
      "text/markdown": [
       "<span style=\"color:#33cc33\">Correct</span>"
      ],
      "text/plain": [
       "Correct"
      ]
     },
     "metadata": {},
     "output_type": "display_data"
    }
   ],
   "source": [
    "\n",
    "points_to_price_ratio = (reviews.points / reviews.price).idxmax()\n",
    "bargain_wine = reviews.loc[points_to_price_ratio, \"title\"]\n",
    "\n",
    "print(bargain_wine)\n",
    "'''\n",
    "points_to_price_ratio = (reviews.points / reviews.price)\n",
    "max_points_to_price_ratio = points_to_price_ratio.max()\n",
    "bargain_wine = reviews[points_to_price_ratio == max_points_to_price_ratio]['title'].iloc[0]\n",
    "'''\n",
    "\n",
    "\n",
    "# Check your answer\n",
    "q5.check()"
   ]
  },
  {
   "cell_type": "code",
   "execution_count": 11,
   "id": "13cbcbce",
   "metadata": {
    "execution": {
     "iopub.execute_input": "2022-03-14T00:36:10.018956Z",
     "iopub.status.busy": "2022-03-14T00:36:10.018284Z",
     "iopub.status.idle": "2022-03-14T00:36:10.021158Z",
     "shell.execute_reply": "2022-03-14T00:36:10.021719Z",
     "shell.execute_reply.started": "2022-03-14T00:33:48.064336Z"
    },
    "papermill": {
     "duration": 0.038247,
     "end_time": "2022-03-14T00:36:10.021902",
     "exception": false,
     "start_time": "2022-03-14T00:36:09.983655",
     "status": "completed"
    },
    "tags": []
   },
   "outputs": [],
   "source": [
    "#q5.hint()\n",
    "#q5.solution()"
   ]
  },
  {
   "cell_type": "markdown",
   "id": "94378eca",
   "metadata": {
    "papermill": {
     "duration": 0.031355,
     "end_time": "2022-03-14T00:36:10.086620",
     "exception": false,
     "start_time": "2022-03-14T00:36:10.055265",
     "status": "completed"
    },
    "tags": []
   },
   "source": []
  },
  {
   "cell_type": "markdown",
   "id": "11dee7aa",
   "metadata": {
    "papermill": {
     "duration": 0.031742,
     "end_time": "2022-03-14T00:36:10.150439",
     "exception": false,
     "start_time": "2022-03-14T00:36:10.118697",
     "status": "completed"
    },
    "tags": []
   },
   "source": [
    "## 6.\n",
    "There are only so many words you can use when describing a bottle of wine. Is a wine more likely to be \"tropical\" or \"fruity\"? Create a Series `descriptor_counts` counting how many times each of these two words appears in the `description` column in the dataset. (For simplicity, let's ignore the capitalized versions of these words.)"
   ]
  },
  {
   "cell_type": "code",
   "execution_count": 12,
   "id": "dfb30a9b",
   "metadata": {
    "execution": {
     "iopub.execute_input": "2022-03-14T00:36:10.217874Z",
     "iopub.status.busy": "2022-03-14T00:36:10.217081Z",
     "iopub.status.idle": "2022-03-14T00:36:10.482183Z",
     "shell.execute_reply": "2022-03-14T00:36:10.481623Z",
     "shell.execute_reply.started": "2022-03-14T00:33:48.068810Z"
    },
    "papermill": {
     "duration": 0.300023,
     "end_time": "2022-03-14T00:36:10.482328",
     "exception": false,
     "start_time": "2022-03-14T00:36:10.182305",
     "status": "completed"
    },
    "tags": []
   },
   "outputs": [
    {
     "name": "stdout",
     "output_type": "stream",
     "text": [
      "tropical    3607\n",
      "fruity      9090\n",
      "dtype: int64\n"
     ]
    },
    {
     "data": {
      "application/javascript": [
       "parent.postMessage({\"jupyterEvent\": \"custom.exercise_interaction\", \"data\": {\"outcomeType\": 1, \"valueTowardsCompletion\": 0.14285714285714285, \"interactionType\": 1, \"questionType\": 1, \"questionId\": \"6_DescriptorCounts\", \"learnToolsVersion\": \"0.3.4\", \"failureMessage\": \"\", \"exceptionClass\": \"\", \"trace\": \"\"}}, \"*\")"
      ],
      "text/plain": [
       "<IPython.core.display.Javascript object>"
      ]
     },
     "metadata": {},
     "output_type": "display_data"
    },
    {
     "data": {
      "text/markdown": [
       "<span style=\"color:#33cc33\">Correct</span>"
      ],
      "text/plain": [
       "Correct"
      ]
     },
     "metadata": {},
     "output_type": "display_data"
    }
   ],
   "source": [
    "'''\n",
    "wine_trop = reviews.description.map(lambda desc: \"tropical\" in desc).sum()\n",
    "wine_fruity = reviews.description.map(lambda desc: \"fruity\" in desc).sum()\n",
    "descriptor_counts = pd.Series([wine_trop, wine_fruity], index=['tropical', 'fruity'])\n",
    "print(descriptor_counts)\n",
    "'''\n",
    "wine_fruity = reviews.description.str.contains('fruity').sum()\n",
    "wine_trop = reviews.description.str.contains('tropical').sum()\n",
    "\n",
    "descriptor_counts = pd.Series([wine_trop, wine_fruity], index=['tropical', 'fruity'])\n",
    "print(descriptor_counts)\n",
    "\n",
    "# Check your answer\n",
    "q6.check()"
   ]
  },
  {
   "cell_type": "code",
   "execution_count": 13,
   "id": "8094efb1",
   "metadata": {
    "execution": {
     "iopub.execute_input": "2022-03-14T00:36:10.554105Z",
     "iopub.status.busy": "2022-03-14T00:36:10.553390Z",
     "iopub.status.idle": "2022-03-14T00:36:10.555519Z",
     "shell.execute_reply": "2022-03-14T00:36:10.555972Z",
     "shell.execute_reply.started": "2022-03-14T00:33:48.391158Z"
    },
    "papermill": {
     "duration": 0.039845,
     "end_time": "2022-03-14T00:36:10.556146",
     "exception": false,
     "start_time": "2022-03-14T00:36:10.516301",
     "status": "completed"
    },
    "tags": []
   },
   "outputs": [],
   "source": [
    "#q6.hint()\n",
    "#q6.solution()"
   ]
  },
  {
   "cell_type": "markdown",
   "id": "a27572ad",
   "metadata": {
    "papermill": {
     "duration": 0.034625,
     "end_time": "2022-03-14T00:36:10.623860",
     "exception": false,
     "start_time": "2022-03-14T00:36:10.589235",
     "status": "completed"
    },
    "tags": []
   },
   "source": [
    "## 7.\n",
    "We'd like to host these wine reviews on our website, but a rating system ranging from 80 to 100 points is too hard to understand - we'd like to translate them into simple star ratings. A score of 95 or higher counts as 3 stars, a score of at least 85 but less than 95 is 2 stars. Any other score is 1 star.\n",
    "\n",
    "Also, the Canadian Vintners Association bought a lot of ads on the site, so any wines from Canada should automatically get 3 stars, regardless of points.\n",
    "\n",
    "Create a series `star_ratings` with the number of stars corresponding to each review in the dataset."
   ]
  },
  {
   "cell_type": "code",
   "execution_count": 14,
   "id": "a9256004",
   "metadata": {
    "execution": {
     "iopub.execute_input": "2022-03-14T00:36:10.705476Z",
     "iopub.status.busy": "2022-03-14T00:36:10.704767Z",
     "iopub.status.idle": "2022-03-14T00:36:14.451176Z",
     "shell.execute_reply": "2022-03-14T00:36:14.450603Z",
     "shell.execute_reply.started": "2022-03-14T00:34:46.125657Z"
    },
    "papermill": {
     "duration": 3.793396,
     "end_time": "2022-03-14T00:36:14.451329",
     "exception": false,
     "start_time": "2022-03-14T00:36:10.657933",
     "status": "completed"
    },
    "tags": []
   },
   "outputs": [
    {
     "name": "stdout",
     "output_type": "stream",
     "text": [
      "0         2\n",
      "1         2\n",
      "         ..\n",
      "129969    2\n",
      "129970    2\n",
      "Length: 129971, dtype: int64\n"
     ]
    },
    {
     "data": {
      "application/javascript": [
       "parent.postMessage({\"jupyterEvent\": \"custom.exercise_interaction\", \"data\": {\"outcomeType\": 1, \"valueTowardsCompletion\": 0.14285714285714285, \"interactionType\": 1, \"questionType\": 1, \"questionId\": \"7_StarRatings\", \"learnToolsVersion\": \"0.3.4\", \"failureMessage\": \"\", \"exceptionClass\": \"\", \"trace\": \"\"}}, \"*\")"
      ],
      "text/plain": [
       "<IPython.core.display.Javascript object>"
      ]
     },
     "metadata": {},
     "output_type": "display_data"
    },
    {
     "data": {
      "text/markdown": [
       "<span style=\"color:#33cc33\">Correct</span>"
      ],
      "text/plain": [
       "Correct"
      ]
     },
     "metadata": {},
     "output_type": "display_data"
    }
   ],
   "source": [
    "def convert_to_stars(row):\n",
    "  points = row.points\n",
    "  country = row.country\n",
    "\n",
    "  if points >= 95 and country == 'Canada':\n",
    "    return 3\n",
    "  elif points >= 85 and points < 95:\n",
    "    return 2\n",
    "  else:\n",
    "    return 1\n",
    "\n",
    "star_ratings = reviews.apply(convert_to_stars, axis='columns')\n",
    "print(star_ratings)\n",
    "\n",
    "# Check your answer\n",
    "q7.check()"
   ]
  },
  {
   "cell_type": "code",
   "execution_count": 15,
   "id": "725c1c41",
   "metadata": {
    "execution": {
     "iopub.execute_input": "2022-03-14T00:36:14.526511Z",
     "iopub.status.busy": "2022-03-14T00:36:14.525680Z",
     "iopub.status.idle": "2022-03-14T00:36:14.529572Z",
     "shell.execute_reply": "2022-03-14T00:36:14.529076Z",
     "shell.execute_reply.started": "2022-03-14T00:33:52.551529Z"
    },
    "papermill": {
     "duration": 0.043369,
     "end_time": "2022-03-14T00:36:14.529723",
     "exception": false,
     "start_time": "2022-03-14T00:36:14.486354",
     "status": "completed"
    },
    "tags": []
   },
   "outputs": [],
   "source": [
    "#q7.hint()\n",
    "#q7.solution()"
   ]
  },
  {
   "cell_type": "markdown",
   "id": "8af994e8",
   "metadata": {
    "papermill": {
     "duration": 0.03449,
     "end_time": "2022-03-14T00:36:14.599141",
     "exception": false,
     "start_time": "2022-03-14T00:36:14.564651",
     "status": "completed"
    },
    "tags": []
   },
   "source": [
    "# Keep going\n",
    "Continue to **[grouping and sorting](https://www.kaggle.com/residentmario/grouping-and-sorting)**."
   ]
  },
  {
   "cell_type": "markdown",
   "id": "d58a943d",
   "metadata": {
    "papermill": {
     "duration": 0.034622,
     "end_time": "2022-03-14T00:36:14.668808",
     "exception": false,
     "start_time": "2022-03-14T00:36:14.634186",
     "status": "completed"
    },
    "tags": []
   },
   "source": [
    "---\n",
    "\n",
    "\n",
    "\n",
    "\n",
    "*Have questions or comments? Visit the [course discussion forum](https://www.kaggle.com/learn/pandas/discussion) to chat with other learners.*"
   ]
  }
 ],
 "metadata": {
  "kernelspec": {
   "display_name": "Python 3",
   "language": "python",
   "name": "python3"
  },
  "language_info": {
   "codemirror_mode": {
    "name": "ipython",
    "version": 3
   },
   "file_extension": ".py",
   "mimetype": "text/x-python",
   "name": "python",
   "nbconvert_exporter": "python",
   "pygments_lexer": "ipython3",
   "version": "3.7.12"
  },
  "papermill": {
   "default_parameters": {},
   "duration": 25.145103,
   "end_time": "2022-03-14T00:36:15.413411",
   "environment_variables": {},
   "exception": null,
   "input_path": "__notebook__.ipynb",
   "output_path": "__notebook__.ipynb",
   "parameters": {},
   "start_time": "2022-03-14T00:35:50.268308",
   "version": "2.3.3"
  }
 },
 "nbformat": 4,
 "nbformat_minor": 5
}
