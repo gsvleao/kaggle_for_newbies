{
 "cells": [
  {
   "cell_type": "markdown",
   "id": "c1c82cc4",
   "metadata": {
    "papermill": {
     "duration": 0.023973,
     "end_time": "2022-03-07T04:53:26.529406",
     "exception": false,
     "start_time": "2022-03-07T04:53:26.505433",
     "status": "completed"
    },
    "tags": []
   },
   "source": [
    "**This notebook is an exercise in the [Pandas](https://www.kaggle.com/learn/pandas) course.  You can reference the tutorial at [this link](https://www.kaggle.com/residentmario/summary-functions-and-maps).**\n",
    "\n",
    "---\n"
   ]
  },
  {
   "cell_type": "markdown",
   "id": "7d2a6ad8",
   "metadata": {
    "papermill": {
     "duration": 0.023276,
     "end_time": "2022-03-07T04:53:26.576914",
     "exception": false,
     "start_time": "2022-03-07T04:53:26.553638",
     "status": "completed"
    },
    "tags": []
   },
   "source": [
    "# Introduction\n",
    "\n",
    "Now you are ready to get a deeper understanding of your data.\n",
    "\n",
    "Run the following cell to load your data and some utility functions (including code to check your answers)."
   ]
  },
  {
   "cell_type": "code",
   "execution_count": 1,
   "id": "d6c950fa",
   "metadata": {
    "execution": {
     "iopub.execute_input": "2022-03-07T04:53:26.629076Z",
     "iopub.status.busy": "2022-03-07T04:53:26.627593Z",
     "iopub.status.idle": "2022-03-07T04:53:34.487615Z",
     "shell.execute_reply": "2022-03-07T04:53:34.488119Z",
     "shell.execute_reply.started": "2022-03-07T04:50:35.159873Z"
    },
    "papermill": {
     "duration": 7.888868,
     "end_time": "2022-03-07T04:53:34.488424",
     "exception": false,
     "start_time": "2022-03-07T04:53:26.599556",
     "status": "completed"
    },
    "tags": []
   },
   "outputs": [
    {
     "name": "stdout",
     "output_type": "stream",
     "text": [
      "Setup complete.\n"
     ]
    },
    {
     "data": {
      "text/html": [
       "<div>\n",
       "<style scoped>\n",
       "    .dataframe tbody tr th:only-of-type {\n",
       "        vertical-align: middle;\n",
       "    }\n",
       "\n",
       "    .dataframe tbody tr th {\n",
       "        vertical-align: top;\n",
       "    }\n",
       "\n",
       "    .dataframe thead th {\n",
       "        text-align: right;\n",
       "    }\n",
       "</style>\n",
       "<table border=\"1\" class=\"dataframe\">\n",
       "  <thead>\n",
       "    <tr style=\"text-align: right;\">\n",
       "      <th></th>\n",
       "      <th>country</th>\n",
       "      <th>description</th>\n",
       "      <th>designation</th>\n",
       "      <th>points</th>\n",
       "      <th>price</th>\n",
       "      <th>province</th>\n",
       "      <th>region_1</th>\n",
       "      <th>region_2</th>\n",
       "      <th>taster_name</th>\n",
       "      <th>taster_twitter_handle</th>\n",
       "      <th>title</th>\n",
       "      <th>variety</th>\n",
       "      <th>winery</th>\n",
       "    </tr>\n",
       "  </thead>\n",
       "  <tbody>\n",
       "    <tr>\n",
       "      <th>0</th>\n",
       "      <td>Italy</td>\n",
       "      <td>Aromas include tropical fruit, broom, brimston...</td>\n",
       "      <td>Vulkà Bianco</td>\n",
       "      <td>87</td>\n",
       "      <td>NaN</td>\n",
       "      <td>Sicily &amp; Sardinia</td>\n",
       "      <td>Etna</td>\n",
       "      <td>NaN</td>\n",
       "      <td>Kerin O’Keefe</td>\n",
       "      <td>@kerinokeefe</td>\n",
       "      <td>Nicosia 2013 Vulkà Bianco  (Etna)</td>\n",
       "      <td>White Blend</td>\n",
       "      <td>Nicosia</td>\n",
       "    </tr>\n",
       "    <tr>\n",
       "      <th>1</th>\n",
       "      <td>Portugal</td>\n",
       "      <td>This is ripe and fruity, a wine that is smooth...</td>\n",
       "      <td>Avidagos</td>\n",
       "      <td>87</td>\n",
       "      <td>15.0</td>\n",
       "      <td>Douro</td>\n",
       "      <td>NaN</td>\n",
       "      <td>NaN</td>\n",
       "      <td>Roger Voss</td>\n",
       "      <td>@vossroger</td>\n",
       "      <td>Quinta dos Avidagos 2011 Avidagos Red (Douro)</td>\n",
       "      <td>Portuguese Red</td>\n",
       "      <td>Quinta dos Avidagos</td>\n",
       "    </tr>\n",
       "    <tr>\n",
       "      <th>2</th>\n",
       "      <td>US</td>\n",
       "      <td>Tart and snappy, the flavors of lime flesh and...</td>\n",
       "      <td>NaN</td>\n",
       "      <td>87</td>\n",
       "      <td>14.0</td>\n",
       "      <td>Oregon</td>\n",
       "      <td>Willamette Valley</td>\n",
       "      <td>Willamette Valley</td>\n",
       "      <td>Paul Gregutt</td>\n",
       "      <td>@paulgwine</td>\n",
       "      <td>Rainstorm 2013 Pinot Gris (Willamette Valley)</td>\n",
       "      <td>Pinot Gris</td>\n",
       "      <td>Rainstorm</td>\n",
       "    </tr>\n",
       "    <tr>\n",
       "      <th>3</th>\n",
       "      <td>US</td>\n",
       "      <td>Pineapple rind, lemon pith and orange blossom ...</td>\n",
       "      <td>Reserve Late Harvest</td>\n",
       "      <td>87</td>\n",
       "      <td>13.0</td>\n",
       "      <td>Michigan</td>\n",
       "      <td>Lake Michigan Shore</td>\n",
       "      <td>NaN</td>\n",
       "      <td>Alexander Peartree</td>\n",
       "      <td>NaN</td>\n",
       "      <td>St. Julian 2013 Reserve Late Harvest Riesling ...</td>\n",
       "      <td>Riesling</td>\n",
       "      <td>St. Julian</td>\n",
       "    </tr>\n",
       "    <tr>\n",
       "      <th>4</th>\n",
       "      <td>US</td>\n",
       "      <td>Much like the regular bottling from 2012, this...</td>\n",
       "      <td>Vintner's Reserve Wild Child Block</td>\n",
       "      <td>87</td>\n",
       "      <td>65.0</td>\n",
       "      <td>Oregon</td>\n",
       "      <td>Willamette Valley</td>\n",
       "      <td>Willamette Valley</td>\n",
       "      <td>Paul Gregutt</td>\n",
       "      <td>@paulgwine</td>\n",
       "      <td>Sweet Cheeks 2012 Vintner's Reserve Wild Child...</td>\n",
       "      <td>Pinot Noir</td>\n",
       "      <td>Sweet Cheeks</td>\n",
       "    </tr>\n",
       "  </tbody>\n",
       "</table>\n",
       "</div>"
      ],
      "text/plain": [
       "    country                                        description  \\\n",
       "0     Italy  Aromas include tropical fruit, broom, brimston...   \n",
       "1  Portugal  This is ripe and fruity, a wine that is smooth...   \n",
       "2        US  Tart and snappy, the flavors of lime flesh and...   \n",
       "3        US  Pineapple rind, lemon pith and orange blossom ...   \n",
       "4        US  Much like the regular bottling from 2012, this...   \n",
       "\n",
       "                          designation  points  price           province  \\\n",
       "0                        Vulkà Bianco      87    NaN  Sicily & Sardinia   \n",
       "1                            Avidagos      87   15.0              Douro   \n",
       "2                                 NaN      87   14.0             Oregon   \n",
       "3                Reserve Late Harvest      87   13.0           Michigan   \n",
       "4  Vintner's Reserve Wild Child Block      87   65.0             Oregon   \n",
       "\n",
       "              region_1           region_2         taster_name  \\\n",
       "0                 Etna                NaN       Kerin O’Keefe   \n",
       "1                  NaN                NaN          Roger Voss   \n",
       "2    Willamette Valley  Willamette Valley        Paul Gregutt   \n",
       "3  Lake Michigan Shore                NaN  Alexander Peartree   \n",
       "4    Willamette Valley  Willamette Valley        Paul Gregutt   \n",
       "\n",
       "  taster_twitter_handle                                              title  \\\n",
       "0          @kerinokeefe                  Nicosia 2013 Vulkà Bianco  (Etna)   \n",
       "1            @vossroger      Quinta dos Avidagos 2011 Avidagos Red (Douro)   \n",
       "2           @paulgwine       Rainstorm 2013 Pinot Gris (Willamette Valley)   \n",
       "3                   NaN  St. Julian 2013 Reserve Late Harvest Riesling ...   \n",
       "4           @paulgwine   Sweet Cheeks 2012 Vintner's Reserve Wild Child...   \n",
       "\n",
       "          variety               winery  \n",
       "0     White Blend              Nicosia  \n",
       "1  Portuguese Red  Quinta dos Avidagos  \n",
       "2      Pinot Gris            Rainstorm  \n",
       "3        Riesling           St. Julian  \n",
       "4      Pinot Noir         Sweet Cheeks  "
      ]
     },
     "execution_count": 1,
     "metadata": {},
     "output_type": "execute_result"
    }
   ],
   "source": [
    "import pandas as pd\n",
    "pd.set_option(\"display.max_rows\", 5)\n",
    "reviews = pd.read_csv(\"../input/wine-reviews/winemag-data-130k-v2.csv\", index_col=0)\n",
    "\n",
    "from learntools.core import binder; binder.bind(globals())\n",
    "from learntools.pandas.summary_functions_and_maps import *\n",
    "print(\"Setup complete.\")\n",
    "\n",
    "reviews.head()"
   ]
  },
  {
   "cell_type": "markdown",
   "id": "da97171f",
   "metadata": {
    "papermill": {
     "duration": 0.024972,
     "end_time": "2022-03-07T04:53:34.538537",
     "exception": false,
     "start_time": "2022-03-07T04:53:34.513565",
     "status": "completed"
    },
    "tags": []
   },
   "source": [
    "# Exercises"
   ]
  },
  {
   "cell_type": "markdown",
   "id": "e7887e3c",
   "metadata": {
    "papermill": {
     "duration": 0.023361,
     "end_time": "2022-03-07T04:53:34.585945",
     "exception": false,
     "start_time": "2022-03-07T04:53:34.562584",
     "status": "completed"
    },
    "tags": []
   },
   "source": [
    "## 1.\n",
    "\n",
    "What is the median of the `points` column in the `reviews` DataFrame?"
   ]
  },
  {
   "cell_type": "code",
   "execution_count": 2,
   "id": "2b2f057e",
   "metadata": {
    "execution": {
     "iopub.execute_input": "2022-03-07T04:53:34.638475Z",
     "iopub.status.busy": "2022-03-07T04:53:34.636402Z",
     "iopub.status.idle": "2022-03-07T04:53:34.644760Z",
     "shell.execute_reply": "2022-03-07T04:53:34.645263Z",
     "shell.execute_reply.started": "2022-03-07T02:42:31.987050Z"
    },
    "papermill": {
     "duration": 0.035849,
     "end_time": "2022-03-07T04:53:34.645446",
     "exception": false,
     "start_time": "2022-03-07T04:53:34.609597",
     "status": "completed"
    },
    "tags": []
   },
   "outputs": [
    {
     "data": {
      "application/javascript": [
       "parent.postMessage({\"jupyterEvent\": \"custom.exercise_interaction\", \"data\": {\"outcomeType\": 1, \"valueTowardsCompletion\": 0.14285714285714285, \"interactionType\": 1, \"questionType\": 1, \"questionId\": \"1_MedianPoints\", \"learnToolsVersion\": \"0.3.4\", \"failureMessage\": \"\", \"exceptionClass\": \"\", \"trace\": \"\"}}, \"*\")"
      ],
      "text/plain": [
       "<IPython.core.display.Javascript object>"
      ]
     },
     "metadata": {},
     "output_type": "display_data"
    },
    {
     "data": {
      "text/markdown": [
       "<span style=\"color:#33cc33\">Correct</span>"
      ],
      "text/plain": [
       "Correct"
      ]
     },
     "metadata": {},
     "output_type": "display_data"
    }
   ],
   "source": [
    "median_points = reviews.points.median()\n",
    "median_points\n",
    "# Check your answer\n",
    "q1.check()"
   ]
  },
  {
   "cell_type": "code",
   "execution_count": 3,
   "id": "d8df397a",
   "metadata": {
    "execution": {
     "iopub.execute_input": "2022-03-07T04:53:34.701079Z",
     "iopub.status.busy": "2022-03-07T04:53:34.700376Z",
     "iopub.status.idle": "2022-03-07T04:53:34.703941Z",
     "shell.execute_reply": "2022-03-07T04:53:34.703310Z",
     "shell.execute_reply.started": "2022-03-07T02:42:31.997347Z"
    },
    "papermill": {
     "duration": 0.032095,
     "end_time": "2022-03-07T04:53:34.704084",
     "exception": false,
     "start_time": "2022-03-07T04:53:34.671989",
     "status": "completed"
    },
    "tags": []
   },
   "outputs": [],
   "source": [
    "#q1.hint()\n",
    "#q1.solution()"
   ]
  },
  {
   "cell_type": "markdown",
   "id": "a1b51cfd",
   "metadata": {
    "papermill": {
     "duration": 0.024518,
     "end_time": "2022-03-07T04:53:34.755624",
     "exception": false,
     "start_time": "2022-03-07T04:53:34.731106",
     "status": "completed"
    },
    "tags": []
   },
   "source": [
    "## 2. \n",
    "What countries are represented in the dataset? (Your answer should not include any duplicates.)"
   ]
  },
  {
   "cell_type": "code",
   "execution_count": 4,
   "id": "548c29f2",
   "metadata": {
    "execution": {
     "iopub.execute_input": "2022-03-07T04:53:34.823682Z",
     "iopub.status.busy": "2022-03-07T04:53:34.822934Z",
     "iopub.status.idle": "2022-03-07T04:53:34.828091Z",
     "shell.execute_reply": "2022-03-07T04:53:34.827625Z",
     "shell.execute_reply.started": "2022-03-07T02:42:32.008627Z"
    },
    "papermill": {
     "duration": 0.047864,
     "end_time": "2022-03-07T04:53:34.828294",
     "exception": false,
     "start_time": "2022-03-07T04:53:34.780430",
     "status": "completed"
    },
    "tags": []
   },
   "outputs": [
    {
     "data": {
      "application/javascript": [
       "parent.postMessage({\"jupyterEvent\": \"custom.exercise_interaction\", \"data\": {\"outcomeType\": 1, \"valueTowardsCompletion\": 0.14285714285714285, \"interactionType\": 1, \"questionType\": 2, \"questionId\": \"2_UniqueCountries\", \"learnToolsVersion\": \"0.3.4\", \"failureMessage\": \"\", \"exceptionClass\": \"\", \"trace\": \"\"}}, \"*\")"
      ],
      "text/plain": [
       "<IPython.core.display.Javascript object>"
      ]
     },
     "metadata": {},
     "output_type": "display_data"
    },
    {
     "data": {
      "text/markdown": [
       "<span style=\"color:#33cc33\">Correct</span>"
      ],
      "text/plain": [
       "Correct"
      ]
     },
     "metadata": {},
     "output_type": "display_data"
    }
   ],
   "source": [
    "countries = reviews.country.unique()\n",
    "\n",
    "# Check your answer\n",
    "q2.check()"
   ]
  },
  {
   "cell_type": "code",
   "execution_count": 5,
   "id": "df7f25b1",
   "metadata": {
    "execution": {
     "iopub.execute_input": "2022-03-07T04:53:34.885790Z",
     "iopub.status.busy": "2022-03-07T04:53:34.885174Z",
     "iopub.status.idle": "2022-03-07T04:53:34.887579Z",
     "shell.execute_reply": "2022-03-07T04:53:34.886972Z",
     "shell.execute_reply.started": "2022-03-07T02:42:32.028063Z"
    },
    "papermill": {
     "duration": 0.033082,
     "end_time": "2022-03-07T04:53:34.887711",
     "exception": false,
     "start_time": "2022-03-07T04:53:34.854629",
     "status": "completed"
    },
    "tags": []
   },
   "outputs": [],
   "source": [
    "#q2.hint()\n",
    "#q2.solution()"
   ]
  },
  {
   "cell_type": "markdown",
   "id": "9c4bdb32",
   "metadata": {
    "papermill": {
     "duration": 0.02584,
     "end_time": "2022-03-07T04:53:34.939926",
     "exception": false,
     "start_time": "2022-03-07T04:53:34.914086",
     "status": "completed"
    },
    "tags": []
   },
   "source": [
    "## 3.\n",
    "How often does each country appear in the dataset? Create a Series `reviews_per_country` mapping countries to the count of reviews of wines from that country."
   ]
  },
  {
   "cell_type": "code",
   "execution_count": 6,
   "id": "b486d7d7",
   "metadata": {
    "execution": {
     "iopub.execute_input": "2022-03-07T04:53:35.014862Z",
     "iopub.status.busy": "2022-03-07T04:53:35.014260Z",
     "iopub.status.idle": "2022-03-07T04:53:35.019731Z",
     "shell.execute_reply": "2022-03-07T04:53:35.020217Z",
     "shell.execute_reply.started": "2022-03-07T02:42:32.037941Z"
    },
    "papermill": {
     "duration": 0.054351,
     "end_time": "2022-03-07T04:53:35.020378",
     "exception": false,
     "start_time": "2022-03-07T04:53:34.966027",
     "status": "completed"
    },
    "tags": []
   },
   "outputs": [
    {
     "data": {
      "application/javascript": [
       "parent.postMessage({\"jupyterEvent\": \"custom.exercise_interaction\", \"data\": {\"outcomeType\": 1, \"valueTowardsCompletion\": 0.14285714285714285, \"interactionType\": 1, \"questionType\": 1, \"questionId\": \"3_ReviewsPerCountry\", \"learnToolsVersion\": \"0.3.4\", \"failureMessage\": \"\", \"exceptionClass\": \"\", \"trace\": \"\"}}, \"*\")"
      ],
      "text/plain": [
       "<IPython.core.display.Javascript object>"
      ]
     },
     "metadata": {},
     "output_type": "display_data"
    },
    {
     "data": {
      "text/markdown": [
       "<span style=\"color:#33cc33\">Correct</span>"
      ],
      "text/plain": [
       "Correct"
      ]
     },
     "metadata": {},
     "output_type": "display_data"
    }
   ],
   "source": [
    "reviews_per_country = reviews.country.value_counts()\n",
    "\n",
    "# Check your answer\n",
    "q3.check()"
   ]
  },
  {
   "cell_type": "code",
   "execution_count": 7,
   "id": "bd23c7f7",
   "metadata": {
    "execution": {
     "iopub.execute_input": "2022-03-07T04:53:35.078923Z",
     "iopub.status.busy": "2022-03-07T04:53:35.078327Z",
     "iopub.status.idle": "2022-03-07T04:53:35.080757Z",
     "shell.execute_reply": "2022-03-07T04:53:35.081262Z",
     "shell.execute_reply.started": "2022-03-07T02:42:32.060518Z"
    },
    "papermill": {
     "duration": 0.033186,
     "end_time": "2022-03-07T04:53:35.081420",
     "exception": false,
     "start_time": "2022-03-07T04:53:35.048234",
     "status": "completed"
    },
    "tags": []
   },
   "outputs": [],
   "source": [
    "#q3.hint()\n",
    "#q3.solution()"
   ]
  },
  {
   "cell_type": "markdown",
   "id": "02c281f3",
   "metadata": {
    "papermill": {
     "duration": 0.02808,
     "end_time": "2022-03-07T04:53:35.138117",
     "exception": false,
     "start_time": "2022-03-07T04:53:35.110037",
     "status": "completed"
    },
    "tags": []
   },
   "source": [
    "## 4.\n",
    "Create variable `centered_price` containing a version of the `price` column with the mean price subtracted.\n",
    "\n",
    "(Note: this 'centering' transformation is a common preprocessing step before applying various machine learning algorithms.) "
   ]
  },
  {
   "cell_type": "code",
   "execution_count": 8,
   "id": "a636d9aa",
   "metadata": {
    "execution": {
     "iopub.execute_input": "2022-03-07T04:53:35.198149Z",
     "iopub.status.busy": "2022-03-07T04:53:35.197538Z",
     "iopub.status.idle": "2022-03-07T04:53:35.262482Z",
     "shell.execute_reply": "2022-03-07T04:53:35.263272Z",
     "shell.execute_reply.started": "2022-03-07T04:18:12.889099Z"
    },
    "papermill": {
     "duration": 0.09642,
     "end_time": "2022-03-07T04:53:35.263492",
     "exception": false,
     "start_time": "2022-03-07T04:53:35.167072",
     "status": "completed"
    },
    "tags": []
   },
   "outputs": [
    {
     "name": "stdout",
     "output_type": "stream",
     "text": [
      "0               NaN\n",
      "1        -20.363389\n",
      "            ...    \n",
      "129969    -3.363389\n",
      "129970   -14.363389\n",
      "Name: price, Length: 129971, dtype: float64\n"
     ]
    },
    {
     "data": {
      "application/javascript": [
       "parent.postMessage({\"jupyterEvent\": \"custom.exercise_interaction\", \"data\": {\"outcomeType\": 1, \"valueTowardsCompletion\": 0.14285714285714285, \"interactionType\": 1, \"questionType\": 1, \"questionId\": \"4_CenteredPrice\", \"learnToolsVersion\": \"0.3.4\", \"failureMessage\": \"\", \"exceptionClass\": \"\", \"trace\": \"\"}}, \"*\")"
      ],
      "text/plain": [
       "<IPython.core.display.Javascript object>"
      ]
     },
     "metadata": {},
     "output_type": "display_data"
    },
    {
     "data": {
      "text/markdown": [
       "<span style=\"color:#33cc33\">Correct</span>"
      ],
      "text/plain": [
       "Correct"
      ]
     },
     "metadata": {},
     "output_type": "display_data"
    }
   ],
   "source": [
    "centered_price_mean = reviews.price.mean()\n",
    "centered_price = reviews.price.map(lambda p: p - centered_price_mean)\n",
    "print(centered_price)\n",
    "\n",
    "\n",
    "# Check your answer\n",
    "q4.check()"
   ]
  },
  {
   "cell_type": "code",
   "execution_count": 9,
   "id": "474d8b8a",
   "metadata": {
    "execution": {
     "iopub.execute_input": "2022-03-07T04:53:35.324925Z",
     "iopub.status.busy": "2022-03-07T04:53:35.324316Z",
     "iopub.status.idle": "2022-03-07T04:53:35.326741Z",
     "shell.execute_reply": "2022-03-07T04:53:35.327229Z",
     "shell.execute_reply.started": "2022-03-07T02:49:26.769903Z"
    },
    "papermill": {
     "duration": 0.034591,
     "end_time": "2022-03-07T04:53:35.327383",
     "exception": false,
     "start_time": "2022-03-07T04:53:35.292792",
     "status": "completed"
    },
    "tags": []
   },
   "outputs": [],
   "source": [
    "#q4.hint()\n",
    "#q4.solution()"
   ]
  },
  {
   "cell_type": "markdown",
   "id": "96649336",
   "metadata": {
    "papermill": {
     "duration": 0.028783,
     "end_time": "2022-03-07T04:53:35.385404",
     "exception": false,
     "start_time": "2022-03-07T04:53:35.356621",
     "status": "completed"
    },
    "tags": []
   },
   "source": [
    "## 5.\n",
    "I'm an economical wine buyer. Which wine is the \"best bargain\"? Create a variable `bargain_wine` with the title of the wine with the highest points-to-price ratio in the dataset."
   ]
  },
  {
   "cell_type": "code",
   "execution_count": 10,
   "id": "80f9724c",
   "metadata": {
    "execution": {
     "iopub.execute_input": "2022-03-07T04:53:35.449332Z",
     "iopub.status.busy": "2022-03-07T04:53:35.448671Z",
     "iopub.status.idle": "2022-03-07T04:53:35.459451Z",
     "shell.execute_reply": "2022-03-07T04:53:35.458902Z",
     "shell.execute_reply.started": "2022-03-07T04:50:56.684733Z"
    },
    "papermill": {
     "duration": 0.045028,
     "end_time": "2022-03-07T04:53:35.459588",
     "exception": false,
     "start_time": "2022-03-07T04:53:35.414560",
     "status": "completed"
    },
    "tags": []
   },
   "outputs": [
    {
     "name": "stdout",
     "output_type": "stream",
     "text": [
      "Bandit NV Merlot (California)\n"
     ]
    },
    {
     "data": {
      "application/javascript": [
       "parent.postMessage({\"jupyterEvent\": \"custom.exercise_interaction\", \"data\": {\"outcomeType\": 1, \"valueTowardsCompletion\": 0.14285714285714285, \"interactionType\": 1, \"questionType\": 2, \"questionId\": \"5_BargainWine\", \"learnToolsVersion\": \"0.3.4\", \"failureMessage\": \"\", \"exceptionClass\": \"\", \"trace\": \"\"}}, \"*\")"
      ],
      "text/plain": [
       "<IPython.core.display.Javascript object>"
      ]
     },
     "metadata": {},
     "output_type": "display_data"
    },
    {
     "data": {
      "text/markdown": [
       "<span style=\"color:#33cc33\">Correct</span>"
      ],
      "text/plain": [
       "Correct"
      ]
     },
     "metadata": {},
     "output_type": "display_data"
    }
   ],
   "source": [
    "points_to_price_ratio = (reviews.points / reviews.price).idxmax()\n",
    "bargain_wine = reviews.loc[points_to_price_ratio, \"title\"]\n",
    "\n",
    "print(bargain_wine)\n",
    "\n",
    "\n",
    "\n",
    "# Check your answer\n",
    "q5.check()"
   ]
  },
  {
   "cell_type": "code",
   "execution_count": 11,
   "id": "739cd660",
   "metadata": {
    "execution": {
     "iopub.execute_input": "2022-03-07T04:53:35.524676Z",
     "iopub.status.busy": "2022-03-07T04:53:35.523720Z",
     "iopub.status.idle": "2022-03-07T04:53:35.526797Z",
     "shell.execute_reply": "2022-03-07T04:53:35.527383Z",
     "shell.execute_reply.started": "2022-03-07T02:42:32.167827Z"
    },
    "papermill": {
     "duration": 0.037317,
     "end_time": "2022-03-07T04:53:35.527543",
     "exception": false,
     "start_time": "2022-03-07T04:53:35.490226",
     "status": "completed"
    },
    "tags": []
   },
   "outputs": [],
   "source": [
    "#q5.hint()\n",
    "#q5.solution()"
   ]
  },
  {
   "cell_type": "markdown",
   "id": "c3f24633",
   "metadata": {
    "papermill": {
     "duration": 0.030475,
     "end_time": "2022-03-07T04:53:35.588494",
     "exception": false,
     "start_time": "2022-03-07T04:53:35.558019",
     "status": "completed"
    },
    "tags": []
   },
   "source": [
    "## 6.\n",
    "There are only so many words you can use when describing a bottle of wine. Is a wine more likely to be \"tropical\" or \"fruity\"? Create a Series `descriptor_counts` counting how many times each of these two words appears in the `description` column in the dataset. (For simplicity, let's ignore the capitalized versions of these words.)"
   ]
  },
  {
   "cell_type": "code",
   "execution_count": 12,
   "id": "29b8846b",
   "metadata": {
    "execution": {
     "iopub.execute_input": "2022-03-07T04:53:35.653655Z",
     "iopub.status.busy": "2022-03-07T04:53:35.652730Z",
     "iopub.status.idle": "2022-03-07T04:53:35.659710Z",
     "shell.execute_reply": "2022-03-07T04:53:35.660313Z",
     "shell.execute_reply.started": "2022-03-07T02:42:32.169076Z"
    },
    "papermill": {
     "duration": 0.041173,
     "end_time": "2022-03-07T04:53:35.660487",
     "exception": false,
     "start_time": "2022-03-07T04:53:35.619314",
     "status": "completed"
    },
    "tags": []
   },
   "outputs": [
    {
     "data": {
      "application/javascript": [
       "parent.postMessage({\"jupyterEvent\": \"custom.exercise_interaction\", \"data\": {\"outcomeType\": 4, \"interactionType\": 1, \"questionType\": 1, \"questionId\": \"6_DescriptorCounts\", \"learnToolsVersion\": \"0.3.4\", \"valueTowardsCompletion\": 0.0, \"failureMessage\": \"\", \"exceptionClass\": \"\", \"trace\": \"\"}}, \"*\")"
      ],
      "text/plain": [
       "<IPython.core.display.Javascript object>"
      ]
     },
     "metadata": {},
     "output_type": "display_data"
    },
    {
     "data": {
      "text/markdown": [
       "<span style=\"color:#ccaa33\">Check:</span> When you've updated the starter code, `check()` will tell you whether your code is correct. You need to update the code that creates variable `descriptor_counts`"
      ],
      "text/plain": [
       "Check: When you've updated the starter code, `check()` will tell you whether your code is correct. You need to update the code that creates variable `descriptor_counts`"
      ]
     },
     "metadata": {},
     "output_type": "display_data"
    }
   ],
   "source": [
    "descriptor_counts = ____\n",
    "\n",
    "# Check your answer\n",
    "q6.check()"
   ]
  },
  {
   "cell_type": "code",
   "execution_count": 13,
   "id": "449efa31",
   "metadata": {
    "execution": {
     "iopub.execute_input": "2022-03-07T04:53:35.728852Z",
     "iopub.status.busy": "2022-03-07T04:53:35.728233Z",
     "iopub.status.idle": "2022-03-07T04:53:35.731702Z",
     "shell.execute_reply": "2022-03-07T04:53:35.732259Z",
     "shell.execute_reply.started": "2022-03-07T02:42:32.170320Z"
    },
    "papermill": {
     "duration": 0.039852,
     "end_time": "2022-03-07T04:53:35.732427",
     "exception": false,
     "start_time": "2022-03-07T04:53:35.692575",
     "status": "completed"
    },
    "tags": []
   },
   "outputs": [],
   "source": [
    "#q6.hint()\n",
    "#q6.solution()"
   ]
  },
  {
   "cell_type": "markdown",
   "id": "5c828242",
   "metadata": {
    "papermill": {
     "duration": 0.031783,
     "end_time": "2022-03-07T04:53:35.796033",
     "exception": false,
     "start_time": "2022-03-07T04:53:35.764250",
     "status": "completed"
    },
    "tags": []
   },
   "source": [
    "## 7.\n",
    "We'd like to host these wine reviews on our website, but a rating system ranging from 80 to 100 points is too hard to understand - we'd like to translate them into simple star ratings. A score of 95 or higher counts as 3 stars, a score of at least 85 but less than 95 is 2 stars. Any other score is 1 star.\n",
    "\n",
    "Also, the Canadian Vintners Association bought a lot of ads on the site, so any wines from Canada should automatically get 3 stars, regardless of points.\n",
    "\n",
    "Create a series `star_ratings` with the number of stars corresponding to each review in the dataset."
   ]
  },
  {
   "cell_type": "code",
   "execution_count": 14,
   "id": "59d0f4d2",
   "metadata": {
    "execution": {
     "iopub.execute_input": "2022-03-07T04:53:35.863581Z",
     "iopub.status.busy": "2022-03-07T04:53:35.862645Z",
     "iopub.status.idle": "2022-03-07T04:53:35.869894Z",
     "shell.execute_reply": "2022-03-07T04:53:35.870490Z",
     "shell.execute_reply.started": "2022-03-07T02:42:32.172210Z"
    },
    "papermill": {
     "duration": 0.042701,
     "end_time": "2022-03-07T04:53:35.870667",
     "exception": false,
     "start_time": "2022-03-07T04:53:35.827966",
     "status": "completed"
    },
    "tags": []
   },
   "outputs": [
    {
     "data": {
      "application/javascript": [
       "parent.postMessage({\"jupyterEvent\": \"custom.exercise_interaction\", \"data\": {\"outcomeType\": 4, \"interactionType\": 1, \"questionType\": 1, \"questionId\": \"7_StarRatings\", \"learnToolsVersion\": \"0.3.4\", \"valueTowardsCompletion\": 0.0, \"failureMessage\": \"\", \"exceptionClass\": \"\", \"trace\": \"\"}}, \"*\")"
      ],
      "text/plain": [
       "<IPython.core.display.Javascript object>"
      ]
     },
     "metadata": {},
     "output_type": "display_data"
    },
    {
     "data": {
      "text/markdown": [
       "<span style=\"color:#ccaa33\">Check:</span> When you've updated the starter code, `check()` will tell you whether your code is correct. You need to update the code that creates variable `star_ratings`"
      ],
      "text/plain": [
       "Check: When you've updated the starter code, `check()` will tell you whether your code is correct. You need to update the code that creates variable `star_ratings`"
      ]
     },
     "metadata": {},
     "output_type": "display_data"
    }
   ],
   "source": [
    "star_ratings = ____\n",
    "\n",
    "# Check your answer\n",
    "q7.check()"
   ]
  },
  {
   "cell_type": "code",
   "execution_count": 15,
   "id": "253d0499",
   "metadata": {
    "execution": {
     "iopub.execute_input": "2022-03-07T04:53:35.942191Z",
     "iopub.status.busy": "2022-03-07T04:53:35.941255Z",
     "iopub.status.idle": "2022-03-07T04:53:35.944586Z",
     "shell.execute_reply": "2022-03-07T04:53:35.945100Z",
     "shell.execute_reply.started": "2022-03-07T02:42:32.173812Z"
    },
    "papermill": {
     "duration": 0.040947,
     "end_time": "2022-03-07T04:53:35.945318",
     "exception": false,
     "start_time": "2022-03-07T04:53:35.904371",
     "status": "completed"
    },
    "tags": []
   },
   "outputs": [],
   "source": [
    "#q7.hint()\n",
    "#q7.solution()"
   ]
  },
  {
   "cell_type": "markdown",
   "id": "bda549f2",
   "metadata": {
    "papermill": {
     "duration": 0.033714,
     "end_time": "2022-03-07T04:53:36.013046",
     "exception": false,
     "start_time": "2022-03-07T04:53:35.979332",
     "status": "completed"
    },
    "tags": []
   },
   "source": [
    "# Keep going\n",
    "Continue to **[grouping and sorting](https://www.kaggle.com/residentmario/grouping-and-sorting)**."
   ]
  },
  {
   "cell_type": "markdown",
   "id": "91a80848",
   "metadata": {
    "papermill": {
     "duration": 0.032955,
     "end_time": "2022-03-07T04:53:36.079380",
     "exception": false,
     "start_time": "2022-03-07T04:53:36.046425",
     "status": "completed"
    },
    "tags": []
   },
   "source": [
    "---\n",
    "\n",
    "\n",
    "\n",
    "\n",
    "*Have questions or comments? Visit the [course discussion forum](https://www.kaggle.com/learn/pandas/discussion) to chat with other learners.*"
   ]
  }
 ],
 "metadata": {
  "kernelspec": {
   "display_name": "Python 3",
   "language": "python",
   "name": "python3"
  },
  "language_info": {
   "codemirror_mode": {
    "name": "ipython",
    "version": 3
   },
   "file_extension": ".py",
   "mimetype": "text/x-python",
   "name": "python",
   "nbconvert_exporter": "python",
   "pygments_lexer": "ipython3",
   "version": "3.7.12"
  },
  "papermill": {
   "default_parameters": {},
   "duration": 20.030876,
   "end_time": "2022-03-07T04:53:36.722021",
   "environment_variables": {},
   "exception": null,
   "input_path": "__notebook__.ipynb",
   "output_path": "__notebook__.ipynb",
   "parameters": {},
   "start_time": "2022-03-07T04:53:16.691145",
   "version": "2.3.3"
  }
 },
 "nbformat": 4,
 "nbformat_minor": 5
}
