{
 "cells": [
  {
   "cell_type": "markdown",
   "id": "1f1f6dd2",
   "metadata": {
    "papermill": {
     "duration": 0.022697,
     "end_time": "2022-02-21T22:27:27.380352",
     "exception": false,
     "start_time": "2022-02-21T22:27:27.357655",
     "status": "completed"
    },
    "tags": []
   },
   "source": [
    "**This notebook is an exercise in the [Pandas](https://www.kaggle.com/learn/pandas) course.  You can reference the tutorial at [this link](https://www.kaggle.com/residentmario/creating-reading-and-writing).**\n",
    "\n",
    "---\n"
   ]
  },
  {
   "cell_type": "markdown",
   "id": "2532f98d",
   "metadata": {
    "papermill": {
     "duration": 0.021048,
     "end_time": "2022-02-21T22:27:27.423500",
     "exception": false,
     "start_time": "2022-02-21T22:27:27.402452",
     "status": "completed"
    },
    "tags": []
   },
   "source": [
    "# Introduction\n",
    "\n",
    "The first step in most data analytics projects is reading the data file. In this exercise, you'll create Series and DataFrame objects, both by hand and by reading data files.\n",
    "\n",
    "Run the code cell below to load libraries you will need (including code to check your answers)."
   ]
  },
  {
   "cell_type": "code",
   "execution_count": 1,
   "id": "82aae0cc",
   "metadata": {
    "execution": {
     "iopub.execute_input": "2022-02-21T22:27:27.476261Z",
     "iopub.status.busy": "2022-02-21T22:27:27.475586Z",
     "iopub.status.idle": "2022-02-21T22:27:29.257976Z",
     "shell.execute_reply": "2022-02-21T22:27:29.258494Z"
    },
    "papermill": {
     "duration": 1.813493,
     "end_time": "2022-02-21T22:27:29.258792",
     "exception": false,
     "start_time": "2022-02-21T22:27:27.445299",
     "status": "completed"
    },
    "tags": []
   },
   "outputs": [
    {
     "name": "stdout",
     "output_type": "stream",
     "text": [
      "Setup complete.\n"
     ]
    }
   ],
   "source": [
    "import pandas as pd\n",
    "pd.set_option('max_rows', 5)\n",
    "from learntools.core import binder; binder.bind(globals())\n",
    "from learntools.pandas.creating_reading_and_writing import *\n",
    "print(\"Setup complete.\")"
   ]
  },
  {
   "cell_type": "markdown",
   "id": "62e46792",
   "metadata": {
    "papermill": {
     "duration": 0.021642,
     "end_time": "2022-02-21T22:27:29.303493",
     "exception": false,
     "start_time": "2022-02-21T22:27:29.281851",
     "status": "completed"
    },
    "tags": []
   },
   "source": [
    "# Exercises"
   ]
  },
  {
   "cell_type": "markdown",
   "id": "cf316730",
   "metadata": {
    "papermill": {
     "duration": 0.021374,
     "end_time": "2022-02-21T22:27:29.347019",
     "exception": false,
     "start_time": "2022-02-21T22:27:29.325645",
     "status": "completed"
    },
    "tags": []
   },
   "source": [
    "## 1.\n",
    "\n",
    "In the cell below, create a DataFrame `fruits` that looks like this:\n",
    "\n",
    "![](https://i.imgur.com/Ax3pp2A.png)"
   ]
  },
  {
   "cell_type": "code",
   "execution_count": 2,
   "id": "d36b4bd2",
   "metadata": {
    "execution": {
     "iopub.execute_input": "2022-02-21T22:27:29.399285Z",
     "iopub.status.busy": "2022-02-21T22:27:29.398327Z",
     "iopub.status.idle": "2022-02-21T22:27:29.406475Z",
     "shell.execute_reply": "2022-02-21T22:27:29.407128Z"
    },
    "papermill": {
     "duration": 0.038356,
     "end_time": "2022-02-21T22:27:29.407299",
     "exception": false,
     "start_time": "2022-02-21T22:27:29.368943",
     "status": "completed"
    },
    "tags": []
   },
   "outputs": [
    {
     "data": {
      "application/javascript": [
       "parent.postMessage({\"jupyterEvent\": \"custom.exercise_interaction\", \"data\": {\"outcomeType\": 4, \"interactionType\": 1, \"questionType\": 1, \"questionId\": \"1_FruitDfCreation\", \"learnToolsVersion\": \"0.3.4\", \"valueTowardsCompletion\": 0.0, \"failureMessage\": \"\", \"exceptionClass\": \"\", \"trace\": \"\"}}, \"*\")"
      ],
      "text/plain": [
       "<IPython.core.display.Javascript object>"
      ]
     },
     "metadata": {},
     "output_type": "display_data"
    },
    {
     "data": {
      "text/markdown": [
       "<span style=\"color:#ccaa33\">Check:</span> When you've updated the starter code, `check()` will tell you whether your code is correct. You need to update the code that creates variable `fruits`"
      ],
      "text/plain": [
       "Check: When you've updated the starter code, `check()` will tell you whether your code is correct. You need to update the code that creates variable `fruits`"
      ]
     },
     "metadata": {},
     "output_type": "display_data"
    },
    {
     "data": {
      "text/markdown": [],
      "text/plain": [
       "<learntools.core.constants.PlaceholderValue at 0x7fe53d1076d0>"
      ]
     },
     "execution_count": 2,
     "metadata": {},
     "output_type": "execute_result"
    }
   ],
   "source": [
    "# Your code goes here. Create a dataframe matching the above diagram and assign it to the variable fruits.\n",
    "fruits = ____\n",
    "\n",
    "# Check your answer\n",
    "q1.check()\n",
    "fruits"
   ]
  },
  {
   "cell_type": "code",
   "execution_count": 3,
   "id": "949bdf73",
   "metadata": {
    "execution": {
     "iopub.execute_input": "2022-02-21T22:27:29.462895Z",
     "iopub.status.busy": "2022-02-21T22:27:29.462208Z",
     "iopub.status.idle": "2022-02-21T22:27:29.465158Z",
     "shell.execute_reply": "2022-02-21T22:27:29.465764Z"
    },
    "papermill": {
     "duration": 0.032579,
     "end_time": "2022-02-21T22:27:29.465950",
     "exception": false,
     "start_time": "2022-02-21T22:27:29.433371",
     "status": "completed"
    },
    "tags": []
   },
   "outputs": [],
   "source": [
    "#q1.hint()\n",
    "#q1.solution()"
   ]
  },
  {
   "cell_type": "markdown",
   "id": "212f3dc8",
   "metadata": {
    "papermill": {
     "duration": 0.0247,
     "end_time": "2022-02-21T22:27:29.516500",
     "exception": false,
     "start_time": "2022-02-21T22:27:29.491800",
     "status": "completed"
    },
    "tags": []
   },
   "source": [
    "## 2.\n",
    "\n",
    "Create a dataframe `fruit_sales` that matches the diagram below:\n",
    "\n",
    "![](https://i.imgur.com/CHPn7ZF.png)"
   ]
  },
  {
   "cell_type": "code",
   "execution_count": 4,
   "id": "643785b4",
   "metadata": {
    "execution": {
     "iopub.execute_input": "2022-02-21T22:27:29.569203Z",
     "iopub.status.busy": "2022-02-21T22:27:29.568510Z",
     "iopub.status.idle": "2022-02-21T22:27:29.574853Z",
     "shell.execute_reply": "2022-02-21T22:27:29.575446Z"
    },
    "papermill": {
     "duration": 0.034107,
     "end_time": "2022-02-21T22:27:29.575621",
     "exception": false,
     "start_time": "2022-02-21T22:27:29.541514",
     "status": "completed"
    },
    "tags": []
   },
   "outputs": [
    {
     "data": {
      "application/javascript": [
       "parent.postMessage({\"jupyterEvent\": \"custom.exercise_interaction\", \"data\": {\"outcomeType\": 4, \"interactionType\": 1, \"questionType\": 1, \"questionId\": \"2_FruitSalesDfCreation\", \"learnToolsVersion\": \"0.3.4\", \"valueTowardsCompletion\": 0.0, \"failureMessage\": \"\", \"exceptionClass\": \"\", \"trace\": \"\"}}, \"*\")"
      ],
      "text/plain": [
       "<IPython.core.display.Javascript object>"
      ]
     },
     "metadata": {},
     "output_type": "display_data"
    },
    {
     "data": {
      "text/markdown": [
       "<span style=\"color:#ccaa33\">Check:</span> When you've updated the starter code, `check()` will tell you whether your code is correct. You need to update the code that creates variable `fruit_sales`"
      ],
      "text/plain": [
       "Check: When you've updated the starter code, `check()` will tell you whether your code is correct. You need to update the code that creates variable `fruit_sales`"
      ]
     },
     "metadata": {},
     "output_type": "display_data"
    },
    {
     "data": {
      "text/markdown": [],
      "text/plain": [
       "<learntools.core.constants.PlaceholderValue at 0x7fe53d1076d0>"
      ]
     },
     "execution_count": 4,
     "metadata": {},
     "output_type": "execute_result"
    }
   ],
   "source": [
    "# Your code goes here. Create a dataframe matching the above diagram and assign it to the variable fruit_sales.\n",
    "fruit_sales = ____\n",
    "\n",
    "# Check your answer\n",
    "q2.check()\n",
    "fruit_sales"
   ]
  },
  {
   "cell_type": "code",
   "execution_count": 5,
   "id": "9e01b2b0",
   "metadata": {
    "execution": {
     "iopub.execute_input": "2022-02-21T22:27:29.633729Z",
     "iopub.status.busy": "2022-02-21T22:27:29.633062Z",
     "iopub.status.idle": "2022-02-21T22:27:29.636292Z",
     "shell.execute_reply": "2022-02-21T22:27:29.636796Z"
    },
    "papermill": {
     "duration": 0.033801,
     "end_time": "2022-02-21T22:27:29.637007",
     "exception": false,
     "start_time": "2022-02-21T22:27:29.603206",
     "status": "completed"
    },
    "tags": []
   },
   "outputs": [],
   "source": [
    "#q2.hint()\n",
    "#q2.solution()"
   ]
  },
  {
   "cell_type": "markdown",
   "id": "2a875b41",
   "metadata": {
    "papermill": {
     "duration": 0.026847,
     "end_time": "2022-02-21T22:27:29.691148",
     "exception": false,
     "start_time": "2022-02-21T22:27:29.664301",
     "status": "completed"
    },
    "tags": []
   },
   "source": [
    "## 3.\n",
    "\n",
    "Create a variable `ingredients` with a Series that looks like:\n",
    "\n",
    "```\n",
    "Flour     4 cups\n",
    "Milk       1 cup\n",
    "Eggs     2 large\n",
    "Spam       1 can\n",
    "Name: Dinner, dtype: object\n",
    "```"
   ]
  },
  {
   "cell_type": "code",
   "execution_count": 6,
   "id": "e50bec62",
   "metadata": {
    "execution": {
     "iopub.execute_input": "2022-02-21T22:27:29.750147Z",
     "iopub.status.busy": "2022-02-21T22:27:29.749417Z",
     "iopub.status.idle": "2022-02-21T22:27:29.755283Z",
     "shell.execute_reply": "2022-02-21T22:27:29.755937Z"
    },
    "papermill": {
     "duration": 0.035926,
     "end_time": "2022-02-21T22:27:29.756104",
     "exception": false,
     "start_time": "2022-02-21T22:27:29.720178",
     "status": "completed"
    },
    "tags": []
   },
   "outputs": [
    {
     "data": {
      "application/javascript": [
       "parent.postMessage({\"jupyterEvent\": \"custom.exercise_interaction\", \"data\": {\"outcomeType\": 4, \"interactionType\": 1, \"questionType\": 2, \"questionId\": \"3_RecipeSeriesCreation\", \"learnToolsVersion\": \"0.3.4\", \"valueTowardsCompletion\": 0.0, \"failureMessage\": \"\", \"exceptionClass\": \"\", \"trace\": \"\"}}, \"*\")"
      ],
      "text/plain": [
       "<IPython.core.display.Javascript object>"
      ]
     },
     "metadata": {},
     "output_type": "display_data"
    },
    {
     "data": {
      "text/markdown": [
       "<span style=\"color:#ccaa33\">Check:</span> When you've updated the starter code, `check()` will tell you whether your code is correct. You need to update the code that creates variable `ingredients`"
      ],
      "text/plain": [
       "Check: When you've updated the starter code, `check()` will tell you whether your code is correct. You need to update the code that creates variable `ingredients`"
      ]
     },
     "metadata": {},
     "output_type": "display_data"
    },
    {
     "data": {
      "text/markdown": [],
      "text/plain": [
       "<learntools.core.constants.PlaceholderValue at 0x7fe53d1076d0>"
      ]
     },
     "execution_count": 6,
     "metadata": {},
     "output_type": "execute_result"
    }
   ],
   "source": [
    "ingredients = ____\n",
    "\n",
    "# Check your answer\n",
    "q3.check()\n",
    "ingredients"
   ]
  },
  {
   "cell_type": "code",
   "execution_count": 7,
   "id": "53934e2d",
   "metadata": {
    "execution": {
     "iopub.execute_input": "2022-02-21T22:27:29.818370Z",
     "iopub.status.busy": "2022-02-21T22:27:29.817760Z",
     "iopub.status.idle": "2022-02-21T22:27:29.820731Z",
     "shell.execute_reply": "2022-02-21T22:27:29.821356Z"
    },
    "papermill": {
     "duration": 0.035768,
     "end_time": "2022-02-21T22:27:29.821515",
     "exception": false,
     "start_time": "2022-02-21T22:27:29.785747",
     "status": "completed"
    },
    "tags": []
   },
   "outputs": [],
   "source": [
    "#q3.hint()\n",
    "#q3.solution()"
   ]
  },
  {
   "cell_type": "markdown",
   "id": "7bb610f3",
   "metadata": {
    "papermill": {
     "duration": 0.030061,
     "end_time": "2022-02-21T22:27:29.882054",
     "exception": false,
     "start_time": "2022-02-21T22:27:29.851993",
     "status": "completed"
    },
    "tags": []
   },
   "source": [
    "## 4.\n",
    "\n",
    "Read the following csv dataset of wine reviews into a DataFrame called `reviews`:\n",
    "\n",
    "![](https://i.imgur.com/74RCZtU.png)\n",
    "\n",
    "The filepath to the csv file is `../input/wine-reviews/winemag-data_first150k.csv`. The first few lines look like:\n",
    "\n",
    "```\n",
    ",country,description,designation,points,price,province,region_1,region_2,variety,winery\n",
    "0,US,\"This tremendous 100% varietal wine[...]\",Martha's Vineyard,96,235.0,California,Napa Valley,Napa,Cabernet Sauvignon,Heitz\n",
    "1,Spain,\"Ripe aromas of fig, blackberry and[...]\",Carodorum Selección Especial Reserva,96,110.0,Northern Spain,Toro,,Tinta de Toro,Bodega Carmen Rodríguez\n",
    "```"
   ]
  },
  {
   "cell_type": "code",
   "execution_count": 8,
   "id": "10bc40df",
   "metadata": {
    "execution": {
     "iopub.execute_input": "2022-02-21T22:27:29.947219Z",
     "iopub.status.busy": "2022-02-21T22:27:29.946506Z",
     "iopub.status.idle": "2022-02-21T22:27:29.953038Z",
     "shell.execute_reply": "2022-02-21T22:27:29.953568Z"
    },
    "papermill": {
     "duration": 0.041379,
     "end_time": "2022-02-21T22:27:29.953753",
     "exception": false,
     "start_time": "2022-02-21T22:27:29.912374",
     "status": "completed"
    },
    "tags": []
   },
   "outputs": [
    {
     "data": {
      "application/javascript": [
       "parent.postMessage({\"jupyterEvent\": \"custom.exercise_interaction\", \"data\": {\"outcomeType\": 4, \"interactionType\": 1, \"questionType\": 1, \"questionId\": \"4_ReadWineCsv\", \"learnToolsVersion\": \"0.3.4\", \"valueTowardsCompletion\": 0.0, \"failureMessage\": \"\", \"exceptionClass\": \"\", \"trace\": \"\"}}, \"*\")"
      ],
      "text/plain": [
       "<IPython.core.display.Javascript object>"
      ]
     },
     "metadata": {},
     "output_type": "display_data"
    },
    {
     "data": {
      "text/markdown": [
       "<span style=\"color:#ccaa33\">Check:</span> When you've updated the starter code, `check()` will tell you whether your code is correct. You need to update the code that creates variable `reviews`"
      ],
      "text/plain": [
       "Check: When you've updated the starter code, `check()` will tell you whether your code is correct. You need to update the code that creates variable `reviews`"
      ]
     },
     "metadata": {},
     "output_type": "display_data"
    },
    {
     "data": {
      "text/markdown": [],
      "text/plain": [
       "<learntools.core.constants.PlaceholderValue at 0x7fe53d1076d0>"
      ]
     },
     "execution_count": 8,
     "metadata": {},
     "output_type": "execute_result"
    }
   ],
   "source": [
    "reviews = ____\n",
    "\n",
    "# Check your answer\n",
    "q4.check()\n",
    "reviews"
   ]
  },
  {
   "cell_type": "code",
   "execution_count": 9,
   "id": "5cabe430",
   "metadata": {
    "execution": {
     "iopub.execute_input": "2022-02-21T22:27:30.024183Z",
     "iopub.status.busy": "2022-02-21T22:27:30.023470Z",
     "iopub.status.idle": "2022-02-21T22:27:30.026283Z",
     "shell.execute_reply": "2022-02-21T22:27:30.025712Z"
    },
    "papermill": {
     "duration": 0.039942,
     "end_time": "2022-02-21T22:27:30.026410",
     "exception": false,
     "start_time": "2022-02-21T22:27:29.986468",
     "status": "completed"
    },
    "tags": []
   },
   "outputs": [],
   "source": [
    "#q4.hint()\n",
    "#q4.solution()"
   ]
  },
  {
   "cell_type": "markdown",
   "id": "c05b824e",
   "metadata": {
    "papermill": {
     "duration": 0.021184,
     "end_time": "2022-02-21T22:27:30.069715",
     "exception": false,
     "start_time": "2022-02-21T22:27:30.048531",
     "status": "completed"
    },
    "tags": []
   },
   "source": [
    "## 5.\n",
    "\n",
    "Run the cell below to create and display a DataFrame called `animals`:"
   ]
  },
  {
   "cell_type": "code",
   "execution_count": 10,
   "id": "87e0178d",
   "metadata": {
    "execution": {
     "iopub.execute_input": "2022-02-21T22:27:30.120350Z",
     "iopub.status.busy": "2022-02-21T22:27:30.115585Z",
     "iopub.status.idle": "2022-02-21T22:27:30.128772Z",
     "shell.execute_reply": "2022-02-21T22:27:30.129310Z"
    },
    "papermill": {
     "duration": 0.038745,
     "end_time": "2022-02-21T22:27:30.129479",
     "exception": false,
     "start_time": "2022-02-21T22:27:30.090734",
     "status": "completed"
    },
    "tags": []
   },
   "outputs": [
    {
     "data": {
      "text/html": [
       "<div>\n",
       "<style scoped>\n",
       "    .dataframe tbody tr th:only-of-type {\n",
       "        vertical-align: middle;\n",
       "    }\n",
       "\n",
       "    .dataframe tbody tr th {\n",
       "        vertical-align: top;\n",
       "    }\n",
       "\n",
       "    .dataframe thead th {\n",
       "        text-align: right;\n",
       "    }\n",
       "</style>\n",
       "<table border=\"1\" class=\"dataframe\">\n",
       "  <thead>\n",
       "    <tr style=\"text-align: right;\">\n",
       "      <th></th>\n",
       "      <th>Cows</th>\n",
       "      <th>Goats</th>\n",
       "    </tr>\n",
       "  </thead>\n",
       "  <tbody>\n",
       "    <tr>\n",
       "      <th>Year 1</th>\n",
       "      <td>12</td>\n",
       "      <td>22</td>\n",
       "    </tr>\n",
       "    <tr>\n",
       "      <th>Year 2</th>\n",
       "      <td>20</td>\n",
       "      <td>19</td>\n",
       "    </tr>\n",
       "  </tbody>\n",
       "</table>\n",
       "</div>"
      ],
      "text/plain": [
       "        Cows  Goats\n",
       "Year 1    12     22\n",
       "Year 2    20     19"
      ]
     },
     "execution_count": 10,
     "metadata": {},
     "output_type": "execute_result"
    }
   ],
   "source": [
    "animals = pd.DataFrame({'Cows': [12, 20], 'Goats': [22, 19]}, index=['Year 1', 'Year 2'])\n",
    "animals"
   ]
  },
  {
   "cell_type": "markdown",
   "id": "4f73d5c6",
   "metadata": {
    "papermill": {
     "duration": 0.032193,
     "end_time": "2022-02-21T22:27:30.194204",
     "exception": false,
     "start_time": "2022-02-21T22:27:30.162011",
     "status": "completed"
    },
    "tags": []
   },
   "source": [
    "In the cell below, write code to save this DataFrame to disk as a csv file with the name `cows_and_goats.csv`."
   ]
  },
  {
   "cell_type": "code",
   "execution_count": 11,
   "id": "abf254df",
   "metadata": {
    "execution": {
     "iopub.execute_input": "2022-02-21T22:27:30.266050Z",
     "iopub.status.busy": "2022-02-21T22:27:30.265302Z",
     "iopub.status.idle": "2022-02-21T22:27:30.272105Z",
     "shell.execute_reply": "2022-02-21T22:27:30.272662Z"
    },
    "papermill": {
     "duration": 0.044371,
     "end_time": "2022-02-21T22:27:30.272861",
     "exception": false,
     "start_time": "2022-02-21T22:27:30.228490",
     "status": "completed"
    },
    "tags": []
   },
   "outputs": [
    {
     "data": {
      "application/javascript": [
       "parent.postMessage({\"jupyterEvent\": \"custom.exercise_interaction\", \"data\": {\"outcomeType\": 2, \"failureMessage\": \"Expected file to exist with name `cows_and_goats.csv`\", \"interactionType\": 1, \"questionType\": 2, \"questionId\": \"5_SaveAnimalsCsv\", \"learnToolsVersion\": \"0.3.4\", \"valueTowardsCompletion\": 0.0, \"exceptionClass\": \"\", \"trace\": \"\"}}, \"*\")"
      ],
      "text/plain": [
       "<IPython.core.display.Javascript object>"
      ]
     },
     "metadata": {},
     "output_type": "display_data"
    },
    {
     "data": {
      "text/markdown": [
       "<span style=\"color:#cc3333\">Incorrect:</span> Expected file to exist with name `cows_and_goats.csv`"
      ],
      "text/plain": [
       "Incorrect: Expected file to exist with name `cows_and_goats.csv`"
      ]
     },
     "metadata": {},
     "output_type": "display_data"
    }
   ],
   "source": [
    "# Your code goes here\n",
    "\n",
    "# Check your answer\n",
    "q5.check()"
   ]
  },
  {
   "cell_type": "code",
   "execution_count": 12,
   "id": "b9998ac0",
   "metadata": {
    "execution": {
     "iopub.execute_input": "2022-02-21T22:27:30.346826Z",
     "iopub.status.busy": "2022-02-21T22:27:30.346235Z",
     "iopub.status.idle": "2022-02-21T22:27:30.349503Z",
     "shell.execute_reply": "2022-02-21T22:27:30.349997Z"
    },
    "papermill": {
     "duration": 0.042043,
     "end_time": "2022-02-21T22:27:30.350141",
     "exception": false,
     "start_time": "2022-02-21T22:27:30.308098",
     "status": "completed"
    },
    "tags": []
   },
   "outputs": [],
   "source": [
    "#q5.hint()\n",
    "#q5.solution()"
   ]
  },
  {
   "cell_type": "markdown",
   "id": "bf9142c8",
   "metadata": {
    "papermill": {
     "duration": 0.03369,
     "end_time": "2022-02-21T22:27:30.418986",
     "exception": false,
     "start_time": "2022-02-21T22:27:30.385296",
     "status": "completed"
    },
    "tags": []
   },
   "source": [
    "# Keep going\n",
    "\n",
    "Move on to learn about **[indexing, selecting and assigning](https://www.kaggle.com/residentmario/indexing-selecting-assigning)**."
   ]
  },
  {
   "cell_type": "markdown",
   "id": "92dfb2ab",
   "metadata": {
    "papermill": {
     "duration": 0.034231,
     "end_time": "2022-02-21T22:27:30.488789",
     "exception": false,
     "start_time": "2022-02-21T22:27:30.454558",
     "status": "completed"
    },
    "tags": []
   },
   "source": [
    "---\n",
    "\n",
    "\n",
    "\n",
    "\n",
    "*Have questions or comments? Visit the [course discussion forum](https://www.kaggle.com/learn/pandas/discussion) to chat with other learners.*"
   ]
  }
 ],
 "metadata": {
  "kernelspec": {
   "display_name": "Python 3",
   "language": "python",
   "name": "python3"
  },
  "language_info": {
   "codemirror_mode": {
    "name": "ipython",
    "version": 3
   },
   "file_extension": ".py",
   "mimetype": "text/x-python",
   "name": "python",
   "nbconvert_exporter": "python",
   "pygments_lexer": "ipython3",
   "version": "3.7.12"
  },
  "papermill": {
   "default_parameters": {},
   "duration": 13.033117,
   "end_time": "2022-02-21T22:27:31.136079",
   "environment_variables": {},
   "exception": null,
   "input_path": "__notebook__.ipynb",
   "output_path": "__notebook__.ipynb",
   "parameters": {},
   "start_time": "2022-02-21T22:27:18.102962",
   "version": "2.3.3"
  }
 },
 "nbformat": 4,
 "nbformat_minor": 5
}
